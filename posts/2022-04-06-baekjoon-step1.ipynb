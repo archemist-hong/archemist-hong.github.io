{
 "cells": [
  {
   "cell_type": "markdown",
   "id": "1740987b",
   "metadata": {},
   "source": [
    "# 백준 1단계, 입출력과 사칙연산"
   ]
  },
  {
   "cell_type": "markdown",
   "id": "c06a9f92",
   "metadata": {},
   "source": [
    "## [2557](https://www.acmicpc.net/problem/2557)"
   ]
  },
  {
   "cell_type": "code",
   "execution_count": 1,
   "id": "b57e1d14",
   "metadata": {},
   "outputs": [
    {
     "name": "stdout",
     "output_type": "stream",
     "text": [
      "Hellow World!\n"
     ]
    }
   ],
   "source": [
    "print(\"Hellow World!\")"
   ]
  },
  {
   "cell_type": "markdown",
   "id": "86ff7233",
   "metadata": {},
   "source": [
    "## [10718](https://www.acmicpc.net/problem/10718)"
   ]
  },
  {
   "cell_type": "code",
   "execution_count": 3,
   "id": "5f30f976",
   "metadata": {},
   "outputs": [
    {
     "name": "stdout",
     "output_type": "stream",
     "text": [
      "강한친구 대한육군\n",
      "강한친구 대한육군\n"
     ]
    }
   ],
   "source": [
    "for i in range(0, 2):\n",
    "    print(\"강한친구 대한육군\")"
   ]
  },
  {
   "cell_type": "markdown",
   "id": "9e1aacf0",
   "metadata": {},
   "source": [
    "## [10171](https://www.acmicpc.net/problem/10171)"
   ]
  },
  {
   "cell_type": "code",
   "execution_count": 4,
   "id": "318d6ae6",
   "metadata": {},
   "outputs": [
    {
     "name": "stdout",
     "output_type": "stream",
     "text": [
      "\\    /\\\n",
      " )  ( ')\n",
      "(  /  )\n",
      " \\(__)|\n"
     ]
    }
   ],
   "source": [
    "print(\"\\\\    /\\\\\")\n",
    "print(\" )  ( ')\")\n",
    "print(\"(  /  )\")\n",
    "print(\" \\\\(__)|\")"
   ]
  },
  {
   "cell_type": "markdown",
   "id": "87b294c0",
   "metadata": {},
   "source": [
    "## [10172](https://www.acmicpc.net/problem/10172)"
   ]
  },
  {
   "cell_type": "code",
   "execution_count": 5,
   "id": "6e811bd6",
   "metadata": {},
   "outputs": [
    {
     "name": "stdout",
     "output_type": "stream",
     "text": [
      "|\\_/|\n",
      "|q p|   /}\n",
      "( 0 )\"\"\"\\\n",
      "|\"^\"`    |\n",
      "||_/=\\\\__|\n"
     ]
    }
   ],
   "source": [
    "print(\"|\\\\_/|\")\n",
    "print(\"|q p|   /}\")\n",
    "print('( 0 )\"\"\"\\\\')\n",
    "print('|\"^\"`    |')\n",
    "print(\"||_/=\\\\\\\\__|\")"
   ]
  },
  {
   "cell_type": "markdown",
   "id": "768b5f24",
   "metadata": {},
   "source": [
    "## [1000](https://www.acmicpc.net/problem/1000)"
   ]
  },
  {
   "cell_type": "code",
   "execution_count": 15,
   "id": "dcb20d50",
   "metadata": {},
   "outputs": [
    {
     "name": "stdout",
     "output_type": "stream",
     "text": [
      "1 2\n",
      "3\n"
     ]
    }
   ],
   "source": [
    "_input = input().split()\n",
    "_input = [int(i) for i in _input] # casting (str -> int)\n",
    "print(sum(_input))"
   ]
  },
  {
   "cell_type": "markdown",
   "id": "41588b97",
   "metadata": {},
   "source": [
    "## [1001](https://www.acmicpc.net/problem/1001)"
   ]
  },
  {
   "cell_type": "code",
   "execution_count": 17,
   "id": "2d456d0a",
   "metadata": {},
   "outputs": [
    {
     "name": "stdout",
     "output_type": "stream",
     "text": [
      "3 2\n",
      "1\n"
     ]
    }
   ],
   "source": [
    "_input = input().split()\n",
    "_input = [int(i) for i in _input] # casting (str -> int)\n",
    "print(_input[0] - _input[1])"
   ]
  },
  {
   "cell_type": "markdown",
   "id": "29697060",
   "metadata": {},
   "source": [
    "## [10998](https://www.acmicpc.net/problem/10998)"
   ]
  },
  {
   "cell_type": "code",
   "execution_count": 18,
   "id": "e92c0ef0",
   "metadata": {},
   "outputs": [
    {
     "name": "stdout",
     "output_type": "stream",
     "text": [
      "1 2\n",
      "2\n"
     ]
    }
   ],
   "source": [
    "_input = input().split()\n",
    "_input = [int(i) for i in _input] # casting (str -> int)\n",
    "print(_input[0] * _input[1])"
   ]
  },
  {
   "cell_type": "markdown",
   "id": "1ef81fff",
   "metadata": {},
   "source": [
    "## [1008](https://www.acmicpc.net/problem/1008)"
   ]
  },
  {
   "cell_type": "code",
   "execution_count": 19,
   "id": "953fb5f0",
   "metadata": {},
   "outputs": [
    {
     "name": "stdout",
     "output_type": "stream",
     "text": [
      "1 3\n",
      "0.3333333333333333\n"
     ]
    }
   ],
   "source": [
    "_input = input().split()\n",
    "_input = [int(i) for i in _input] # casting (str -> int)\n",
    "print(_input[0] / _input[1])"
   ]
  },
  {
   "cell_type": "markdown",
   "id": "0b661d29",
   "metadata": {},
   "source": [
    "## [10869](https://www.acmicpc.net/problem/10869)"
   ]
  },
  {
   "cell_type": "code",
   "execution_count": 21,
   "id": "3df41a5c",
   "metadata": {},
   "outputs": [
    {
     "name": "stdout",
     "output_type": "stream",
     "text": [
      "7 3\n",
      "10\n",
      "4\n",
      "21\n",
      "2\n",
      "1\n"
     ]
    }
   ],
   "source": [
    "_input = input().split()\n",
    "_input = [int(i) for i in _input] # casting (str -> int)\n",
    "print(_input[0] + _input[1])\n",
    "print(_input[0] - _input[1])\n",
    "print(_input[0] * _input[1])\n",
    "print(_input[0] // _input[1])\n",
    "print(_input[0] % _input[1])"
   ]
  },
  {
   "cell_type": "markdown",
   "id": "817195b4",
   "metadata": {},
   "source": [
    "## [10926](https://www.acmicpc.net/problem/10926)"
   ]
  },
  {
   "cell_type": "code",
   "execution_count": 22,
   "id": "a1ecc53f",
   "metadata": {},
   "outputs": [
    {
     "name": "stdout",
     "output_type": "stream",
     "text": [
      "joonas\n",
      "joonas??!\n"
     ]
    }
   ],
   "source": [
    "_id = input()\n",
    "print(_id + \"??!\")"
   ]
  },
  {
   "cell_type": "markdown",
   "id": "6c5d4ae7",
   "metadata": {},
   "source": [
    "## [18108](https://www.acmicpc.net/problem/18108)"
   ]
  },
  {
   "cell_type": "code",
   "execution_count": 24,
   "id": "04eac737",
   "metadata": {},
   "outputs": [
    {
     "name": "stdout",
     "output_type": "stream",
     "text": [
      "2541\n",
      "1998\n"
     ]
    }
   ],
   "source": [
    "year = input()\n",
    "print(int(year) - 543)"
   ]
  },
  {
   "cell_type": "markdown",
   "id": "a53c8977",
   "metadata": {},
   "source": [
    "## [10430](https://www.acmicpc.net/problem/10430)"
   ]
  },
  {
   "cell_type": "code",
   "execution_count": 27,
   "id": "364c7436",
   "metadata": {},
   "outputs": [
    {
     "name": "stdout",
     "output_type": "stream",
     "text": [
      "5 8 4\n",
      "1\n",
      "1\n",
      "0\n",
      "0\n"
     ]
    }
   ],
   "source": [
    "_input = input().split()\n",
    "_input = [int(i) for i in _input] # casting (str -> int)\n",
    "a, b, c = _input\n",
    "print((a + b) % c)\n",
    "print(((a % c) + (b % c)) % c)\n",
    "print((a * b) % c)\n",
    "print(((a % c) * (b % c)) % c)"
   ]
  },
  {
   "cell_type": "markdown",
   "id": "213d1d6f",
   "metadata": {},
   "source": [
    "## [2588](https://www.acmicpc.net/problem/2588)"
   ]
  },
  {
   "cell_type": "code",
   "execution_count": 36,
   "id": "111de43f",
   "metadata": {},
   "outputs": [
    {
     "name": "stdout",
     "output_type": "stream",
     "text": [
      "472\n",
      "385\n",
      "2360\n",
      "3776\n",
      "1416\n",
      "181720\n"
     ]
    }
   ],
   "source": [
    "three_digit_natural_number1 = int(input())\n",
    "three_digit_natural_number2 = input()\n",
    "\n",
    "multiplication_factors = [int(d) for d in three_digit_natural_number2[::-1]] # reverse, casting (str -> int)\n",
    "\n",
    "for digit in range(0, len(multiplication_factors)):\n",
    "    print(three_digit_natural_number1 * multiplication_factors[digit])\n",
    "\n",
    "print(three_digit_natural_number1 * int(three_digit_natural_number2))"
   ]
  }
 ],
 "metadata": {
  "kernelspec": {
   "display_name": "Python 3 (ipykernel)",
   "language": "python",
   "name": "python3"
  },
  "language_info": {
   "codemirror_mode": {
    "name": "ipython",
    "version": 3
   },
   "file_extension": ".py",
   "mimetype": "text/x-python",
   "name": "python",
   "nbconvert_exporter": "python",
   "pygments_lexer": "ipython3",
   "version": "3.9.7"
  }
 },
 "nbformat": 4,
 "nbformat_minor": 5
}
