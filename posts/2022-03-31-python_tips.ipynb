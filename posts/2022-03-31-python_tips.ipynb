{
 "cells": [
  {
   "cell_type": "markdown",
   "id": "d25716b6",
   "metadata": {},
   "source": [
    "# python 공부"
   ]
  },
  {
   "cell_type": "markdown",
   "id": "623672b6",
   "metadata": {},
   "source": [
    "## 연산자 축약"
   ]
  },
  {
   "cell_type": "markdown",
   "id": "ff53acf0",
   "metadata": {},
   "source": [
    "a = a - 4 는 a -= 4 로 축약하여 쓸 수 있다."
   ]
  },
  {
   "cell_type": "code",
   "execution_count": 6,
   "id": "139a126e",
   "metadata": {},
   "outputs": [
    {
     "name": "stdout",
     "output_type": "stream",
     "text": [
      "1\n"
     ]
    }
   ],
   "source": [
    "a = 5\n",
    "a = a - 4\n",
    "print(a)"
   ]
  },
  {
   "cell_type": "code",
   "execution_count": 7,
   "id": "e0fd3f6d",
   "metadata": {},
   "outputs": [
    {
     "name": "stdout",
     "output_type": "stream",
     "text": [
      "1\n"
     ]
    }
   ],
   "source": [
    "a = 5\n",
    "a -= 4\n",
    "print(a)"
   ]
  },
  {
   "cell_type": "markdown",
   "id": "965ebe62",
   "metadata": {},
   "source": [
    "이와 비슷하게 -=, +=, \\*=, \\*\\*= 등으로 축약하여 사용할 수 있다."
   ]
  },
  {
   "cell_type": "code",
   "execution_count": 8,
   "id": "34e12478",
   "metadata": {},
   "outputs": [
    {
     "name": "stdout",
     "output_type": "stream",
     "text": [
      "25\n"
     ]
    }
   ],
   "source": [
    "a = 5\n",
    "a = a ** 2\n",
    "print(a)"
   ]
  },
  {
   "cell_type": "code",
   "execution_count": 10,
   "id": "c20e3211",
   "metadata": {},
   "outputs": [
    {
     "name": "stdout",
     "output_type": "stream",
     "text": [
      "25\n"
     ]
    }
   ],
   "source": [
    "a = 5\n",
    "a **= 2\n",
    "print(a)"
   ]
  },
  {
   "cell_type": "markdown",
   "id": "1360a73e",
   "metadata": {},
   "source": [
    "## slicing"
   ]
  },
  {
   "cell_type": "markdown",
   "id": "fb59adc4",
   "metadata": {},
   "source": [
    "파이썬은 slicing 이라는 기능을 제공하는데, 다음과 같은 형태로 인덱스를 제공하여 사용할 수 있다.\n",
    "\n",
    " - **start:end:increment**\n",
    "\n",
    "index는 0부터 시작하며, end로 넘겨준 값은 포함하지 않는다.\n",
    "increment는 생략하면 default = 1이다."
   ]
  },
  {
   "cell_type": "code",
   "execution_count": 13,
   "id": "f9a3d3af",
   "metadata": {},
   "outputs": [
    {
     "name": "stdout",
     "output_type": "stream",
     "text": [
      "2345\n"
     ]
    }
   ],
   "source": [
    "a = '123456789'\n",
    "print(a[1:5])"
   ]
  },
  {
   "cell_type": "markdown",
   "id": "cfa961d8",
   "metadata": {},
   "source": [
    "처음부터 slicing하고 싶은 경우에는 : 앞을 생략한다"
   ]
  },
  {
   "cell_type": "code",
   "execution_count": 14,
   "id": "0fde04a6",
   "metadata": {},
   "outputs": [
    {
     "name": "stdout",
     "output_type": "stream",
     "text": [
      "12345\n"
     ]
    }
   ],
   "source": [
    "print(a[:5])"
   ]
  },
  {
   "cell_type": "markdown",
   "id": "a65e1744",
   "metadata": {},
   "source": [
    "마찬가지로 마지막까지 slicing하고 싶은 경우에는 : 뒤를 생략한다."
   ]
  },
  {
   "cell_type": "code",
   "execution_count": 15,
   "id": "bfe6f7dd",
   "metadata": {},
   "outputs": [
    {
     "name": "stdout",
     "output_type": "stream",
     "text": [
      "23456789\n"
     ]
    }
   ],
   "source": [
    "print(a[1:])"
   ]
  },
  {
   "cell_type": "markdown",
   "id": "3a366ec8",
   "metadata": {},
   "source": [
    "increment를 활용하여 3칸씩 건너뛸 수도 있다."
   ]
  },
  {
   "cell_type": "code",
   "execution_count": 16,
   "id": "e12915d6",
   "metadata": {},
   "outputs": [
    {
     "name": "stdout",
     "output_type": "stream",
     "text": [
      "147\n"
     ]
    }
   ],
   "source": [
    "print(a[::3])"
   ]
  },
  {
   "cell_type": "markdown",
   "id": "69041fbf",
   "metadata": {},
   "source": [
    "## docstring 단축키"
   ]
  },
  {
   "cell_type": "markdown",
   "id": "745f9dfc",
   "metadata": {},
   "source": [
    "jupyter notebook 활용시, docstring을 보고 싶은 함수위에 커서를 두고 shitf + tab을 입력하면 docstring을 확인할 수 있다."
   ]
  },
  {
   "cell_type": "code",
   "execution_count": null,
   "id": "f1314d7b",
   "metadata": {},
   "outputs": [],
   "source": [
    "a.join()"
   ]
  },
  {
   "cell_type": "markdown",
   "id": "ab33a7e7",
   "metadata": {},
   "source": [
    "그외에도 편리한 단축키 모음은 Help -> Keyboard shortcuts 에서 확인할 수 있다."
   ]
  },
  {
   "cell_type": "markdown",
   "id": "97421c3c",
   "metadata": {},
   "source": [
    "## in 연산"
   ]
  },
  {
   "cell_type": "markdown",
   "id": "861ee2ff",
   "metadata": {},
   "source": [
    "리스트 안에 내가 원하는 값이 들어있는지 확인하고 싶은 경우가 있다.\n",
    "\n",
    "그런 경우 **value in list** 형태로 간단히 확인할 수 있다."
   ]
  },
  {
   "cell_type": "code",
   "execution_count": 20,
   "id": "a331b932",
   "metadata": {},
   "outputs": [
    {
     "name": "stdout",
     "output_type": "stream",
     "text": [
      "True\n"
     ]
    }
   ],
   "source": [
    "a = [1, 5, 8, 11, 16, 17]\n",
    "print(16 in a)"
   ]
  },
  {
   "cell_type": "markdown",
   "id": "88448dcd",
   "metadata": {},
   "source": [
    "딕셔너리에도 같은 방법을 적용할 수 있는데, 이 방법으로 내가 원하는 key가 dictionary에 있는지 확인할 수 있다."
   ]
  },
  {
   "cell_type": "code",
   "execution_count": 23,
   "id": "d2beb7da",
   "metadata": {},
   "outputs": [
    {
     "name": "stdout",
     "output_type": "stream",
     "text": [
      "False\n"
     ]
    }
   ],
   "source": [
    "a = {'key1' : 'value1', 'key2' : 'value2'}\n",
    "print('key3' in a)"
   ]
  },
  {
   "cell_type": "markdown",
   "id": "69f10f56",
   "metadata": {},
   "source": [
    "이 방법으로 value는 확인할 수 없다."
   ]
  },
  {
   "cell_type": "code",
   "execution_count": 24,
   "id": "d477dde0",
   "metadata": {},
   "outputs": [
    {
     "name": "stdout",
     "output_type": "stream",
     "text": [
      "False\n"
     ]
    }
   ],
   "source": [
    "a = {'key1' : 'value1', 'key2' : 'value2'}\n",
    "print('value1' in a)"
   ]
  },
  {
   "cell_type": "markdown",
   "id": "c46f5162",
   "metadata": {},
   "source": [
    "## tuple unpacking"
   ]
  },
  {
   "cell_type": "markdown",
   "id": "187ce072",
   "metadata": {},
   "source": [
    "튜플은 튜플의 값을 차례대로 변수에 대입할 수 있는 tuple unpacking을 지원한다."
   ]
  },
  {
   "cell_type": "code",
   "execution_count": 27,
   "id": "52988643",
   "metadata": {},
   "outputs": [
    {
     "name": "stdout",
     "output_type": "stream",
     "text": [
      "4 8 46\n"
     ]
    }
   ],
   "source": [
    "a = (4, 8, 46)\n",
    "b, c, d = a\n",
    "print(b, c, d)"
   ]
  },
  {
   "cell_type": "markdown",
   "id": "15a6e573",
   "metadata": {},
   "source": [
    "이것을 잘 활용하면, 하나의 함수에서 복수개의 리턴값을 받을 수 있다."
   ]
  },
  {
   "cell_type": "code",
   "execution_count": 64,
   "id": "c30ef9bd",
   "metadata": {},
   "outputs": [
    {
     "name": "stdout",
     "output_type": "stream",
     "text": [
      "6 8 9\n"
     ]
    }
   ],
   "source": [
    "def add_3_5_6(_input):\n",
    "    return (_input + 3, _input + 5, _input + 6)\n",
    "e, f, g = add_3_5_6(3)\n",
    "print(e, f, g)"
   ]
  },
  {
   "cell_type": "markdown",
   "id": "627b0e8b",
   "metadata": {},
   "source": [
    "## dictionary 자료형"
   ]
  },
  {
   "cell_type": "markdown",
   "id": "3f7a4d00",
   "metadata": {},
   "source": [
    "python의 dictionary는 인덱스가 없으므로 순서를 따지지 않는다. \n",
    "대신 key가 존재한다."
   ]
  },
  {
   "cell_type": "code",
   "execution_count": 33,
   "id": "755e2fd0",
   "metadata": {},
   "outputs": [
    {
     "name": "stdout",
     "output_type": "stream",
     "text": [
      "value1\n"
     ]
    }
   ],
   "source": [
    "a = {'key1' : 'value1', 'key2' : 'value2'}\n",
    "print(a['key1'])"
   ]
  },
  {
   "cell_type": "markdown",
   "id": "68880173",
   "metadata": {},
   "source": [
    "### 추가"
   ]
  },
  {
   "cell_type": "markdown",
   "id": "8134db8d",
   "metadata": {},
   "source": [
    "새로운 key와 value 쌍을 추가 하고 싶으면, 다음과 같이 입력한다.\n",
    "\n",
    "**a['새로운 키'] = 새로운 value**"
   ]
  },
  {
   "cell_type": "code",
   "execution_count": 35,
   "id": "87c34984",
   "metadata": {},
   "outputs": [
    {
     "name": "stdout",
     "output_type": "stream",
     "text": [
      "{'key1': 'value1', 'key2': 'value2', 'key3': 'value3'}\n"
     ]
    }
   ],
   "source": [
    "a['key3'] = 'value3'\n",
    "print(a)"
   ]
  },
  {
   "cell_type": "markdown",
   "id": "577c7b29",
   "metadata": {},
   "source": [
    "### 업데이트"
   ]
  },
  {
   "cell_type": "markdown",
   "id": "5b78d0e8",
   "metadata": {},
   "source": [
    "하나의 key에 대해 다른 value가 들어오면, 그 value로 업데이트 된다."
   ]
  },
  {
   "cell_type": "code",
   "execution_count": 37,
   "id": "040b3330",
   "metadata": {},
   "outputs": [
    {
     "name": "stdout",
     "output_type": "stream",
     "text": [
      "value3\n"
     ]
    }
   ],
   "source": [
    "a['key1'] = 'value3'\n",
    "print(a['key1'])"
   ]
  },
  {
   "cell_type": "markdown",
   "id": "0115edd9",
   "metadata": {},
   "source": [
    "딕셔너리의 update 메서드는 두개의 딕셔너리를 병합한다.\n",
    "이 때, 겹치는 키가 있다면, parameter로 넘겨진 값으로 덮어씌워진다."
   ]
  },
  {
   "cell_type": "code",
   "execution_count": 38,
   "id": "a2a4e2d7",
   "metadata": {},
   "outputs": [
    {
     "name": "stdout",
     "output_type": "stream",
     "text": [
      "{'key1': 'value3', 'key2': 'value2', 'key3': 'value3'}\n",
      "{'key1': 'value1', 'key4': 'value4'}\n"
     ]
    }
   ],
   "source": [
    "print(a)\n",
    "b = {'key1' : 'value1', 'key4' : 'value4'}\n",
    "print(b)"
   ]
  },
  {
   "cell_type": "code",
   "execution_count": 40,
   "id": "ca9616a0",
   "metadata": {},
   "outputs": [
    {
     "name": "stdout",
     "output_type": "stream",
     "text": [
      "{'key1': 'value1', 'key2': 'value2', 'key3': 'value3', 'key4': 'value4'}\n"
     ]
    }
   ],
   "source": [
    "a.update(b)\n",
    "print(a)"
   ]
  },
  {
   "cell_type": "markdown",
   "id": "9b7689c1",
   "metadata": {},
   "source": [
    "### 초기화"
   ]
  },
  {
   "cell_type": "markdown",
   "id": "a37f3ab0",
   "metadata": {},
   "source": [
    "clear 메서드로 초기화 할 수 있다."
   ]
  },
  {
   "cell_type": "code",
   "execution_count": 41,
   "id": "bf44bf0c",
   "metadata": {},
   "outputs": [
    {
     "name": "stdout",
     "output_type": "stream",
     "text": [
      "{}\n"
     ]
    }
   ],
   "source": [
    "a.clear()\n",
    "print(a)"
   ]
  },
  {
   "cell_type": "markdown",
   "id": "6e031f0f",
   "metadata": {},
   "source": [
    "### 존재하지 않는 key 접근"
   ]
  },
  {
   "cell_type": "markdown",
   "id": "28d775c7",
   "metadata": {},
   "source": [
    "존재하지 않는 key에 대해 접근하면, dict['key']를 통한 접근은 KeyError가 발생한다."
   ]
  },
  {
   "cell_type": "code",
   "execution_count": 43,
   "id": "c4615a64",
   "metadata": {},
   "outputs": [
    {
     "ename": "KeyError",
     "evalue": "'key5'",
     "output_type": "error",
     "traceback": [
      "\u001b[1;31m---------------------------------------------------------------------------\u001b[0m",
      "\u001b[1;31mKeyError\u001b[0m                                  Traceback (most recent call last)",
      "\u001b[1;32m~\\AppData\\Local\\Temp/ipykernel_14384/3477355251.py\u001b[0m in \u001b[0;36m<module>\u001b[1;34m\u001b[0m\n\u001b[1;32m----> 1\u001b[1;33m \u001b[0mb\u001b[0m\u001b[1;33m[\u001b[0m\u001b[1;34m'key5'\u001b[0m\u001b[1;33m]\u001b[0m\u001b[1;33m\u001b[0m\u001b[1;33m\u001b[0m\u001b[0m\n\u001b[0m",
      "\u001b[1;31mKeyError\u001b[0m: 'key5'"
     ]
    }
   ],
   "source": [
    "b['key5']"
   ]
  },
  {
   "cell_type": "markdown",
   "id": "d948c484",
   "metadata": {},
   "source": [
    "그러나 get함수를 통한 접근은 None을 리턴하므로, 프로그램이 중간에 오류로 인해 멈추지 않는다."
   ]
  },
  {
   "cell_type": "code",
   "execution_count": 45,
   "id": "ed2fc336",
   "metadata": {},
   "outputs": [
    {
     "name": "stdout",
     "output_type": "stream",
     "text": [
      "None\n"
     ]
    }
   ],
   "source": [
    "print(b.get('key5'))"
   ]
  },
  {
   "cell_type": "markdown",
   "id": "d2eabeab",
   "metadata": {},
   "source": [
    "## boolean"
   ]
  },
  {
   "cell_type": "markdown",
   "id": "6b0b6076",
   "metadata": {},
   "source": [
    "python도 다른 프로그램과 같이 0은 False, 0이 아닌 값은 True로 인식한다.\n",
    "\n",
    "그러나 특이한점은 None 또는 비어있는 자료형도 False로 활용할 수 있고, 값이 들어있는 자료형은 True로 활용할 수 있다."
   ]
  },
  {
   "cell_type": "code",
   "execution_count": 47,
   "id": "c639c3a3",
   "metadata": {},
   "outputs": [
    {
     "data": {
      "text/plain": [
       "True"
      ]
     },
     "execution_count": 47,
     "metadata": {},
     "output_type": "execute_result"
    }
   ],
   "source": [
    "0 == False"
   ]
  },
  {
   "cell_type": "code",
   "execution_count": 57,
   "id": "d713c79e",
   "metadata": {},
   "outputs": [],
   "source": [
    "if None:\n",
    "    print('True')"
   ]
  },
  {
   "cell_type": "code",
   "execution_count": 58,
   "id": "af816142",
   "metadata": {},
   "outputs": [],
   "source": [
    "if '':\n",
    "    print('True')"
   ]
  },
  {
   "cell_type": "code",
   "execution_count": 59,
   "id": "7778b27d",
   "metadata": {},
   "outputs": [],
   "source": [
    "if []:\n",
    "    print('True')"
   ]
  },
  {
   "cell_type": "code",
   "execution_count": 61,
   "id": "c3e062ad",
   "metadata": {},
   "outputs": [
    {
     "name": "stdout",
     "output_type": "stream",
     "text": [
      "True\n"
     ]
    }
   ],
   "source": [
    "if 'istrue?':\n",
    "    print('True')"
   ]
  },
  {
   "cell_type": "code",
   "execution_count": 62,
   "id": "dab9a927",
   "metadata": {},
   "outputs": [
    {
     "name": "stdout",
     "output_type": "stream",
     "text": [
      "True\n"
     ]
    }
   ],
   "source": [
    "if {'key1' : 'value1'}:\n",
    "    print('True')"
   ]
  },
  {
   "cell_type": "markdown",
   "id": "c7bf3a7e",
   "metadata": {},
   "source": [
    "파이썬은 if, elif, else 로 조건문을 활용한다."
   ]
  },
  {
   "cell_type": "code",
   "execution_count": 63,
   "id": "3c9c88b6",
   "metadata": {},
   "outputs": [
    {
     "name": "stdout",
     "output_type": "stream",
     "text": [
      "the others\n"
     ]
    }
   ],
   "source": [
    "a = 4\n",
    "if a == 3:\n",
    "    print('a = 3')\n",
    "elif a == 5:\n",
    "    print('a = 5')\n",
    "elif a == 6:\n",
    "    print('a = 6')\n",
    "else:\n",
    "    print('the others')"
   ]
  },
  {
   "cell_type": "markdown",
   "id": "5b942abd",
   "metadata": {},
   "source": [
    "## 반복문"
   ]
  },
  {
   "cell_type": "markdown",
   "id": "5cddfc44",
   "metadata": {},
   "source": [
    "### break"
   ]
  },
  {
   "cell_type": "markdown",
   "id": "11811a89",
   "metadata": {},
   "source": [
    "break 는 반복문안에서 loop block을 종료하고, 다음코드로 넘어가게 한다.\n",
    "\n",
    "따라서 무한루프를 주고, 조건에 따라 종료시킬때 사용될 수 있다."
   ]
  },
  {
   "cell_type": "code",
   "execution_count": 65,
   "id": "461d5538",
   "metadata": {},
   "outputs": [
    {
     "name": "stdout",
     "output_type": "stream",
     "text": [
      "0\n",
      "1\n",
      "2\n",
      "3\n",
      "4\n",
      "5\n",
      "end\n"
     ]
    }
   ],
   "source": [
    "for i in range(0, 10):\n",
    "    print(i)\n",
    "    if i == 5:\n",
    "        break\n",
    "        \n",
    "print('end')"
   ]
  },
  {
   "cell_type": "code",
   "execution_count": 68,
   "id": "cfeef4fb",
   "metadata": {},
   "outputs": [
    {
     "name": "stdout",
     "output_type": "stream",
     "text": [
      "0\n",
      "1\n",
      "2\n",
      "3\n",
      "4\n",
      "5\n",
      "end\n"
     ]
    }
   ],
   "source": [
    "i = 0\n",
    "while True:\n",
    "    print(i)\n",
    "    i += 1\n",
    "    if i == 6:\n",
    "        break\n",
    "\n",
    "print('end')"
   ]
  },
  {
   "cell_type": "markdown",
   "id": "6f0e87f5",
   "metadata": {},
   "source": [
    "### continue"
   ]
  },
  {
   "cell_type": "markdown",
   "id": "149456a2",
   "metadata": {},
   "source": [
    "continue는 점프하는 역할을 한다.\n",
    "\n",
    "반복문을 끝내지는 않고, 다음 루프로 넘어갈 수 있게 한다."
   ]
  },
  {
   "cell_type": "code",
   "execution_count": 71,
   "id": "d5facec0",
   "metadata": {},
   "outputs": [
    {
     "name": "stdout",
     "output_type": "stream",
     "text": [
      "0\n",
      "2\n",
      "4\n",
      "6\n",
      "8\n",
      "end\n"
     ]
    }
   ],
   "source": [
    "for i in range(0, 10):\n",
    "    if i % 2 ==0:\n",
    "        print(i)\n",
    "    else:\n",
    "        continue\n",
    "        \n",
    "print('end')"
   ]
  },
  {
   "cell_type": "markdown",
   "id": "d21d6385",
   "metadata": {},
   "source": [
    "### enumerate"
   ]
  },
  {
   "cell_type": "markdown",
   "id": "886b9c80",
   "metadata": {},
   "source": [
    "반복문에서 index와 값 모두를 사용하고 싶은 경우 enumerate를 사용하면 편리하다."
   ]
  },
  {
   "cell_type": "code",
   "execution_count": 79,
   "id": "f8f6c245",
   "metadata": {},
   "outputs": [
    {
     "name": "stdout",
     "output_type": "stream",
     "text": [
      "0 11\n",
      "1 15\n",
      "2 14\n",
      "3 8\n",
      "4 2\n",
      "5 4\n",
      "6 9\n"
     ]
    }
   ],
   "source": [
    "a = [11, 15, 14, 8, 2, 4 ,9]\n",
    "for i, value in enumerate(a):\n",
    "    print(i, value)"
   ]
  },
  {
   "cell_type": "markdown",
   "id": "d2062b88",
   "metadata": {},
   "source": [
    "### range"
   ]
  },
  {
   "cell_type": "markdown",
   "id": "8d1cd807",
   "metadata": {},
   "source": [
    "range()와 같은 generator를 활용하면, 원하는 list를 쉽게 만들 수 있다."
   ]
  },
  {
   "cell_type": "code",
   "execution_count": 84,
   "id": "fc94a98e",
   "metadata": {},
   "outputs": [
    {
     "name": "stdout",
     "output_type": "stream",
     "text": [
      "[1, 5, 9, 13, 17, 21, 25, 29, 33, 37, 41, 45, 49, 53, 57, 61, 65, 69, 73, 77, 81, 85, 89, 93, 97]\n"
     ]
    }
   ],
   "source": [
    "a = list(range(1, 100, 4))\n",
    "print(a)"
   ]
  },
  {
   "cell_type": "markdown",
   "id": "2cd317a9",
   "metadata": {},
   "source": [
    "## 함수"
   ]
  },
  {
   "cell_type": "markdown",
   "id": "b37fd0f3",
   "metadata": {},
   "source": [
    "### parameter"
   ]
  },
  {
   "cell_type": "markdown",
   "id": "e1c4b984",
   "metadata": {},
   "source": [
    "파라미터에 기본값을 줄 수 있다."
   ]
  },
  {
   "cell_type": "code",
   "execution_count": 86,
   "id": "00cadc69",
   "metadata": {},
   "outputs": [
    {
     "name": "stdout",
     "output_type": "stream",
     "text": [
      "6\n",
      "6\n"
     ]
    }
   ],
   "source": [
    "def add(input1, input2 , input3 = 3):\n",
    "    return input1 + input2 + input3\n",
    "\n",
    "print(add(1, 2, 3))\n",
    "print(add(1, 2))"
   ]
  },
  {
   "cell_type": "markdown",
   "id": "b7ac9ac7",
   "metadata": {},
   "source": [
    "그러나 default parameter 뒤에 일반 파라미터가 올 수는 없다."
   ]
  },
  {
   "cell_type": "code",
   "execution_count": 88,
   "id": "869649aa",
   "metadata": {},
   "outputs": [
    {
     "ename": "SyntaxError",
     "evalue": "non-default argument follows default argument (Temp/ipykernel_14384/2597103685.py, line 1)",
     "output_type": "error",
     "traceback": [
      "\u001b[1;36m  File \u001b[1;32m\"C:\\Users\\Juyoung\\AppData\\Local\\Temp/ipykernel_14384/2597103685.py\"\u001b[1;36m, line \u001b[1;32m1\u001b[0m\n\u001b[1;33m    def add(input1, input2 = 3, input3):\u001b[0m\n\u001b[1;37m                                      ^\u001b[0m\n\u001b[1;31mSyntaxError\u001b[0m\u001b[1;31m:\u001b[0m non-default argument follows default argument\n"
     ]
    }
   ],
   "source": [
    "def add(input1, input2 = 3, input3):\n",
    "    return input1 + input2 + input3\n",
    "\n",
    "print(add(1, 2, 3))\n",
    "print(add(1, 2))"
   ]
  },
  {
   "cell_type": "markdown",
   "id": "e3601fa0",
   "metadata": {},
   "source": [
    "### return"
   ]
  },
  {
   "cell_type": "markdown",
   "id": "88ed3b53",
   "metadata": {},
   "source": [
    "함수에 return 만 있거나, return이 없는 경우에는 None을 반환한다."
   ]
  },
  {
   "cell_type": "code",
   "execution_count": 91,
   "id": "fd29c26f",
   "metadata": {},
   "outputs": [
    {
     "name": "stdout",
     "output_type": "stream",
     "text": [
      "None\n"
     ]
    }
   ],
   "source": [
    "def add(input1, input2, input3 = 3):\n",
    "    input1 + input2 + input3\n",
    "\n",
    "print(add(1, 2, 3))"
   ]
  },
  {
   "cell_type": "code",
   "execution_count": 92,
   "id": "dfe0e1da",
   "metadata": {},
   "outputs": [
    {
     "name": "stdout",
     "output_type": "stream",
     "text": [
      "None\n"
     ]
    }
   ],
   "source": [
    "def add(input1, input2, input3 = 3):\n",
    "    input1 + input2 + input3\n",
    "    return\n",
    "\n",
    "print(add(1, 2, 3))"
   ]
  },
  {
   "cell_type": "markdown",
   "id": "071a9661",
   "metadata": {},
   "source": [
    "### 가변길이 인자"
   ]
  },
  {
   "cell_type": "markdown",
   "id": "352f7d4c",
   "metadata": {},
   "source": [
    "#### args"
   ]
  },
  {
   "cell_type": "markdown",
   "id": "20328c17",
   "metadata": {},
   "source": [
    "전달되는 파라미터의 개수가 가변적인경우에는 가변길이 인자(args, kwargs)를 활용할 수 있다.\n",
    "\n",
    "args는 튜플 형태로 전달되며, 함수의 head 부분에는 \\*변수명으로 전달한다."
   ]
  },
  {
   "cell_type": "code",
   "execution_count": 96,
   "id": "79e74cb2",
   "metadata": {},
   "outputs": [
    {
     "name": "stdout",
     "output_type": "stream",
     "text": [
      "3\n",
      "28\n"
     ]
    }
   ],
   "source": [
    "def add(*args):\n",
    "    return sum(args)\n",
    "\n",
    "print(add(1, 2))\n",
    "print(add(1, 2, 3, 4, 5, 6, 7))"
   ]
  },
  {
   "cell_type": "markdown",
   "id": "460e68fd",
   "metadata": {},
   "source": [
    "#### kwargs"
   ]
  },
  {
   "cell_type": "markdown",
   "id": "874d66da",
   "metadata": {},
   "source": [
    "kwargs는 딕셔너리 형태로 전달되며, 함수의 head부분에는 **변수명으로 전달한다.\n",
    "\n",
    "함수에 argument를 전달할때는 파라미터의 이름과 값을 함께 전달한다."
   ]
  },
  {
   "cell_type": "code",
   "execution_count": 104,
   "id": "5e38ce9f",
   "metadata": {},
   "outputs": [
    {
     "name": "stdout",
     "output_type": "stream",
     "text": [
      "{'one': 1, 'two': 2, 'three': 3}\n"
     ]
    }
   ],
   "source": [
    "def print_kwargs(**kwargs):\n",
    "    print(kwargs)\n",
    "\n",
    "print_kwargs(one = 1, two = 2, three = 3)"
   ]
  },
  {
   "cell_type": "markdown",
   "id": "10b47008",
   "metadata": {},
   "source": [
    "## format"
   ]
  },
  {
   "cell_type": "markdown",
   "id": "4ef4a8a9",
   "metadata": {},
   "source": [
    "format 함수를 활용하여, 문자열에 변수의 값을 전달 할 수 있다."
   ]
  },
  {
   "cell_type": "code",
   "execution_count": 107,
   "id": "1a5be33d",
   "metadata": {},
   "outputs": [
    {
     "data": {
      "text/plain": [
       "'오늘의 날씨는 23도 이며, 강수확률은 50%입니다.'"
      ]
     },
     "execution_count": 107,
     "metadata": {},
     "output_type": "execute_result"
    }
   ],
   "source": [
    "'오늘의 날씨는 {}도 이며, 강수확률은 {}%입니다.'.format(23, 50)"
   ]
  },
  {
   "cell_type": "markdown",
   "id": "acfee167",
   "metadata": {},
   "source": [
    "formatting 할 변수의 수가 너무 많아지는 경우 place holder로 이름을 명시할 수 있다."
   ]
  },
  {
   "cell_type": "code",
   "execution_count": 108,
   "id": "004b39e9",
   "metadata": {},
   "outputs": [
    {
     "data": {
      "text/plain": [
       "'오늘의 날씨는 23도 이며, 강수확률은 50%입니다.'"
      ]
     },
     "execution_count": 108,
     "metadata": {},
     "output_type": "execute_result"
    }
   ],
   "source": [
    "'오늘의 날씨는 {temp}도 이며, 강수확률은 {prob}%입니다.'.format(temp = 23, prob = 50)"
   ]
  },
  {
   "cell_type": "markdown",
   "id": "db6040c2",
   "metadata": {},
   "source": [
    "## lambda 표현식"
   ]
  },
  {
   "cell_type": "markdown",
   "id": "a88997ec",
   "metadata": {},
   "source": [
    "간단한 함수를 표현할때, def로 정의하지 않고, lambda 표현식으로 간결하게 함수를 사용할 수 있다."
   ]
  },
  {
   "cell_type": "code",
   "execution_count": 113,
   "id": "697645f2",
   "metadata": {},
   "outputs": [
    {
     "data": {
      "text/plain": [
       "4"
      ]
     },
     "execution_count": 113,
     "metadata": {},
     "output_type": "execute_result"
    }
   ],
   "source": [
    "(lambda x: x**2)(2)"
   ]
  },
  {
   "cell_type": "markdown",
   "id": "1946fa9f",
   "metadata": {},
   "source": [
    "함수의 인수로 2개 이상도 받을 수 있다."
   ]
  },
  {
   "cell_type": "code",
   "execution_count": 114,
   "id": "183c1638",
   "metadata": {},
   "outputs": [
    {
     "data": {
      "text/plain": [
       "7"
      ]
     },
     "execution_count": 114,
     "metadata": {},
     "output_type": "execute_result"
    }
   ],
   "source": [
    "(lambda x, y : x+y)(3, 4)"
   ]
  },
  {
   "cell_type": "markdown",
   "id": "317d2626",
   "metadata": {},
   "source": [
    "list의 sort함수는 key로 함수를 받는데, lambda가 유용하게 사용될 수 있다."
   ]
  },
  {
   "cell_type": "code",
   "execution_count": 116,
   "id": "71e88bb4",
   "metadata": {},
   "outputs": [
    {
     "name": "stdout",
     "output_type": "stream",
     "text": [
      "['1bong', '2woong', '5hong']\n"
     ]
    }
   ],
   "source": [
    "a = ['5hong', '1bong', '2woong']\n",
    "a.sort(key = lambda x: int(x[0]))\n",
    "print(a)"
   ]
  },
  {
   "cell_type": "markdown",
   "id": "f535c608",
   "metadata": {},
   "source": [
    "## filter, map"
   ]
  },
  {
   "cell_type": "markdown",
   "id": "4fa4f2ce",
   "metadata": {},
   "source": [
    "filter(함수, 리스트) 형식으로 사용하며 조건에 맞는 element만 남겨준다.\n",
    "\n",
    "이때, 함수는 true, false를 반환하는 함수이다."
   ]
  },
  {
   "cell_type": "code",
   "execution_count": 120,
   "id": "c53f668a",
   "metadata": {},
   "outputs": [
    {
     "name": "stdout",
     "output_type": "stream",
     "text": [
      "['2woong']\n"
     ]
    }
   ],
   "source": [
    "b = filter(lambda x : int(x[0]) % 2 == 0, a)\n",
    "print(list(b))"
   ]
  },
  {
   "cell_type": "markdown",
   "id": "14a0fcef",
   "metadata": {},
   "source": [
    "map(함수, 리스트) 형식으로 사용하며, 모든 element에 같은 연산을 적용한다.\n",
    "\n",
    "list comprehension 처럼 사용할 수 있다."
   ]
  },
  {
   "cell_type": "code",
   "execution_count": 122,
   "id": "232793fd",
   "metadata": {},
   "outputs": [
    {
     "name": "stdout",
     "output_type": "stream",
     "text": [
      "[1, 9, 25, 49, 81]\n",
      "[1, 9, 25, 49, 81]\n"
     ]
    }
   ],
   "source": [
    "a = [1, 3, 5, 7, 9]\n",
    "b = map(lambda x: x ** 2, a)\n",
    "print(list(b))\n",
    "\n",
    "c = [x ** 2 for x in a]\n",
    "print(c)"
   ]
  },
  {
   "cell_type": "markdown",
   "id": "e366b901",
   "metadata": {},
   "source": [
    "## package import"
   ]
  },
  {
   "cell_type": "markdown",
   "id": "574ee1df",
   "metadata": {},
   "source": [
    "**import package**는 package 모듈 전체를 import 한다."
   ]
  },
  {
   "cell_type": "code",
   "execution_count": 127,
   "id": "1616cfcb",
   "metadata": {},
   "outputs": [
    {
     "data": {
      "text/plain": [
       "3.141592653589793"
      ]
     },
     "execution_count": 127,
     "metadata": {},
     "output_type": "execute_result"
    }
   ],
   "source": [
    "import math\n",
    "math.pi"
   ]
  },
  {
   "cell_type": "markdown",
   "id": "0fdbdee1",
   "metadata": {},
   "source": [
    "**from math import pi**는 math 패키지 안에서 pi 라는 특정한 부분만 import 할 수 있다.\n",
    "\n",
    "이런 방식으로 import 하면, math.pi가 아닌 pi 로 접근할 수 있다."
   ]
  },
  {
   "cell_type": "code",
   "execution_count": 126,
   "id": "2c389107",
   "metadata": {},
   "outputs": [
    {
     "data": {
      "text/plain": [
       "3.141592653589793"
      ]
     },
     "execution_count": 126,
     "metadata": {},
     "output_type": "execute_result"
    }
   ],
   "source": [
    "from math import pi\n",
    "pi"
   ]
  },
  {
   "cell_type": "markdown",
   "id": "399364b6",
   "metadata": {},
   "source": [
    "**from math import \\***는 math 모듈 내에 정의된 모든 것을 import 한다.\n",
    "\n",
    "이 방식은 이름이 중복되어 문제를 일으킬 수 있으므로 권장하지 않는 방법이다."
   ]
  },
  {
   "cell_type": "code",
   "execution_count": 128,
   "id": "d83d6019",
   "metadata": {},
   "outputs": [
    {
     "data": {
      "text/plain": [
       "3.141592653589793"
      ]
     },
     "execution_count": 128,
     "metadata": {},
     "output_type": "execute_result"
    }
   ],
   "source": [
    "from math import *\n",
    "pi"
   ]
  },
  {
   "cell_type": "markdown",
   "id": "b8ba6739",
   "metadata": {},
   "source": [
    "**import math as m** 모듈의 별명을 지정하여, math를 m으로서 불러올 수 있다.\n",
    "\n",
    "이경우 math.pi를 m.pi로 불러올 수 있다."
   ]
  },
  {
   "cell_type": "code",
   "execution_count": 129,
   "id": "e4fb6527",
   "metadata": {},
   "outputs": [
    {
     "data": {
      "text/plain": [
       "3.141592653589793"
      ]
     },
     "execution_count": 129,
     "metadata": {},
     "output_type": "execute_result"
    }
   ],
   "source": [
    "import math as m\n",
    "m.pi"
   ]
  }
 ],
 "metadata": {
  "kernelspec": {
   "display_name": "Python 3 (ipykernel)",
   "language": "python",
   "name": "python3"
  },
  "language_info": {
   "codemirror_mode": {
    "name": "ipython",
    "version": 3
   },
   "file_extension": ".py",
   "mimetype": "text/x-python",
   "name": "python",
   "nbconvert_exporter": "python",
   "pygments_lexer": "ipython3",
   "version": "3.9.7"
  }
 },
 "nbformat": 4,
 "nbformat_minor": 5
}
