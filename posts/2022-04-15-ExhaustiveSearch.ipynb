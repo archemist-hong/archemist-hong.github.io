{
 "cells": [
  {
   "cell_type": "markdown",
   "id": "1a6d8012",
   "metadata": {},
   "source": [
    "# 완전검색 알고리즘"
   ]
  },
  {
   "cell_type": "markdown",
   "id": "4b4dc5d9",
   "metadata": {},
   "source": [
    "Exhaustive Search, Brute Force, Generate and Test algorithm 이라고도 한다."
   ]
  },
  {
   "cell_type": "markdown",
   "id": "7b244f93",
   "metadata": {},
   "source": [
    "**모든 경우의 수를 테스트하고 최종 해를 도출하는 방법이다.**"
   ]
  },
  {
   "cell_type": "markdown",
   "id": "1f222794",
   "metadata": {},
   "source": [
    "- 경우의 수가 상대적으로 작을때 유용하다.\n",
    "- 수행속도는 느리지만, 해답을 찾아낼 확률이 높다."
   ]
  },
  {
   "cell_type": "markdown",
   "id": "5323d9b2",
   "metadata": {},
   "source": [
    "## 백준"
   ]
  },
  {
   "cell_type": "markdown",
   "id": "e6c4a713",
   "metadata": {},
   "source": [
    "### [2798](https://www.acmicpc.net/problem/2798)"
   ]
  },
  {
   "cell_type": "code",
   "execution_count": 10,
   "id": "cef4679d",
   "metadata": {},
   "outputs": [
    {
     "name": "stdout",
     "output_type": "stream",
     "text": [
      "5 21\n",
      "5 6 7 8 9\n",
      "21\n"
     ]
    }
   ],
   "source": [
    "N, M = map(int, input().split())\n",
    "cards = list(map(int, input().split()))\n",
    "\n",
    "M_sum_diff_min = 300000 # 차이 초기화\n",
    "optimal_sum = None # 최적해 초기화\n",
    "\n",
    "for i in range(0, len(cards)):\n",
    "    for j in range(i + 1, len(cards)): # 선택된 i번째를 제외하고 그다음부터 끝까지\n",
    "        for k in range(j+1, len(cards)): # 선택된 i, j 번째를 제외하고 그 다음부터 끝까지\n",
    "            three_cards = [cards[i], cards[j], cards[k]]\n",
    "            _sum = sum(three_cards)\n",
    "            if M >= _sum: # 합이 M을 넘지 않는경우\n",
    "                M_sum_diff = M - _sum\n",
    "                if M_sum_diff_min > M_sum_diff: # 차이의 최솟값과 비교해서 더 작은경우\n",
    "                    M_sum_diff_min = M_sum_diff # 최솟값 갱신\n",
    "                    optimal_sum = _sum # 최적해 갱신\n",
    "\n",
    "if optimal_sum is not None:\n",
    "    print(optimal_sum)            "
   ]
  },
  {
   "cell_type": "markdown",
   "id": "65303bbc",
   "metadata": {},
   "source": [
    "### [2231](https://www.acmicpc.net/problem/2231)"
   ]
  },
  {
   "cell_type": "code",
   "execution_count": 34,
   "id": "4b02a41f",
   "metadata": {},
   "outputs": [
    {
     "name": "stdout",
     "output_type": "stream",
     "text": [
      "216\n",
      "198\n"
     ]
    }
   ],
   "source": [
    "N = input()\n",
    "\n",
    "def calc_decomp_sum(N: str) -> str: # 분해합 계산 함수\n",
    "    decomp_sum = int(N)\n",
    "    for digit in N:\n",
    "        decomp_sum += int(digit)\n",
    "    return str(decomp_sum)\n",
    "\n",
    "generators = {} # 분해합(key: str) : 생성자(value: list[int]) 딕셔너리 초기화\n",
    "N_decomp_sum = calc_decomp_sum(N)\n",
    "for i in range(1, int(N_decomp_sum)): # 분해합 > 생성자이므로, 1부터 분해합까지 순회\n",
    "    decomp_sum = calc_decomp_sum(str(i)) # 생성자 i의 분해합 계산\n",
    "    if generators.get(decomp_sum) is not None: # 분해합에 대한 생성자 i 추가\n",
    "        generators[decomp_sum].append(i)\n",
    "    else:\n",
    "        generators[decomp_sum] = [i]\n",
    "\n",
    "if generators.get(N) is None: # 생성자가 없는 경우\n",
    "    print(0)\n",
    "else:\n",
    "    generators_list = list(map(int,generators[N])) # 자연수 N에 대한 생성자 조회\n",
    "    print(min(generators_list)) # 최솟값 출력"
   ]
  },
  {
   "cell_type": "markdown",
   "id": "adfd882f",
   "metadata": {},
   "source": [
    "### [7568](https://www.acmicpc.net/problem/7568)"
   ]
  },
  {
   "cell_type": "code",
   "execution_count": 39,
   "id": "4947b5b9",
   "metadata": {},
   "outputs": [
    {
     "name": "stdout",
     "output_type": "stream",
     "text": [
      "5\n",
      "55 185\n",
      "58 183\n",
      "88 186\n",
      "60 175\n",
      "46 155\n",
      "2 2 1 2 5 "
     ]
    }
   ],
   "source": [
    "N = int(input())\n",
    "\n",
    "weights, heights, counts = [], [], [] # input 자료 입력\n",
    "for case in range(N):\n",
    "    weight, height = map(int, input().split())\n",
    "    weights.append(weight)\n",
    "    heights.append(height)\n",
    "    \n",
    "for weight, height in zip(weights, heights): # 각 사람마다 덩치 등수 계산 후 counts에 저장\n",
    "    count = 0\n",
    "    for i in range(len(weights)):\n",
    "        if weight < weights[i] and height < heights[i]: \n",
    "            count += 1\n",
    "    counts.append(count + 1)\n",
    "    \n",
    "for count in counts: # 덩치 등수 출력\n",
    "    print(count, end = ' ')"
   ]
  },
  {
   "cell_type": "markdown",
   "id": "f86dd058",
   "metadata": {},
   "source": [
    "### [1018](https://www.acmicpc.net/problem/1018)"
   ]
  },
  {
   "cell_type": "code",
   "execution_count": 59,
   "id": "7e87845b",
   "metadata": {},
   "outputs": [
    {
     "name": "stdout",
     "output_type": "stream",
     "text": [
      "10 13\n",
      "BBBBBBBBWBWBW\n",
      "BBBBBBBBBWBWB\n",
      "BBBBBBBBWBWBW\n",
      "BBBBBBBBBWBWB\n",
      "BBBBBBBBWBWBW\n",
      "BBBBBBBBBWBWB\n",
      "BBBBBBBBWBWBW\n",
      "BBBBBBBBBWBWB\n",
      "WWWWWWWWWWBWB\n",
      "WWWWWWWWWWBWB\n",
      "12\n"
     ]
    }
   ],
   "source": [
    "N, M = map(int, input().split())\n",
    "\n",
    "board = [] # board input 저장\n",
    "for n in range(N):\n",
    "    board.append(input())\n",
    "    \n",
    "white_chess = ['WB' * 4 if i % 2 == 0 else 'BW' * 4 for i in range(8)]\n",
    "black_chess = ['BW' * 4 if i % 2 == 0 else 'WB' * 4 for i in range(8)]\n",
    "    \n",
    "white_chess_counts = []\n",
    "black_chess_counts = []\n",
    "for width_ind in range(M-8+1):\n",
    "    for height_ind in range(N-8+1):\n",
    "        chess = board[height_ind:height_ind+9] # 높이 cut\n",
    "        chess = [row[width_ind:width_ind+9] for row in chess] # 너비 cut\n",
    "        \n",
    "        white_chess_count = 0 # 흰색, 검정색 다시 칠해야 하는 갯수 count\n",
    "        black_chess_count = 0\n",
    "        for h in range(8):\n",
    "            white_chess_count += sum([1 if chess[h][w] != white_chess[h][w] else 0 for w in range(8)])\n",
    "            black_chess_count += sum([1 if chess[h][w] != black_chess[h][w] else 0 for w in range(8)])\n",
    "        white_chess_counts.append(white_chess_count)\n",
    "        black_chess_counts.append(black_chess_count)\n",
    "        \n",
    "white_chess_counts.extend(black_chess_counts)\n",
    "print(min(white_chess_counts)) # 최솟값 출력"
   ]
  },
  {
   "cell_type": "markdown",
   "id": "ec7615a3",
   "metadata": {},
   "source": [
    "### [1436](https://www.acmicpc.net/problem/1436)"
   ]
  },
  {
   "cell_type": "code",
   "execution_count": 74,
   "id": "81bde793",
   "metadata": {},
   "outputs": [
    {
     "name": "stdout",
     "output_type": "stream",
     "text": [
      "500\n",
      "166699\n"
     ]
    }
   ],
   "source": [
    "N = int(input())\n",
    "\n",
    "def is_eternal(number: int) -> bool: # 종말의 숫자를 확인하는 함수 정의\n",
    "    number = str(number)\n",
    "    flag = False\n",
    "    for i in range(len(number) - 2):\n",
    "        if number[i:i+3] == '666':\n",
    "            return True\n",
    "    return flag\n",
    "\n",
    "eternal_numbers = [] # 첫번째 종말의 숫자(666)부터 1씩 증가시키며, 종말의 숫자인지 확인 후 저장\n",
    "number = 666\n",
    "while True:\n",
    "    if is_eternal(number):\n",
    "        eternal_numbers.append(number)\n",
    "    if len(eternal_numbers) == N: # N개가 쌓이면 반복을 멈추고 가장 마지막 원소 출력\n",
    "        break\n",
    "    number += 1\n",
    "\n",
    "print(eternal_numbers[-1])"
   ]
  }
 ],
 "metadata": {
  "kernelspec": {
   "display_name": "Python 3 (ipykernel)",
   "language": "python",
   "name": "python3"
  },
  "language_info": {
   "codemirror_mode": {
    "name": "ipython",
    "version": 3
   },
   "file_extension": ".py",
   "mimetype": "text/x-python",
   "name": "python",
   "nbconvert_exporter": "python",
   "pygments_lexer": "ipython3",
   "version": "3.9.7"
  }
 },
 "nbformat": 4,
 "nbformat_minor": 5
}
