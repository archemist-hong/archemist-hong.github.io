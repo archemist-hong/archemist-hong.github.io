{
 "cells": [
  {
   "cell_type": "markdown",
   "id": "c97459a1",
   "metadata": {},
   "source": [
    "# Loss"
   ]
  },
  {
   "cell_type": "markdown",
   "id": "64cdcd94",
   "metadata": {},
   "source": [
    "실수 값을 예측하는 regression 문제에서는 기본적으로 [MSE Loss](https://en.wikipedia.org/wiki/Mean_squared_error)가 자주 사용된다.\n",
    "\n",
    "숫자의 대소관계가 없는 discrete한 숫자를 예측하는 경우, 즉, classification 문제에서는 \n",
    "\n",
    "- binary classification : [Binary Cross Entropy](https://en.wikipedia.org/wiki/Cross_entropy)\n",
    "- multinomial classification : [Categorical Cross Entropy](https://en.wikipedia.org/wiki/Cross_entropy)\n",
    "\n",
    "를 주로 사용한다.\n",
    "\n",
    "Categorical Cross Entropy를 사용하는 경우, y값을 [one-hot vector](https://en.wikipedia.org/wiki/One-hot)로 인코딩 하여 사용하는 것이 보편적이다."
   ]
  },
  {
   "cell_type": "markdown",
   "id": "a4c5b63d",
   "metadata": {},
   "source": [
    "$Loss >= 0$이어야 하며,\n",
    "\n",
    "예측 값이 참값과 비슷한경우 Loss => 0으로 가야하며,\n",
    "\n",
    "예측 값이 참값과 멀어지는 경우 Loss는 커져야 한다.\n",
    "\n",
    "또한, Loss는 Convex 해야한다.\n",
    "\n",
    "배치 학습을 진행하는 경우에는 Loss의 합 또는 평균값을 사용한다."
   ]
  },
  {
   "cell_type": "markdown",
   "id": "fdd1f8fb",
   "metadata": {},
   "source": [
    "## 실습"
   ]
  },
  {
   "cell_type": "markdown",
   "id": "d2aac7d4",
   "metadata": {},
   "source": [
    "### Dataset for regression"
   ]
  },
  {
   "cell_type": "code",
   "execution_count": 1,
   "id": "1070334f",
   "metadata": {},
   "outputs": [
    {
     "name": "stdout",
     "output_type": "stream",
     "text": [
      "X(shape/dtype/data) : (8, 5) / torch.float32\n",
      " [[-0.5327221  -0.12359268 -0.5920341  -0.05205629  1.3285662 ]\n",
      " [ 1.0616968   1.5383563   1.073248   -1.4870163  -0.45664966]\n",
      " [ 0.34169066 -0.6548304  -0.8853236  -1.6216094  -1.0614848 ]\n",
      " [-1.167248   -0.19444533 -2.230667   -0.8904372   0.08879463]\n",
      " [ 2.0935056   0.5482115  -0.2926828  -0.7631139   1.2719749 ]\n",
      " [ 0.5872485  -1.1575139  -0.10281583 -0.37403464 -0.182116  ]\n",
      " [-1.0731848  -0.22421665 -0.12822816 -1.2793843  -1.9723185 ]\n",
      " [-2.0195403  -1.308681   -0.36187592  1.056473    0.9218636 ]]\n",
      "\n",
      "Y(shape/dtype/data) : (8,) / torch.float32\n",
      " [13.878596   9.126841  -5.417803  -1.3659153 15.619299   5.5570545\n",
      " -6.8854313 13.11268  ]\n",
      "\n"
     ]
    }
   ],
   "source": [
    "import torch\n",
    "\n",
    "N, n_feature = 8, 5\n",
    "weights = torch.tensor([1., 2., 3., 4., 5.])\n",
    "bias = torch.tensor([10.])\n",
    "\n",
    "X = torch.randn(N, n_feature)\n",
    "Y = (weights * X).sum(axis = 1) + bias\n",
    "\n",
    "print(f'X(shape/dtype/data) : {X.detach().numpy().shape} / {X.dtype}\\n {X.detach().numpy()}\\n')\n",
    "print(f'Y(shape/dtype/data) : {Y.detach().numpy().shape} / {Y.dtype}\\n {Y.detach().numpy()}\\n')"
   ]
  },
  {
   "cell_type": "markdown",
   "id": "4592c064",
   "metadata": {},
   "source": [
    "### Dataset for Binary Classification"
   ]
  },
  {
   "cell_type": "code",
   "execution_count": 3,
   "id": "bbca11d7",
   "metadata": {},
   "outputs": [
    {
     "name": "stdout",
     "output_type": "stream",
     "text": [
      "X(shape/dtype/data) : (8, 5) / torch.float32\n",
      " [[-1.9435873e+00 -1.6491245e-02  5.8313811e-01  1.2796857e+00\n",
      "  -1.3205603e+00]\n",
      " [ 3.8631055e-01 -9.4718570e-01 -3.9839754e-01  7.6628077e-01\n",
      "   1.8268689e+00]\n",
      " [-6.0133767e-01  1.5377073e+00  1.5631926e+00  9.3582046e-01\n",
      "   9.3441671e-01]\n",
      " [-2.0480359e+00 -1.0246760e+00  8.3868641e-01 -5.0401086e-01\n",
      "  -1.8964161e-01]\n",
      " [-2.2792079e-01 -2.5042123e-01  2.3548926e-01  5.7812816e-01\n",
      "  -5.7953554e-01]\n",
      " [-2.0163121e+00 -1.0224595e+00 -3.9064199e-01 -6.9584972e-01\n",
      "  -2.0884068e-03]\n",
      " [-6.1258417e-01 -2.7522087e+00  6.6990912e-01  7.2512448e-01\n",
      "   2.5117522e-01]\n",
      " [-1.6543512e+00 -3.6817801e-01  2.2704382e-01  8.4860158e-01\n",
      "   1.3094676e+00]]\n",
      "\n",
      "Y(shape/dtype/data) : (8,) / torch.int32\n",
      " [1 1 1 1 1 0 1 1]\n",
      "\n"
     ]
    }
   ],
   "source": [
    "import torch\n",
    "\n",
    "N, n_feature = 8, 5\n",
    "weights = torch.tensor([1., 2., 3., 4., 5.])\n",
    "bias = torch.tensor([10.])\n",
    "\n",
    "X = torch.randn(N, n_feature)\n",
    "Y = (weights * X).sum(axis = 1) + bias\n",
    "Y = (Y > 5).type(torch.int32)\n",
    "\n",
    "print(f'X(shape/dtype/data) : {X.detach().numpy().shape} / {X.dtype}\\n {X.detach().numpy()}\\n')\n",
    "print(f'Y(shape/dtype/data) : {Y.detach().numpy().shape} / {Y.dtype}\\n {Y.detach().numpy()}\\n')"
   ]
  },
  {
   "cell_type": "markdown",
   "id": "dab0a246",
   "metadata": {},
   "source": [
    "### Dataset for Multi-class Classification"
   ]
  },
  {
   "cell_type": "code",
   "execution_count": 9,
   "id": "7234ac58",
   "metadata": {},
   "outputs": [
    {
     "name": "stdout",
     "output_type": "stream",
     "text": [
      "X(shape/dtype/data) : (24, 2) / torch.float32\n",
      " [[ 0.22465068  6.742824  ]\n",
      " [ 1.8510637   2.6611643 ]\n",
      " [ 2.5035372   6.4695415 ]\n",
      " [ 1.1824615   4.9623237 ]\n",
      " [ 1.4915082   4.327526  ]\n",
      " [ 0.8964809   6.103132  ]\n",
      " [ 2.5343323   5.4579334 ]\n",
      " [ 0.5439893   5.5078692 ]\n",
      " [ 9.484358    8.644683  ]\n",
      " [11.321846    9.491784  ]\n",
      " [12.182148    8.786864  ]\n",
      " [12.389651    9.486388  ]\n",
      " [13.025801   11.241271  ]\n",
      " [13.041826    9.194061  ]\n",
      " [11.556921    8.049114  ]\n",
      " [11.956268    9.295376  ]\n",
      " [ 6.7767477   5.8525257 ]\n",
      " [ 5.1980786   3.1798325 ]\n",
      " [ 6.078248    2.0300303 ]\n",
      " [ 3.0835257   3.1476758 ]\n",
      " [ 7.016579    4.265204  ]\n",
      " [ 3.4944658   1.5506024 ]\n",
      " [ 6.8111105   4.719006  ]\n",
      " [ 6.6825666   2.3156538 ]]\n",
      "\n",
      "Y(shape/dtype/data) : (24, 1) / torch.float32\n",
      " [[0.]\n",
      " [0.]\n",
      " [0.]\n",
      " [0.]\n",
      " [0.]\n",
      " [0.]\n",
      " [0.]\n",
      " [0.]\n",
      " [1.]\n",
      " [1.]\n",
      " [1.]\n",
      " [1.]\n",
      " [1.]\n",
      " [1.]\n",
      " [1.]\n",
      " [1.]\n",
      " [2.]\n",
      " [2.]\n",
      " [2.]\n",
      " [2.]\n",
      " [2.]\n",
      " [2.]\n",
      " [2.]\n",
      " [2.]]\n",
      "\n"
     ]
    },
    {
     "data": {
      "image/png": "[encoded data removed]",
      "text/plain": [
       "<Figure size 360x360 with 1 Axes>"
      ]
     },
     "metadata": {},
     "output_type": "display_data"
    }
   ],
   "source": [
    "import torch\n",
    "import matplotlib.pyplot as plt\n",
    "\n",
    "plt.style.use('seaborn')\n",
    "\n",
    "N, n_feature  = 8, 2\n",
    "n_class = 3\n",
    "\n",
    "X = torch.zeros(0, n_feature)\n",
    "Y = torch.zeros(0, 1)\n",
    "\n",
    "fig, ax = plt.subplots(figsize = (5, 5))\n",
    "for class_idx in range(n_class):\n",
    "    center = torch.rand(size = (2, )) * 15\n",
    "    \n",
    "    x1 = center[0] + torch.randn(N, 1)\n",
    "    x2 = center[1] + torch.randn(N, 1)\n",
    "    \n",
    "    x = torch.cat((x1, x2), dim = 1)\n",
    "    y = class_idx * torch.ones(N, 1)\n",
    "    ax.scatter(x[:, 0].numpy(), x[:, 1].numpy(), alpha = 0.3)\n",
    "    \n",
    "    X = torch.cat((X, x), dim = 0)\n",
    "    Y = torch.cat((Y, y), dim = 0)\n",
    "    \n",
    "print(f'X(shape/dtype/data) : {X.detach().numpy().shape} / {X.dtype}\\n {X.detach().numpy()}\\n')\n",
    "print(f'Y(shape/dtype/data) : {Y.detach().numpy().shape} / {Y.dtype}\\n {Y.detach().numpy()}\\n')"
   ]
  },
  {
   "cell_type": "markdown",
   "id": "161d8572",
   "metadata": {},
   "source": [
    "### Dataset for Multi-class classification with one-hot Encoding"
   ]
  },
  {
   "cell_type": "code",
   "execution_count": 21,
   "id": "37fb3fda",
   "metadata": {},
   "outputs": [
    {
     "name": "stdout",
     "output_type": "stream",
     "text": [
      "X(shape/dtype/data) : (24, 2) / torch.float32\n",
      " [[ 1.67941895e+01  1.36607707e-01]\n",
      " [ 1.57275505e+01 -2.26020336e-01]\n",
      " [ 1.53952188e+01 -1.46739423e-01]\n",
      " [ 1.46828098e+01  1.70793712e-01]\n",
      " [ 1.38543482e+01 -1.26526356e-01]\n",
      " [ 1.54042740e+01  1.32082075e-01]\n",
      " [ 1.45825815e+01 -1.08458877e-01]\n",
      " [ 1.51421366e+01  9.66588259e-01]\n",
      " [-1.31023645e+00 -4.14650679e-01]\n",
      " [-6.11082673e-01  2.03664923e+00]\n",
      " [ 1.99301386e+00  1.77180707e+00]\n",
      " [-1.24538493e+00  3.40715814e+00]\n",
      " [ 1.00094378e-02  1.99961007e+00]\n",
      " [ 6.91124678e-01  1.67828608e+00]\n",
      " [-2.91222572e+00 -1.12814069e+00]\n",
      " [-1.35517454e+00  2.29739833e+00]\n",
      " [ 8.27764797e+00  1.32098465e+01]\n",
      " [ 7.64402628e+00  1.23029242e+01]\n",
      " [ 7.19018412e+00  1.24335470e+01]\n",
      " [ 7.48238516e+00  1.38017778e+01]\n",
      " [ 7.95364237e+00  1.30552301e+01]\n",
      " [ 8.29765892e+00  1.30802088e+01]\n",
      " [ 7.52586889e+00  1.23606319e+01]\n",
      " [ 8.78200054e+00  1.13979492e+01]]\n",
      "\n",
      "Y(shape/dtype/data) : (24, 3) / torch.int64\n",
      " [[1 0 0]\n",
      " [1 0 0]\n",
      " [1 0 0]\n",
      " [1 0 0]\n",
      " [1 0 0]\n",
      " [1 0 0]\n",
      " [1 0 0]\n",
      " [1 0 0]\n",
      " [0 1 0]\n",
      " [0 1 0]\n",
      " [0 1 0]\n",
      " [0 1 0]\n",
      " [0 1 0]\n",
      " [0 1 0]\n",
      " [0 1 0]\n",
      " [0 1 0]\n",
      " [0 0 1]\n",
      " [0 0 1]\n",
      " [0 0 1]\n",
      " [0 0 1]\n",
      " [0 0 1]\n",
      " [0 0 1]\n",
      " [0 0 1]\n",
      " [0 0 1]]\n",
      "\n"
     ]
    },
    {
     "data": {
      "image/png": "[encoded data removed]",
      "text/plain": [
       "<Figure size 360x360 with 1 Axes>"
      ]
     },
     "metadata": {},
     "output_type": "display_data"
    }
   ],
   "source": [
    "import torch\n",
    "import matplotlib.pyplot as plt\n",
    "\n",
    "plt.style.use('seaborn')\n",
    "\n",
    "N, n_feature  = 8, 2\n",
    "n_class = 3\n",
    "\n",
    "X = torch.zeros(0, n_feature)\n",
    "Y = torch.zeros(0, 1)\n",
    "\n",
    "fig, ax = plt.subplots(figsize = (5, 5))\n",
    "for class_idx in range(n_class):\n",
    "    center = torch.rand(size = (2, )) * 15\n",
    "    \n",
    "    x1 = center[0] + torch.randn(N, 1)\n",
    "    x2 = center[1] + torch.randn(N, 1)\n",
    "    \n",
    "    x = torch.cat((x1, x2), dim = 1)\n",
    "    y = class_idx * torch.ones(N, 1)\n",
    "    ax.scatter(x[:, 0].numpy(), x[:, 1].numpy(), alpha = 0.3)\n",
    "    \n",
    "    X = torch.cat((X, x), dim = 0)\n",
    "    Y = torch.cat((Y, y), dim = 0)\n",
    "\n",
    "Y = Y.view(-1)\n",
    "Y = torch.nn.functional.one_hot(Y.type(torch.int64), num_classes = n_class)\n",
    "    \n",
    "print(f'X(shape/dtype/data) : {X.detach().numpy().shape} / {X.dtype}\\n {X.detach().numpy()}\\n')\n",
    "print(f'Y(shape/dtype/data) : {Y.detach().numpy().shape} / {Y.dtype}\\n {Y.detach().numpy()}\\n')"
   ]
  },
  {
   "cell_type": "markdown",
   "id": "970bdb5c",
   "metadata": {},
   "source": [
    "### Dataset objects"
   ]
  },
  {
   "cell_type": "code",
   "execution_count": 26,
   "id": "e9e721da",
   "metadata": {},
   "outputs": [
    {
     "name": "stdout",
     "output_type": "stream",
     "text": [
      "torch.Size([32, 5]) torch.Size([32])\n",
      "torch.Size([32, 5]) torch.Size([32])\n",
      "torch.Size([32, 5]) torch.Size([32])\n",
      "torch.Size([4, 5]) torch.Size([4])\n"
     ]
    }
   ],
   "source": [
    "import torch\n",
    "from torch.utils.data import TensorDataset, DataLoader\n",
    "\n",
    "N, n_feature = 100, 5\n",
    "batch_size = 32\n",
    "\n",
    "weights = torch.tensor([1., 2., 3., 4., 5.])\n",
    "bias = torch.tensor([10.])\n",
    "\n",
    "X = torch.randn(N, n_feature)\n",
    "Y = (weights * X).sum(axis = 1) + bias\n",
    "\n",
    "dataset = TensorDataset(X, Y)\n",
    "dataloader = DataLoader(dataset, batch_size = batch_size, shuffle = True)\n",
    "        \n",
    "for x, y in dataloader:\n",
    "    print(x.shape, y.shape)"
   ]
  },
  {
   "cell_type": "markdown",
   "id": "d1a56ad9",
   "metadata": {},
   "source": [
    "### MSE Calculation"
   ]
  },
  {
   "cell_type": "code",
   "execution_count": 28,
   "id": "851985b1",
   "metadata": {},
   "outputs": [
    {
     "name": "stdout",
     "output_type": "stream",
     "text": [
      "MSE(Pytorch):  1.025732\n",
      "MSE(Manual):  1.025732\n"
     ]
    }
   ],
   "source": [
    "import torch\n",
    "\n",
    "loss = torch.nn.MSELoss()\n",
    "\n",
    "batch_size = 32\n",
    "predictions = torch.randn(batch_size, 1)\n",
    "labels = torch.randn(batch_size, 1)\n",
    "\n",
    "mse = loss(labels, predictions)\n",
    "mse_manual = torch.pow(labels - predictions, 2).mean()\n",
    "\n",
    "\n",
    "print(\"MSE(Pytorch): \", mse.detach().numpy())\n",
    "print(\"MSE(Manual): \", mse_manual.detach().numpy())"
   ]
  },
  {
   "cell_type": "markdown",
   "id": "5bf9fb9f",
   "metadata": {},
   "source": [
    "### MSE with Model/Dataset"
   ]
  },
  {
   "cell_type": "code",
   "execution_count": 31,
   "id": "b781c567",
   "metadata": {},
   "outputs": [
    {
     "name": "stdout",
     "output_type": "stream",
     "text": [
      "1.6066357\n",
      "0.8785365\n",
      "1.701092\n",
      "1.9728367\n"
     ]
    }
   ],
   "source": [
    "import torch\n",
    "\n",
    "N, n_feature = 100, 5\n",
    "batch_size = 32\n",
    "\n",
    "X = torch.randn(N, n_feature)\n",
    "Y = torch.randn(N, 1)\n",
    "\n",
    "dataset = torch.utils.data.TensorDataset(X, Y)\n",
    "dataloader = torch.utils.data.DataLoader(dataset, batch_size = batch_size)\n",
    "\n",
    "model = torch.nn.Linear(5, 1)\n",
    "loss_function = torch.nn.MSELoss()\n",
    "\n",
    "for x, y in dataloader:\n",
    "    predictions = model(x)\n",
    "    loss = loss_function(predictions, y)\n",
    "    print(loss.detach().numpy())"
   ]
  },
  {
   "cell_type": "markdown",
   "id": "1a2ae74e",
   "metadata": {},
   "source": [
    "### Binary Classification"
   ]
  },
  {
   "cell_type": "code",
   "execution_count": 35,
   "id": "0ea1348d",
   "metadata": {},
   "outputs": [
    {
     "name": "stdout",
     "output_type": "stream",
     "text": [
      "BCE(Pytorch):  0.87177426\n",
      "BCE(Manual):  0.89360183\n"
     ]
    }
   ],
   "source": [
    "import torch\n",
    "\n",
    "batch_size = 32\n",
    "n_class = 2\n",
    "\n",
    "predictions = torch.rand(batch_size, 1)\n",
    "labels = torch.rand(batch_size, 1)\n",
    "\n",
    "loss_function = torch.nn.BCELoss()\n",
    "loss = loss_function(labels, predictions)\n",
    "\n",
    "bce_man = -(labels * predictions.log() + (1 - labels) * (1 - predictions).log())\n",
    "bce_man = bce_man.mean()\n",
    "\n",
    "print(\"BCE(Pytorch): \", loss.detach().numpy())\n",
    "print(\"BCE(Manual): \", bce_man.detach().numpy())"
   ]
  },
  {
   "cell_type": "markdown",
   "id": "1b582479",
   "metadata": {},
   "source": [
    "### BCE with Model/Dataset"
   ]
  },
  {
   "cell_type": "code",
   "execution_count": 48,
   "id": "b28820e0",
   "metadata": {},
   "outputs": [
    {
     "name": "stdout",
     "output_type": "stream",
     "text": [
      "0.74942636\n",
      "0.7903834\n",
      "0.81817937\n",
      "0.40927923\n"
     ]
    }
   ],
   "source": [
    "import torch\n",
    "\n",
    "N, n_feature = 100, 5\n",
    "weights = torch.tensor([1., 2., 3., 4., 5.])\n",
    "bias = torch.tensor([10.])\n",
    "\n",
    "X = torch.randn(N, n_feature)\n",
    "Y = (weights * X).sum(axis = 1) + bias\n",
    "Y = (Y > 5).type(torch.float32)\n",
    "\n",
    "dataset = torch.utils.data.TensorDataset(X, Y)\n",
    "dataloader = torch.utils.data.DataLoader(dataset, batch_size = 32)\n",
    "\n",
    "model = torch.nn.Linear(n_feature, 1)\n",
    "sigmoid = torch.nn.Sigmoid()\n",
    "loss_function = torch.nn.BCELoss()\n",
    "\n",
    "for x, y in dataloader:\n",
    "    z = model(x)\n",
    "    predictions = sigmoid(z)\n",
    "    loss = loss_function(predictions.view(-1), y)\n",
    "    print(loss.detach().numpy())"
   ]
  },
  {
   "cell_type": "markdown",
   "id": "e475a662",
   "metadata": {},
   "source": [
    "### CCE Calculation"
   ]
  },
  {
   "cell_type": "code",
   "execution_count": 72,
   "id": "de8dc803",
   "metadata": {},
   "outputs": [
    {
     "name": "stdout",
     "output_type": "stream",
     "text": [
      "CCE(Pytorch):  1.6155267\n",
      "CCE(Manual):  1.8610663\n"
     ]
    }
   ],
   "source": [
    "import torch\n",
    "\n",
    "batch_size, n_class = 16, 5\n",
    "\n",
    "predictions = torch.rand(batch_size, n_class)\n",
    "pred_sum = predictions.sum(axis = 1).view(-1, 1)\n",
    "predictions /= pred_sum\n",
    "\n",
    "labels = torch.rand(batch_size) * n_class\n",
    "labels = labels.type(torch.int64)\n",
    "\n",
    "loss_function = torch.nn.CrossEntropyLoss()\n",
    "loss = loss_function(predictions, labels)\n",
    "\n",
    "print(\"CCE(Pytorch): \", loss.detach().numpy())\n",
    "\n",
    "labels = labels.view(-1)\n",
    "labels = torch.nn.functional.one_hot(labels, num_classes = n_class)\n",
    "cce_man = (-labels * predictions.log()).sum(axis = 1).mean()\n",
    "print(\"CCE(Manual): \", cce_man.detach().numpy())"
   ]
  },
  {
   "cell_type": "markdown",
   "id": "3ccbb4d0",
   "metadata": {},
   "source": [
    "파이토치의 cross entropy loss는 target이 1-dimension이어야 하며, long타입(int64)이어야 한다.\n",
    "\n",
    "onehot vector로 주어지지 않도록 주의한다."
   ]
  },
  {
   "cell_type": "markdown",
   "id": "1ab21738",
   "metadata": {},
   "source": [
    "### CCE with Model/Dataset"
   ]
  },
  {
   "cell_type": "code",
   "execution_count": 81,
   "id": "79ecfc61",
   "metadata": {},
   "outputs": [
    {
     "name": "stdout",
     "output_type": "stream",
     "text": [
      "1.6518369\n",
      "1.7254292\n"
     ]
    },
    {
     "data": {
      "image/png": "[encoded data removed]",
      "text/plain": [
       "<Figure size 360x360 with 1 Axes>"
      ]
     },
     "metadata": {},
     "output_type": "display_data"
    }
   ],
   "source": [
    "import torch\n",
    "\n",
    "N, n_feature  = 6, 2\n",
    "n_class = 5\n",
    "\n",
    "X = torch.zeros(0, n_feature)\n",
    "Y = torch.zeros(0, 1)\n",
    "\n",
    "fig, ax = plt.subplots(figsize = (5, 5))\n",
    "for class_idx in range(n_class):\n",
    "    center = torch.rand(size = (2, )) * 15\n",
    "    \n",
    "    x1 = center[0] + torch.randn(N, 1)\n",
    "    x2 = center[1] + torch.randn(N, 1)\n",
    "    \n",
    "    x = torch.cat((x1, x2), dim = 1)\n",
    "    y = class_idx * torch.ones(N, 1)\n",
    "    ax.scatter(x[:, 0].numpy(), x[:, 1].numpy(), alpha = 0.3)\n",
    "    \n",
    "    X = torch.cat((X, x), dim = 0)\n",
    "    Y = torch.cat((Y, y), dim = 0)\n",
    "\n",
    "Y = Y.view(-1)\n",
    "Y = Y.type(torch.int64)\n",
    "dataset = torch.utils.data.TensorDataset(X, Y)\n",
    "dataloader = torch.utils.data.DataLoader(dataset, batch_size = batch_size)\n",
    "\n",
    "model = torch.nn.Linear(n_feature, n_class)\n",
    "softmax = torch.nn.Softmax(dim = 1)\n",
    "loss_function = torch.nn.CrossEntropyLoss()\n",
    "\n",
    "for x, y in dataloader:\n",
    "    z = model(x)\n",
    "    predictions = softmax(z)\n",
    "    loss = loss_function(predictions, y)\n",
    "    print(loss.detach().numpy())"
   ]
  }
 ],
 "metadata": {
  "kernelspec": {
   "display_name": "Python 3 (ipykernel)",
   "language": "python",
   "name": "python3"
  },
  "language_info": {
   "codemirror_mode": {
    "name": "ipython",
    "version": 3
   },
   "file_extension": ".py",
   "mimetype": "text/x-python",
   "name": "python",
   "nbconvert_exporter": "python",
   "pygments_lexer": "ipython3",
   "version": "3.9.7"
  }
 },
 "nbformat": 4,
 "nbformat_minor": 5
}
