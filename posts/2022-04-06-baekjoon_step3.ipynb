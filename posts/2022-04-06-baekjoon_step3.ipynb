{
 "cells": [
  {
   "cell_type": "markdown",
   "id": "0504de7e",
   "metadata": {},
   "source": [
    "# 3. 반복문"
   ]
  },
  {
   "cell_type": "markdown",
   "id": "ecc9ff7d",
   "metadata": {},
   "source": [
    "## [2739](https://www.acmicpc.net/problem/2739)"
   ]
  },
  {
   "cell_type": "code",
   "execution_count": 1,
   "id": "76fbbcc3",
   "metadata": {},
   "outputs": [
    {
     "name": "stdout",
     "output_type": "stream",
     "text": [
      "2\n",
      "2 * 1 = 2\n",
      "2 * 2 = 4\n",
      "2 * 3 = 6\n",
      "2 * 4 = 8\n",
      "2 * 5 = 10\n",
      "2 * 6 = 12\n",
      "2 * 7 = 14\n",
      "2 * 8 = 16\n",
      "2 * 9 = 18\n"
     ]
    }
   ],
   "source": [
    "N = int(input())\n",
    "for i in range(1, 10):\n",
    "    print(f'{N} * {i} = {N*i}')"
   ]
  },
  {
   "cell_type": "markdown",
   "id": "3cc1500f",
   "metadata": {},
   "source": [
    "## [10950](https://www.acmicpc.net/problem/10950)"
   ]
  },
  {
   "cell_type": "code",
   "execution_count": 2,
   "id": "e6ddd95d",
   "metadata": {},
   "outputs": [
    {
     "name": "stdout",
     "output_type": "stream",
     "text": [
      "5\n",
      "1 1\n",
      "2\n",
      "2 3\n",
      "5\n",
      "3 4\n",
      "7\n",
      "9 8\n",
      "17\n",
      "5 2\n",
      "7\n"
     ]
    }
   ],
   "source": [
    "T = int(input())\n",
    "for t in range(0, T):\n",
    "    A, B = [int(x) for x in input().split()]\n",
    "    print(A + B)"
   ]
  },
  {
   "cell_type": "markdown",
   "id": "5cea72be",
   "metadata": {},
   "source": [
    "## [8393](https://www.acmicpc.net/problem/8393)"
   ]
  },
  {
   "cell_type": "code",
   "execution_count": 3,
   "id": "9225efb3",
   "metadata": {},
   "outputs": [
    {
     "name": "stdout",
     "output_type": "stream",
     "text": [
      "3\n",
      "6\n"
     ]
    }
   ],
   "source": [
    "n = int(input())\n",
    "print(sum(list(range(1, n+1))))"
   ]
  },
  {
   "cell_type": "markdown",
   "id": "37d0c651",
   "metadata": {},
   "source": [
    "## [15552](https://www.acmicpc.net/problem/15552)"
   ]
  },
  {
   "cell_type": "code",
   "execution_count": 10,
   "id": "6a130d7f",
   "metadata": {},
   "outputs": [
    {
     "ename": "ValueError",
     "evalue": "invalid literal for int() with base 10: ''",
     "output_type": "error",
     "traceback": [
      "\u001b[1;31m---------------------------------------------------------------------------\u001b[0m",
      "\u001b[1;31mValueError\u001b[0m                                Traceback (most recent call last)",
      "\u001b[1;32m~\\AppData\\Local\\Temp/ipykernel_8612/1557261104.py\u001b[0m in \u001b[0;36m<module>\u001b[1;34m\u001b[0m\n\u001b[0;32m      1\u001b[0m \u001b[1;32mimport\u001b[0m \u001b[0msys\u001b[0m\u001b[1;33m\u001b[0m\u001b[1;33m\u001b[0m\u001b[0m\n\u001b[0;32m      2\u001b[0m \u001b[1;33m\u001b[0m\u001b[0m\n\u001b[1;32m----> 3\u001b[1;33m \u001b[0mT\u001b[0m \u001b[1;33m=\u001b[0m \u001b[0mint\u001b[0m\u001b[1;33m(\u001b[0m\u001b[0msys\u001b[0m\u001b[1;33m.\u001b[0m\u001b[0mstdin\u001b[0m\u001b[1;33m.\u001b[0m\u001b[0mreadline\u001b[0m\u001b[1;33m(\u001b[0m\u001b[1;33m)\u001b[0m\u001b[1;33m)\u001b[0m\u001b[1;33m\u001b[0m\u001b[1;33m\u001b[0m\u001b[0m\n\u001b[0m\u001b[0;32m      4\u001b[0m \u001b[1;32mfor\u001b[0m \u001b[0mt\u001b[0m \u001b[1;32min\u001b[0m \u001b[0mrange\u001b[0m\u001b[1;33m(\u001b[0m\u001b[1;36m0\u001b[0m\u001b[1;33m,\u001b[0m \u001b[0mT\u001b[0m\u001b[1;33m)\u001b[0m\u001b[1;33m:\u001b[0m\u001b[1;33m\u001b[0m\u001b[1;33m\u001b[0m\u001b[0m\n\u001b[0;32m      5\u001b[0m     \u001b[0mA\u001b[0m\u001b[1;33m,\u001b[0m \u001b[0mB\u001b[0m \u001b[1;33m=\u001b[0m \u001b[1;33m[\u001b[0m\u001b[0mint\u001b[0m\u001b[1;33m(\u001b[0m\u001b[0mx\u001b[0m\u001b[1;33m)\u001b[0m \u001b[1;32mfor\u001b[0m \u001b[0mx\u001b[0m \u001b[1;32min\u001b[0m \u001b[0msys\u001b[0m\u001b[1;33m.\u001b[0m\u001b[0mstdin\u001b[0m\u001b[1;33m.\u001b[0m\u001b[0mreadline\u001b[0m\u001b[1;33m(\u001b[0m\u001b[1;33m)\u001b[0m\u001b[1;33m.\u001b[0m\u001b[0msplit\u001b[0m\u001b[1;33m(\u001b[0m\u001b[1;33m)\u001b[0m\u001b[1;33m]\u001b[0m\u001b[1;33m\u001b[0m\u001b[1;33m\u001b[0m\u001b[0m\n",
      "\u001b[1;31mValueError\u001b[0m: invalid literal for int() with base 10: ''"
     ]
    }
   ],
   "source": [
    "import sys\n",
    "\n",
    "T = int(sys.stdin.readline())\n",
    "for t in range(0, T):\n",
    "    A, B = [int(x) for x in sys.stdin.readline().split()]\n",
    "    print(A + B)"
   ]
  },
  {
   "cell_type": "markdown",
   "id": "771e7d04",
   "metadata": {},
   "source": [
    "input()으로 먼저 작성한 뒤 sys.stdin.readline() 함수로 변경해도 무방하다."
   ]
  },
  {
   "cell_type": "markdown",
   "id": "68ff29c5",
   "metadata": {},
   "source": [
    "## [2741](https://www.acmicpc.net/problem/2741)"
   ]
  },
  {
   "cell_type": "code",
   "execution_count": 12,
   "id": "acdd0c0d",
   "metadata": {},
   "outputs": [
    {
     "name": "stdout",
     "output_type": "stream",
     "text": [
      "5\n",
      "1\n",
      "2\n",
      "3\n",
      "4\n",
      "5\n"
     ]
    }
   ],
   "source": [
    "N = int(input())\n",
    "for i in range(1, N + 1):\n",
    "    print(i)"
   ]
  },
  {
   "cell_type": "markdown",
   "id": "45f75414",
   "metadata": {},
   "source": [
    "## [2742](https://www.acmicpc.net/problem/2742)"
   ]
  },
  {
   "cell_type": "code",
   "execution_count": 13,
   "id": "b9464d8a",
   "metadata": {},
   "outputs": [
    {
     "name": "stdout",
     "output_type": "stream",
     "text": [
      "5\n",
      "5\n",
      "4\n",
      "3\n",
      "2\n",
      "1\n"
     ]
    }
   ],
   "source": [
    "N = int(input())\n",
    "for i in range(N, 0, -1):\n",
    "    print(i)"
   ]
  },
  {
   "cell_type": "markdown",
   "id": "33044af6",
   "metadata": {},
   "source": [
    "## [11021](https://www.acmicpc.net/problem/11021)"
   ]
  },
  {
   "cell_type": "code",
   "execution_count": 16,
   "id": "61e711db",
   "metadata": {},
   "outputs": [
    {
     "name": "stdout",
     "output_type": "stream",
     "text": [
      "5\n",
      "1 1\n",
      "Case #1: 2\n",
      "2 3\n",
      "Case #2: 5\n",
      "3 4\n",
      "Case #3: 7\n",
      "9 8\n",
      "Case #4: 17\n",
      "5 2\n",
      "Case #5: 7\n"
     ]
    }
   ],
   "source": [
    "T = int(input())\n",
    "for i in range(1, T + 1):\n",
    "    A, B = [int(x) for x in input().split()]\n",
    "    print(f'Case #{i}: {A+B}')"
   ]
  },
  {
   "cell_type": "markdown",
   "id": "0d477a78",
   "metadata": {},
   "source": [
    "## [11022](https://www.acmicpc.net/problem/11022)"
   ]
  },
  {
   "cell_type": "code",
   "execution_count": 17,
   "id": "d551440b",
   "metadata": {},
   "outputs": [
    {
     "name": "stdout",
     "output_type": "stream",
     "text": [
      "5\n",
      "1 1\n",
      "Case #1: 1 + 1 = 2\n",
      "2 3\n",
      "Case #2: 2 + 3 = 5\n",
      "3 4\n",
      "Case #3: 3 + 4 = 7\n",
      "9 8\n",
      "Case #4: 9 + 8 = 17\n",
      "5 2\n",
      "Case #5: 5 + 2 = 7\n"
     ]
    }
   ],
   "source": [
    "T = int(input())\n",
    "for i in range(1, T + 1):\n",
    "    A, B = [int(x) for x in input().split()]\n",
    "    print(f'Case #{i}: {A} + {B} = {A+B}')"
   ]
  },
  {
   "cell_type": "markdown",
   "id": "242ebfb6",
   "metadata": {},
   "source": [
    "## [2438](https://www.acmicpc.net/problem/2438)"
   ]
  },
  {
   "cell_type": "code",
   "execution_count": 19,
   "id": "faaa3cff",
   "metadata": {},
   "outputs": [
    {
     "name": "stdout",
     "output_type": "stream",
     "text": [
      "5\n",
      "*\n",
      "**\n",
      "***\n",
      "****\n",
      "*****\n"
     ]
    }
   ],
   "source": [
    "N = int(input())\n",
    "for i in range(1, N + 1):\n",
    "    print('*' * i)"
   ]
  },
  {
   "cell_type": "markdown",
   "id": "8da83520",
   "metadata": {},
   "source": [
    "## [2439](https://www.acmicpc.net/problem/2439)"
   ]
  },
  {
   "cell_type": "code",
   "execution_count": 21,
   "id": "7c2e35c9",
   "metadata": {},
   "outputs": [
    {
     "name": "stdout",
     "output_type": "stream",
     "text": [
      "5\n",
      "    *\n",
      "   **\n",
      "  ***\n",
      " ****\n",
      "*****\n"
     ]
    }
   ],
   "source": [
    "N = int(input())\n",
    "for i in range(N, 0, -1):\n",
    "    blank = ' ' * (i - 1)\n",
    "    star = '*' * (N - i + 1)\n",
    "    print(blank + star)"
   ]
  },
  {
   "cell_type": "markdown",
   "id": "d11e5fc4",
   "metadata": {},
   "source": [
    "## [10871](https://www.acmicpc.net/problem/10871)"
   ]
  },
  {
   "cell_type": "code",
   "execution_count": 28,
   "id": "89dfa024",
   "metadata": {},
   "outputs": [
    {
     "name": "stdout",
     "output_type": "stream",
     "text": [
      "10 5\n",
      "1 10 4 9 2 3 8 5 7 6\n",
      "1 4 2 3 "
     ]
    },
    {
     "data": {
      "text/plain": [
       "[None, None, None, None]"
      ]
     },
     "execution_count": 28,
     "metadata": {},
     "output_type": "execute_result"
    }
   ],
   "source": [
    "N, X = [int(x) for x in input().split()]\n",
    "A = [int(x) for x in input().split()]\n",
    "A_filtered = list(filter(lambda a: a < X, A))\n",
    "[print(a, end = ' ')for a in A_filtered]"
   ]
  },
  {
   "cell_type": "markdown",
   "id": "56dfb783",
   "metadata": {},
   "source": [
    "## [10952](https://www.acmicpc.net/problem/10952)"
   ]
  },
  {
   "cell_type": "code",
   "execution_count": 30,
   "id": "6c6d0e21",
   "metadata": {},
   "outputs": [
    {
     "name": "stdout",
     "output_type": "stream",
     "text": [
      "1 1\n",
      "2\n",
      "2 3\n",
      "5\n",
      "3 4\n",
      "7\n",
      "9 8\n",
      "17\n",
      "5 2\n",
      "7\n",
      "0 0\n"
     ]
    }
   ],
   "source": [
    "while True:\n",
    "    A, B = [int(x) for x in input().split()]\n",
    "    if A == 0 and B == 0:\n",
    "        break\n",
    "    else:\n",
    "        print(A + B)"
   ]
  },
  {
   "cell_type": "markdown",
   "id": "5ce9cb70",
   "metadata": {},
   "source": [
    "## [10951](https://www.acmicpc.net/problem/10951) # EOF"
   ]
  },
  {
   "cell_type": "code",
   "execution_count": null,
   "id": "b98e5a0f",
   "metadata": {},
   "outputs": [],
   "source": [
    "while True:\n",
    "    try:\n",
    "        A, B = [int(x) for x in input().split()]\n",
    "        print(A + B)\n",
    "    except:\n",
    "        break"
   ]
  },
  {
   "cell_type": "markdown",
   "id": "6fefee12",
   "metadata": {},
   "source": [
    "언제까지 입력을 받아야 하는지 입력값의 갯수를 알 수 없으므로, End Of File Error를 처리해 주는 try 구문이 필요하다."
   ]
  },
  {
   "cell_type": "markdown",
   "id": "b201a942",
   "metadata": {},
   "source": [
    "## [1110](https://www.acmicpc.net/problem/1110)"
   ]
  },
  {
   "cell_type": "code",
   "execution_count": 36,
   "id": "6c8d5d24",
   "metadata": {},
   "outputs": [
    {
     "name": "stdout",
     "output_type": "stream",
     "text": [
      "26\n",
      "4\n"
     ]
    }
   ],
   "source": [
    "N = int(input())\n",
    "N_org =N\n",
    "count = 0\n",
    "\n",
    "while True:\n",
    "    digit_10 = N // 10\n",
    "    digit_1 = N % 10\n",
    "    plus = (digit_10 + digit_1) % 10\n",
    "    N = digit_1 * 10 + plus\n",
    "    count += 1\n",
    "    if N_org == N:\n",
    "        break\n",
    "\n",
    "print(count)"
   ]
  }
 ],
 "metadata": {
  "kernelspec": {
   "display_name": "Python 3 (ipykernel)",
   "language": "python",
   "name": "python3"
  },
  "language_info": {
   "codemirror_mode": {
    "name": "ipython",
    "version": 3
   },
   "file_extension": ".py",
   "mimetype": "text/x-python",
   "name": "python",
   "nbconvert_exporter": "python",
   "pygments_lexer": "ipython3",
   "version": "3.9.7"
  }
 },
 "nbformat": 4,
 "nbformat_minor": 5
}
