{
 "cells": [
  {
   "cell_type": "markdown",
   "id": "53a79199",
   "metadata": {},
   "source": [
    "# Greedy algorithm (탐욕 알고리즘)"
   ]
  },
  {
   "cell_type": "markdown",
   "id": "fdc7eb6a",
   "metadata": {},
   "source": [
    "매 결정 순간마다 그 순간 최적해를 선택하는 방식으로 최종 해답에 도달하는 방법\n",
    "\n",
    "선택 순간마다 지역적 최적값이지만 최종해가 최적이라는 보장은 없다."
   ]
  },
  {
   "cell_type": "markdown",
   "id": "f99eabea",
   "metadata": {},
   "source": [
    "수행과정\n",
    "\n",
    "1. 부분 문제의 최적해를 구한 뒤, 부분 해 집합에 추가\n",
    "\n",
    "2. 새로운 부분해 집합이 실행 가능한지 확인하고, 제약조건을 위반하지 않는지 검사\n",
    "\n",
    "3. 새로운 부분해 집합이 문제의 해가 되는지 확인\n",
    "\n",
    "아직 전체 해가 완성되지 않았으면, 해 선택부터 다시 시작"
   ]
  },
  {
   "cell_type": "markdown",
   "id": "5e4996c4",
   "metadata": {},
   "source": [
    "## 백준"
   ]
  },
  {
   "cell_type": "markdown",
   "id": "d432df6e",
   "metadata": {},
   "source": [
    "### [11047](https://www.acmicpc.net/problem/11047)"
   ]
  },
  {
   "cell_type": "code",
   "execution_count": 37,
   "id": "8c0a8224",
   "metadata": {},
   "outputs": [
    {
     "name": "stdout",
     "output_type": "stream",
     "text": [
      "10 4790\n",
      "1\n",
      "5\n",
      "10\n",
      "50\n",
      "100\n",
      "500\n",
      "1000\n",
      "5000\n",
      "10000\n",
      "50000\n",
      "12\n"
     ]
    }
   ],
   "source": [
    "N, K = map(int, input().split())\n",
    "\n",
    "A = []\n",
    "for i in range(N):\n",
    "    A.append(int(input()))\n",
    "coin_counts = [0 for i in range(N)]\n",
    "    \n",
    "def choose_coin(K: int, A: list[int]) -> int: # 가장 큰 동전 선택\n",
    "    coin_ind = 0 \n",
    "    for i in range(N):\n",
    "        if K - A[i] < 0:\n",
    "            return i - 1\n",
    "        elif i == len(A) - 1:\n",
    "            return i\n",
    "        \n",
    "while True:\n",
    "    coin_ind = choose_coin(K, A) # 가장 큰 동전 선택\n",
    "    count, remains = divmod(K, A[coin_ind]) # 몫과 나머지 계산\n",
    "    coin_counts[coin_ind] = count\n",
    "    if remains == 0: # 잔돈이 없으면 종료\n",
    "        break \n",
    "    else: # 잔돈이 남으면 재시도\n",
    "        K = remains\n",
    "\n",
    "print(sum(coin_counts))    "
   ]
  },
  {
   "cell_type": "markdown",
   "id": "8349b603",
   "metadata": {},
   "source": [
    "### [1931](https://www.acmicpc.net/problem/1931)"
   ]
  },
  {
   "cell_type": "code",
   "execution_count": 93,
   "id": "4ef72eaf",
   "metadata": {},
   "outputs": [
    {
     "name": "stdout",
     "output_type": "stream",
     "text": [
      "11\n",
      "1 4\n",
      "3 5\n",
      "0 6\n",
      "5 7\n",
      "3 8\n",
      "5 9\n",
      "6 10\n",
      "8 11\n",
      "8 12\n",
      "2 13\n",
      "12 14\n",
      "4\n"
     ]
    }
   ],
   "source": [
    "N = int(input())\n",
    "\n",
    "conference_time = []\n",
    "for i in range(N):\n",
    "    conference_time.append(list(map(int,input().split())))\n",
    "    \n",
    "conference_time.sort(key = lambda x: (x[1], x[0])) # 시작, 종료 시간 기준으로 정렬\n",
    "  \n",
    "count = 0\n",
    "now_time = 0\n",
    "for start, end in conference_time: \n",
    "    if start >= now_time: # 회의 시작시간이 현재시간보다 이후라면 회의 잡음\n",
    "        count += 1\n",
    "        now_time = end\n",
    "        \n",
    "print(count)"
   ]
  },
  {
   "cell_type": "markdown",
   "id": "8bf28823",
   "metadata": {},
   "source": [
    "### [11399](https://www.acmicpc.net/problem/11399)"
   ]
  },
  {
   "cell_type": "code",
   "execution_count": 18,
   "id": "1a670039",
   "metadata": {},
   "outputs": [
    {
     "name": "stdout",
     "output_type": "stream",
     "text": [
      "5\n",
      "3 1 4 3 2\n",
      "32\n"
     ]
    }
   ],
   "source": [
    "N = int(input())\n",
    "P = list(map(int, input().split()))\n",
    "\n",
    "P.sort() # 소요시간 순서대로 정렬 : 가장빠르게 끝낼수 있는 사람부터 처리함\n",
    "taking_time = [P[i] * (N - i)  for i in range(N)] # 시간 합 구함\n",
    "print(sum(taking_time))"
   ]
  },
  {
   "cell_type": "markdown",
   "id": "9c8f8076",
   "metadata": {},
   "source": [
    "시간의 합을 구하는 부분은 다음과 같이 생각하였다.\n",
    "\n",
    "시간 순서대로 정렬한 경우, P = [1,2,3,3,4]와 같이 정렬될 수 있다.\n",
    "\n",
    "이때 1번째 사람은 1분이 필요하며,\n",
    "\n",
    "이때 2번째 사람은 1 + 2분이 필요하다.\n",
    "\n",
    "마찬가지로 마지막 사람은 1 + 2 + 3 + 3 + 4분이 필요하다.\n",
    "\n",
    "즉, 1은 5명 모두가 필요하며,\n",
    "\n",
    "2는 4명, 4는 1명만 필요하게 된다.\n",
    "\n",
    "즉, P의 i번째 원소는 N-i 번 중복해서 나타나게 된다."
   ]
  },
  {
   "cell_type": "markdown",
   "id": "33753707",
   "metadata": {},
   "source": [
    "### [1541](https://www.acmicpc.net/problem/1541)"
   ]
  },
  {
   "cell_type": "code",
   "execution_count": 41,
   "id": "e635fd5b",
   "metadata": {},
   "outputs": [
    {
     "name": "stdout",
     "output_type": "stream",
     "text": [
      "0009-0009\n",
      "0\n"
     ]
    }
   ],
   "source": [
    "equation = input()\n",
    "\n",
    "def plus(number_str: str) -> int:\n",
    "    numbers_list = number_str.split('+') # '+' 기준으로 분할하여 숫자만 남김\n",
    "    numbers_list = [int(num) for num in numbers_list] # int 캐스팅\n",
    "    return sum(numbers_list) # 합계 리턴\n",
    "\n",
    "equation_list = equation.split(sep = '-') # '-' 기준으로 수식을 쪼갬\n",
    "equation_list = [plus(eq) for eq in equation_list]\n",
    "\n",
    "answer = equation_list[0] # 쪼개진 수식 '-' 계산\n",
    "for i in range(1, len(equation_list)):\n",
    "    answer -= equation_list[i]\n",
    "print(answer) "
   ]
  },
  {
   "cell_type": "markdown",
   "id": "73cf2f75",
   "metadata": {},
   "source": [
    "### [13305](https://www.acmicpc.net/problem/13305)"
   ]
  },
  {
   "cell_type": "code",
   "execution_count": 128,
   "id": "699ceef5",
   "metadata": {},
   "outputs": [
    {
     "name": "stdout",
     "output_type": "stream",
     "text": [
      "4\n",
      "2 3 1\n",
      "5 2 4 1\n",
      "18\n"
     ]
    }
   ],
   "source": [
    "N = int(input())\n",
    "road_len = list(map(int, input().split()))\n",
    "oil_price = list(map(int, input().split()))\n",
    "\n",
    "cost = 0\n",
    "min_price = oil_price[0] # 최솟값 초기화\n",
    "for i in range(0, N-1):\n",
    "    if min_price > oil_price[i]: # 현재 도시가 최솟값보다 더 싸다면, 최솟값 대체\n",
    "        min_price = oil_price[i]\n",
    "    cost += min_price * road_len[i] # 도로를 지남\n",
    "        \n",
    "print(cost)"
   ]
  }
 ],
 "metadata": {
  "kernelspec": {
   "display_name": "Python 3 (ipykernel)",
   "language": "python",
   "name": "python3"
  },
  "language_info": {
   "codemirror_mode": {
    "name": "ipython",
    "version": 3
   },
   "file_extension": ".py",
   "mimetype": "text/x-python",
   "name": "python",
   "nbconvert_exporter": "python",
   "pygments_lexer": "ipython3",
   "version": "3.9.7"
  }
 },
 "nbformat": 4,
 "nbformat_minor": 5
}
