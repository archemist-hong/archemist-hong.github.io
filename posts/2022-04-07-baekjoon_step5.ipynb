{
 "cells": [
  {
   "cell_type": "markdown",
   "id": "b358386b",
   "metadata": {},
   "source": [
    "# 함수"
   ]
  },
  {
   "cell_type": "markdown",
   "id": "2f4fabb2",
   "metadata": {},
   "source": [
    "## [15596](https://www.acmicpc.net/problem/15596)"
   ]
  },
  {
   "cell_type": "code",
   "execution_count": 12,
   "id": "0340bb1b",
   "metadata": {},
   "outputs": [],
   "source": [
    "def solve(a: list[int]) -> int:\n",
    "    return sum(a)"
   ]
  },
  {
   "cell_type": "markdown",
   "id": "1310423b",
   "metadata": {},
   "source": [
    "## [4673](https://www.acmicpc.net/problem/4673)"
   ]
  },
  {
   "cell_type": "code",
   "execution_count": null,
   "id": "71b367b5",
   "metadata": {},
   "outputs": [],
   "source": [
    "def d(num: int) -> int:\n",
    "    num_str :str = str(num)\n",
    "    return num + sum([int(n) for n in num_str])\n",
    "\n",
    "natural_numbers = set(range(1, 10001))\n",
    "generated_numbers = set()\n",
    "for number in natural_numbers:`b\n",
    "    generated_number = d(number)\n",
    "    generated_numbers.add(generated_number)\n",
    "\n",
    "self_numbers = sorted(natural_numbers - generated_numbers)\n",
    "for self_number in self_numbers:\n",
    "    print(self_number)"
   ]
  },
  {
   "cell_type": "markdown",
   "id": "e49e35ab",
   "metadata": {},
   "source": [
    "시간 초과 주의!\n",
    "\n",
    "중복을 제거할때는 set 자료형을 잘 사용하자!"
   ]
  },
  {
   "cell_type": "markdown",
   "id": "849c9ca3",
   "metadata": {},
   "source": [
    "## [1065](https://www.acmicpc.net/problem/1065)"
   ]
  },
  {
   "cell_type": "code",
   "execution_count": 30,
   "id": "9d9b3a8c",
   "metadata": {},
   "outputs": [
    {
     "name": "stdout",
     "output_type": "stream",
     "text": [
      "500\n",
      "119\n"
     ]
    }
   ],
   "source": [
    "def is_hansu(X: int) -> bool:\n",
    "    X = str(X)\n",
    "    if len(X) == 1:\n",
    "        return True\n",
    "    digit_diffs = set(int(X[i]) - int(X[i-1]) for i in range(1, len(X)))\n",
    "    if len(digit_diffs) == 1:\n",
    "        return True\n",
    "    else:\n",
    "        return False\n",
    "\n",
    "N = int(input())\n",
    "hansus = []\n",
    "for n in range(1, N + 1):\n",
    "    if is_hansu(n):\n",
    "        hansus.append(n)\n",
    "print(len(hansus))"
   ]
  }
 ],
 "metadata": {
  "kernelspec": {
   "display_name": "Python 3 (ipykernel)",
   "language": "python",
   "name": "python3"
  },
  "language_info": {
   "codemirror_mode": {
    "name": "ipython",
    "version": 3
   },
   "file_extension": ".py",
   "mimetype": "text/x-python",
   "name": "python",
   "nbconvert_exporter": "python",
   "pygments_lexer": "ipython3",
   "version": "3.9.7"
  }
 },
 "nbformat": 4,
 "nbformat_minor": 5
}
