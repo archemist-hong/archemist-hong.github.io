{
 "cells": [
  {
   "cell_type": "markdown",
   "id": "d88e09ba",
   "metadata": {},
   "source": [
    "# 문자열"
   ]
  },
  {
   "cell_type": "markdown",
   "id": "3b76c7ce",
   "metadata": {},
   "source": [
    "## [11654](https://www.acmicpc.net/step/7)"
   ]
  },
  {
   "cell_type": "code",
   "execution_count": 7,
   "id": "72b14d96",
   "metadata": {},
   "outputs": [
    {
     "name": "stdout",
     "output_type": "stream",
     "text": [
      "A\n",
      "65\n"
     ]
    }
   ],
   "source": [
    "_input = input()\n",
    "print(ord(_input))"
   ]
  },
  {
   "cell_type": "markdown",
   "id": "704193d1",
   "metadata": {},
   "source": [
    "- ord(문자) : 문자의 아스키 코드값을 리턴\n",
    "- chr(숫자) : 숫자에 해당하는 아스키 문자를 리턴"
   ]
  },
  {
   "cell_type": "markdown",
   "id": "517a4d82",
   "metadata": {},
   "source": [
    "## [11720](https://www.acmicpc.net/problem/11720)"
   ]
  },
  {
   "cell_type": "code",
   "execution_count": 9,
   "id": "1b95931a",
   "metadata": {},
   "outputs": [
    {
     "name": "stdout",
     "output_type": "stream",
     "text": [
      "11\n",
      "10987654321\n",
      "46\n"
     ]
    }
   ],
   "source": [
    "N = int(input())\n",
    "sequence = input()\n",
    "print(sum([int(number) for number in sequence]))"
   ]
  },
  {
   "cell_type": "markdown",
   "id": "b4e19529",
   "metadata": {},
   "source": [
    "## [10809](https://www.acmicpc.net/problem/10809)"
   ]
  },
  {
   "cell_type": "code",
   "execution_count": 13,
   "id": "b0ad4ef2",
   "metadata": {},
   "outputs": [
    {
     "name": "stdout",
     "output_type": "stream",
     "text": [
      "baekjoon\n",
      "1 0 -1 -1 2 -1 -1 -1 -1 4 3 -1 -1 7 5 -1 -1 -1 -1 -1 -1 -1 -1 -1 -1 -1 "
     ]
    }
   ],
   "source": [
    "S = input()\n",
    "alphabets = 'abcdefghijklmnopqrstuvwxyz'\n",
    "alphabet_indexes = []\n",
    "for alphabet_index in range(0, len(alphabets)):\n",
    "    alphabet = alphabets[alphabet_index]\n",
    "    for index in range(0, len(S)):\n",
    "        if S[index] == alphabet:\n",
    "            alphabet_indexes.append(index)\n",
    "            break\n",
    "        else:\n",
    "            if index == (len(S)-1):\n",
    "                alphabet_indexes.append(-1)\n",
    "                \n",
    "for i in range(0, len(alphabet_indexes)):\n",
    "    print(alphabet_indexes[i], end = ' ')"
   ]
  },
  {
   "cell_type": "markdown",
   "id": "0127eab3",
   "metadata": {},
   "source": [
    "## [2675](https://www.acmicpc.net/problem/2675)"
   ]
  },
  {
   "cell_type": "code",
   "execution_count": 20,
   "id": "5654b220",
   "metadata": {},
   "outputs": [
    {
     "name": "stdout",
     "output_type": "stream",
     "text": [
      "2\n",
      "3 ABC\n",
      "AAABBBCCC\n",
      "5 /HTP\n",
      "/////HHHHHTTTTTPPPPP\n"
     ]
    }
   ],
   "source": [
    "T = int(input())\n",
    "for i in range(0, T):\n",
    "    R, S = input().split()\n",
    "    R = int(R)\n",
    "    P_list = [char * R for char in S]\n",
    "    P = ''.join(P_list)\n",
    "    print(P)"
   ]
  },
  {
   "cell_type": "markdown",
   "id": "33d06ca5",
   "metadata": {},
   "source": [
    "## [1157](https://www.acmicpc.net/problem/1157)"
   ]
  },
  {
   "cell_type": "code",
   "execution_count": 28,
   "id": "f6021af7",
   "metadata": {},
   "outputs": [
    {
     "name": "stdout",
     "output_type": "stream",
     "text": [
      "baaa\n",
      "A\n"
     ]
    }
   ],
   "source": [
    "word = input().upper()\n",
    "alphabet_counts = []\n",
    "alphabets = 'abcdefghijklmnopqrstuvwxyz'\n",
    "alphabets = alphabets.upper()\n",
    "for i in range(0, len(alphabets)):\n",
    "    count = 0\n",
    "    for char in word:\n",
    "        if alphabets[i] == char:\n",
    "            count += 1\n",
    "    alphabet_counts.append(count)\n",
    "\n",
    "index = []\n",
    "count_max = max(alphabet_counts)\n",
    "for i in range(0, len(alphabet_counts)):\n",
    "    if count_max == alphabet_counts[i]:\n",
    "        index.append(i)\n",
    "        \n",
    "if len(index) >= 2 :\n",
    "    print(\"?\")\n",
    "else:\n",
    "    print(alphabets[index[0]])"
   ]
  },
  {
   "cell_type": "markdown",
   "id": "29bce498",
   "metadata": {},
   "source": [
    "## [1152](https://www.acmicpc.net/problem/1152)"
   ]
  },
  {
   "cell_type": "code",
   "execution_count": 29,
   "id": "f4702ef4",
   "metadata": {},
   "outputs": [
    {
     "name": "stdout",
     "output_type": "stream",
     "text": [
      "The Curious Case of Benjamin Button\n",
      "6\n"
     ]
    }
   ],
   "source": [
    "words = input().split()\n",
    "print(len(words))"
   ]
  },
  {
   "cell_type": "markdown",
   "id": "b06d8588",
   "metadata": {},
   "source": [
    "## [2908](https://www.acmicpc.net/problem/2908)"
   ]
  },
  {
   "cell_type": "code",
   "execution_count": 32,
   "id": "85bba307",
   "metadata": {},
   "outputs": [
    {
     "name": "stdout",
     "output_type": "stream",
     "text": [
      "221 231\n",
      "132\n"
     ]
    }
   ],
   "source": [
    "A, B = input().split()\n",
    "A = int(A[::-1])\n",
    "B = int(B[::-1])\n",
    "print(max([A, B]))"
   ]
  },
  {
   "cell_type": "markdown",
   "id": "8d3fcfaf",
   "metadata": {},
   "source": [
    "## [5622](https://www.acmicpc.net/problem/5622)"
   ]
  },
  {
   "cell_type": "code",
   "execution_count": 41,
   "id": "46bd5209",
   "metadata": {},
   "outputs": [
    {
     "name": "stdout",
     "output_type": "stream",
     "text": [
      "UNUCIC\n",
      "36\n"
     ]
    }
   ],
   "source": [
    "words = input()\n",
    "\n",
    "character_groups = ['', 'ABC', 'DEF', 'GHI', 'JKL', 'MNO', 'PQRS', 'TUV', 'WXYZ', 'OPERATOR']\n",
    "number_groups = list(range(1, 10)) + [0]\n",
    "\n",
    "def translate_character(character : str, character_groups : list[str], number_groups : list[int]) -> int:\n",
    "    for i in range(0, len(character_groups)):\n",
    "        if character in character_groups[i]:\n",
    "            return number_groups[i]\n",
    "            break\n",
    "\n",
    "time = 0\n",
    "for char in words:\n",
    "    time += translate_character(char, character_groups, number_groups) + 1\n",
    "\n",
    "print(time)"
   ]
  },
  {
   "cell_type": "markdown",
   "id": "dc32a8af",
   "metadata": {},
   "source": [
    "## [2941](https://www.acmicpc.net/problem/2941)"
   ]
  },
  {
   "cell_type": "code",
   "execution_count": 52,
   "id": "1f0eb9fc",
   "metadata": {},
   "outputs": [
    {
     "name": "stdout",
     "output_type": "stream",
     "text": [
      "dz=ak\n",
      "3\n"
     ]
    }
   ],
   "source": [
    "_input = input()\n",
    "two_char_croatia_alphabet = ['c=', 'c-', 'd-', 'lj', 'nj', 's=', 'z=']\n",
    "count = 0\n",
    "i = 0\n",
    "while i < len(_input):\n",
    "    if _input[i:(i+3)] == 'dz=':\n",
    "        count += 1\n",
    "        i += 3\n",
    "    elif _input[i:(i+2)] in two_char_croatia_alphabet:\n",
    "        count += 1\n",
    "        i += 2\n",
    "    else:\n",
    "        count += 1\n",
    "        i += 1\n",
    "print(count)"
   ]
  },
  {
   "cell_type": "markdown",
   "id": "ce868d29",
   "metadata": {},
   "source": [
    "# [1316](https://www.acmicpc.net/problem/1316)"
   ]
  },
  {
   "cell_type": "code",
   "execution_count": 80,
   "id": "5124521f",
   "metadata": {},
   "outputs": [
    {
     "name": "stdout",
     "output_type": "stream",
     "text": [
      "1\n",
      "z\n",
      "1\n"
     ]
    }
   ],
   "source": [
    "N = int(input())\n",
    "\n",
    "def is_group_word(word: str) -> bool:\n",
    "    for index in range(0, len(word)-1):\n",
    "        char = word[index]\n",
    "        if (word[index] != word[index + 1]) and (word[index] in word[index + 1:]):\n",
    "            return False\n",
    "    return True            \n",
    "        \n",
    "count = 0\n",
    "for n in range(0, N):\n",
    "    word = input()\n",
    "    if is_group_word(word):\n",
    "        count += 1\n",
    "print(count)"
   ]
  },
  {
   "cell_type": "markdown",
   "id": "86141fbf",
   "metadata": {},
   "source": [
    "- 그룹단어 아이디어:\n",
    "\n",
    "'aabca'와 같은 단어에서 a라고 하는 단어가 연속해서 나오다가 b라는 단어로 바뀌었는데, b뒤의 문자열 'ca'에서 'a'가 있으면 그룹단어가 아님"
   ]
  }
 ],
 "metadata": {
  "kernelspec": {
   "display_name": "Python 3 (ipykernel)",
   "language": "python",
   "name": "python3"
  },
  "language_info": {
   "codemirror_mode": {
    "name": "ipython",
    "version": 3
   },
   "file_extension": ".py",
   "mimetype": "text/x-python",
   "name": "python",
   "nbconvert_exporter": "python",
   "pygments_lexer": "ipython3",
   "version": "3.9.7"
  }
 },
 "nbformat": 4,
 "nbformat_minor": 5
}
