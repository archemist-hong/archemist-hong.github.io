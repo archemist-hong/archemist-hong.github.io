{
 "cells": [
  {
   "cell_type": "markdown",
   "id": "3d5f77ab",
   "metadata": {},
   "source": [
    "# Pooling"
   ]
  },
  {
   "cell_type": "markdown",
   "id": "1a4ba8da",
   "metadata": {},
   "source": [
    "Pooling 역시 마찬가지로, Window를 뽑고, 뽑아진 Window에서 스칼라 값을 구함"
   ]
  },
  {
   "cell_type": "code",
   "execution_count": null,
   "id": "c39f3e53",
   "metadata": {},
   "outputs": [],
   "source": [
    "이미지"
   ]
  },
  {
   "cell_type": "markdown",
   "id": "dbb45c9c",
   "metadata": {},
   "source": [
    "pytorch에서 1d pooling은 (batch_size, channel, Length) 순으로 주어져야함"
   ]
  },
  {
   "cell_type": "markdown",
   "id": "01167f6d",
   "metadata": {},
   "source": [
    "## 실습"
   ]
  },
  {
   "cell_type": "markdown",
   "id": "fa7d1d8f",
   "metadata": {},
   "source": [
    "### 1d Max Pooling"
   ]
  },
  {
   "cell_type": "code",
   "execution_count": 11,
   "id": "860203a4",
   "metadata": {},
   "outputs": [
    {
     "name": "stdout",
     "output_type": "stream",
     "text": [
      "x: (1, 1, 10) \n",
      " [-0.48127815  0.23707525  0.7108094   1.077727   -0.29472053  0.6619225\n",
      "  1.108688   -1.179858    0.2866399   0.34239697]\n",
      "pooled_max(Pytorch): (1, 1, 9) \n",
      " [0.23707525 0.7108094  1.077727   1.077727   0.6619225  1.108688\n",
      " 1.108688   0.2866399  0.34239697]\n",
      "pooled max(Manual): (9,) \n",
      " [0.23707525 0.71080941 1.07772696 1.07772696 0.66192251 1.108688\n",
      " 1.108688   0.2866399  0.34239697]\n"
     ]
    }
   ],
   "source": [
    "import numpy as np\n",
    "import torch\n",
    "\n",
    "L, kernel_size, s = 10, 2, 1\n",
    "\n",
    "x = torch.randn(1, 1, L)\n",
    "\n",
    "pool_max = torch.nn.MaxPool1d(kernel_size, stride = s)\n",
    "pooled_max = pool_max(x)\n",
    "\n",
    "print(f'x: {x.detach().numpy().shape} \\n {x.detach().numpy().flatten()}')\n",
    "print(f\"pooled_max(Pytorch): {pooled_max.detach().numpy().shape} \\n {pooled_max.detach().numpy().flatten()}\")\n",
    "\n",
    "x = x.detach().numpy().flatten()\n",
    "pooled_max_man = np.zeros((L - kernel_size + 1, ))\n",
    "for i in range(L-kernel_size+1):\n",
    "    window = x[i:i+kernel_size]\n",
    "    pooled_max_man[i] = np.max(window)\n",
    "    \n",
    "print(f\"pooled max(Manual): {pooled_max_man.shape} \\n {pooled_max_man}\")"
   ]
  },
  {
   "cell_type": "markdown",
   "id": "ab1abb14",
   "metadata": {},
   "source": [
    "### 1d Average Pooling"
   ]
  },
  {
   "cell_type": "code",
   "execution_count": 19,
   "id": "1851b08f",
   "metadata": {},
   "outputs": [
    {
     "name": "stdout",
     "output_type": "stream",
     "text": [
      "x: (1, 1, 10) \n",
      " [-1.2186155  -1.367341   -1.0704515   0.9276175  -1.0581208   0.26181394\n",
      "  0.9691664   1.3611132   0.67118055 -0.15293758]\n",
      "pooled_avg(Pytorch): (1, 1, 9) \n",
      " [-1.2929783  -1.2188963  -0.071417   -0.06525168 -0.39815345  0.6154902\n",
      "  1.1651398   1.0161469   0.25912148]\n",
      "pooled avg(Manual): (9,) \n",
      " [-1.29297829 -1.21889627 -0.071417   -0.06525168 -0.39815345  0.6154902\n",
      "  1.16513979  1.0161469   0.25912148]\n"
     ]
    }
   ],
   "source": [
    "import numpy as np\n",
    "import torch\n",
    "\n",
    "L, kernel_size, s = 10, 2, 1\n",
    "\n",
    "x = torch.randn(1, 1, L)\n",
    "\n",
    "pool_avg = torch.nn.AvgPool1d(kernel_size, stride = s)\n",
    "pooled_avg = pool_avg(x)\n",
    "\n",
    "print(f'x: {x.detach().numpy().shape} \\n {x.detach().numpy().flatten()}')\n",
    "print(f\"pooled_avg(Pytorch): {pooled_avg.detach().numpy().shape} \\n {pooled_avg.detach().numpy().flatten()}\")\n",
    "\n",
    "x = x.detach().numpy().flatten()\n",
    "pooled_avg_man = np.zeros((L - kernel_size + 1, ))\n",
    "for i in range(L-kernel_size+1):\n",
    "    window = x[i:i+kernel_size]\n",
    "    pooled_avg_man[i] = np.mean(window)\n",
    "    \n",
    "print(f\"pooled avg(Manual): {pooled_avg_man.shape} \\n {pooled_avg_man}\")"
   ]
  },
  {
   "cell_type": "markdown",
   "id": "27177f7b",
   "metadata": {},
   "source": [
    "### 2D Max Pooling"
   ]
  },
  {
   "cell_type": "code",
   "execution_count": 16,
   "id": "f7e7413f",
   "metadata": {},
   "outputs": [
    {
     "name": "stdout",
     "output_type": "stream",
     "text": [
      "x: (1, 1, 5, 5) \n",
      " [[ 0.5980672  -2.2438042   1.3635836   0.5368877   0.00449439]\n",
      " [ 1.6102289   0.7236582  -1.3097978   0.7955343  -1.2279276 ]\n",
      " [-0.29437715 -0.36931333  0.8632904   0.11575136  0.38120705]\n",
      " [-0.72503644  0.6508263   0.9639564   0.66521883  0.2886386 ]\n",
      " [-0.29961133 -0.75649434 -0.45514402 -0.8236796   0.08192622]]\n",
      "pooled_max(Pytorch): (1, 1, 4, 4) \n",
      " [[1.6102289  1.3635836  1.3635836  0.7955343 ]\n",
      " [1.6102289  0.8632904  0.8632904  0.7955343 ]\n",
      " [0.6508263  0.9639564  0.9639564  0.66521883]\n",
      " [0.6508263  0.9639564  0.9639564  0.66521883]]\n",
      "pooled max(Manual): (4, 4) \n",
      " [[1.6102289  1.36358356 1.36358356 0.79553431]\n",
      " [1.6102289  0.86329043 0.86329043 0.79553431]\n",
      " [0.65082628 0.96395642 0.96395642 0.66521883]\n",
      " [0.65082628 0.96395642 0.96395642 0.66521883]]\n"
     ]
    }
   ],
   "source": [
    "import numpy as np\n",
    "import torch\n",
    "\n",
    "N, I_h, I_w, I_c = 1, 5, 5, 1\n",
    "kernel_size, s = 2, 1\n",
    "\n",
    "x = torch.randn(N, I_c, I_h, I_w)\n",
    "\n",
    "pool_max = torch.nn.MaxPool2d(kernel_size, stride = s)\n",
    "pooled_max = pool_max(x)\n",
    "\n",
    "print(f'x: {x.detach().numpy().shape} \\n {x.detach().numpy().squeeze()}')\n",
    "print(f\"pooled_max(Pytorch): {pooled_max.detach().numpy().shape} \\n {pooled_max.detach().numpy().squeeze()}\")\n",
    "\n",
    "x = x.detach().numpy().squeeze()\n",
    "pooled_max_man = np.zeros((I_h - kernel_size + 1, I_w - kernel_size + 1))\n",
    "for h in range(I_h - kernel_size + 1):\n",
    "    for w in range(I_w - kernel_size + 1):\n",
    "        window = x[h:h+kernel_size, w:w+kernel_size]\n",
    "        pooled_max_man[h, w] = np.max(window)\n",
    "    \n",
    "print(f\"pooled max(Manual): {pooled_max_man.shape} \\n {pooled_max_man}\")"
   ]
  },
  {
   "cell_type": "markdown",
   "id": "c31d462a",
   "metadata": {},
   "source": [
    "### 2D Average Pooling"
   ]
  },
  {
   "cell_type": "code",
   "execution_count": 18,
   "id": "68b25929",
   "metadata": {},
   "outputs": [
    {
     "name": "stdout",
     "output_type": "stream",
     "text": [
      "x: (1, 1, 5, 5) \n",
      " [[ 0.06052836 -2.2167168  -1.285001    0.6655307  -0.21489571]\n",
      " [ 0.03523486  0.05609528  1.4438839  -0.45838615 -1.2370079 ]\n",
      " [ 0.16763256  0.01920043 -1.1269134   0.4301835  -0.26899806]\n",
      " [ 0.74840206 -0.2769932   0.8327704  -0.17835443  0.96536404]\n",
      " [ 0.93571705 -3.1159606   1.6648691   0.2195827   0.7074069 ]]\n",
      "pooled_avg(Pytorch): (1, 1, 4, 4) \n",
      " [[-0.51621455 -0.50043464  0.09150685 -0.31118977]\n",
      " [ 0.06954078  0.09806654  0.07219195 -0.38355213]\n",
      " [ 0.16456047 -0.13798393 -0.01057848  0.23704876]\n",
      " [-0.42720866 -0.22382861  0.6347169   0.4284998 ]]\n",
      "pooled avg(Manual): (4, 4) \n",
      " [[-0.51621455 -0.50043464  0.09150685 -0.31118977]\n",
      " [ 0.06954078  0.09806654  0.07219195 -0.38355213]\n",
      " [ 0.16456047 -0.13798393 -0.01057848  0.23704876]\n",
      " [-0.42720866 -0.22382861  0.63471693  0.42849979]]\n"
     ]
    }
   ],
   "source": [
    "import numpy as np\n",
    "import torch\n",
    "\n",
    "N, I_h, I_w, I_c = 1, 5, 5, 1\n",
    "kernel_size, s = 2, 1\n",
    "\n",
    "x = torch.randn(N, I_c, I_h, I_w)\n",
    "\n",
    "pool_avg = torch.nn.AvgPool2d(kernel_size, stride = s)\n",
    "pooled_avg = pool_avg(x)\n",
    "\n",
    "print(f'x: {x.detach().numpy().shape} \\n {x.detach().numpy().squeeze()}')\n",
    "print(f\"pooled_avg(Pytorch): {pooled_avg.detach().numpy().shape} \\n {pooled_avg.detach().numpy().squeeze()}\")\n",
    "\n",
    "x = x.detach().numpy().squeeze()\n",
    "pooled_avg_man = np.zeros((I_h - kernel_size + 1, I_w - kernel_size + 1))\n",
    "for h in range(I_h - kernel_size + 1):\n",
    "    for w in range(I_w - kernel_size + 1):\n",
    "        window = x[h:h+kernel_size, w:w+kernel_size]\n",
    "        pooled_avg_man[h, w] = np.mean(window)\n",
    "    \n",
    "print(f\"pooled avg(Manual): {pooled_avg_man.shape} \\n {pooled_avg_man}\")"
   ]
  },
  {
   "cell_type": "markdown",
   "id": "cdca7fb1",
   "metadata": {},
   "source": [
    "### 3D Max Pooling"
   ]
  },
  {
   "cell_type": "code",
   "execution_count": 28,
   "id": "c2ae6730",
   "metadata": {},
   "outputs": [
    {
     "name": "stdout",
     "output_type": "stream",
     "text": [
      "x: (1, 3, 5, 5) \n",
      " [[[ 0.05906563  0.05523577  0.63052136  1.1241827  -1.1288646 ]\n",
      "  [ 0.01653153  0.95838916  0.44448143  1.0860475   0.2632474 ]\n",
      "  [ 0.48588365  0.01692184  0.23534581 -0.41104707  0.5483297 ]\n",
      "  [-0.5807665  -0.90564317 -0.04516499 -0.5306638  -0.25007153]\n",
      "  [ 0.31946895  0.31562537  1.4033486  -1.1616853   0.05355911]]\n",
      "\n",
      " [[-0.6798515   0.6181247  -0.04671555 -0.11321382 -0.66493547]\n",
      "  [-1.5965999  -0.04826892 -0.0415714  -1.0064133   0.175527  ]\n",
      "  [ 0.09091028 -1.149054    0.69600916  0.66423666 -2.7004225 ]\n",
      "  [ 2.4790628   1.451201    0.05206729 -0.17382304 -0.17845514]\n",
      "  [-1.1906714  -0.43878132 -0.46248004 -0.4247678  -0.80822676]]\n",
      "\n",
      " [[-1.2730048  -0.77286327 -2.1688619   1.900262   -0.15342268]\n",
      "  [-1.4828472   1.2168839   0.32937896 -0.28536674 -0.78127897]\n",
      "  [ 0.81398624  0.10998486  0.94279736 -1.1291951  -1.1023985 ]\n",
      "  [ 0.7787801   0.7869182  -0.94710004  0.81030905  0.9698202 ]\n",
      "  [ 1.2225664  -0.5677787  -0.26974285 -1.0920498   0.65839666]]]\n",
      "pooled_max(Pytorch): (1, 3, 2, 2) \n",
      " [[[0.95838916 1.1241827 ]\n",
      "  [1.4033486  1.4033486 ]]\n",
      "\n",
      " [[0.69600916 0.69600916]\n",
      "  [2.4790628  0.69600916]]\n",
      "\n",
      " [[1.2168839  1.900262  ]\n",
      "  [1.2225664  0.9698202 ]]]\n",
      "pooled max(Manual): (3, 2, 2) \n",
      " [[[0.95838916 1.1241827 ]\n",
      "  [1.40334857 1.40334857]]\n",
      "\n",
      " [[0.69600916 0.69600916]\n",
      "  [2.4790628  0.69600916]]\n",
      "\n",
      " [[1.2168839  1.900262  ]\n",
      "  [1.22256637 0.9698202 ]]]\n"
     ]
    }
   ],
   "source": [
    "import numpy as np\n",
    "import torch\n",
    "import math\n",
    "\n",
    "N, I_h, I_w, I_c = 1, 5, 5, 3\n",
    "kernel_size, s = 3, 2\n",
    "\n",
    "x = torch.randn(N, I_c, I_h, I_w)\n",
    "\n",
    "pool_max = torch.nn.MaxPool2d(kernel_size, stride = s)\n",
    "pooled_max = pool_max(x)\n",
    "\n",
    "print(f'x: {x.detach().numpy().shape} \\n {x.detach().numpy().squeeze()}')\n",
    "print(f\"pooled_max(Pytorch): {pooled_max.detach().numpy().shape} \\n {pooled_max.detach().numpy().squeeze()}\")\n",
    "\n",
    "x = x.detach().numpy().squeeze()\n",
    "n_h = math.floor((I_h - kernel_size) / s + 1)\n",
    "n_w = math.floor((I_w - kernel_size) / s + 1)\n",
    "pooled_max_man = np.zeros((I_c, n_h, n_w))\n",
    "for c in range(I_c):\n",
    "    c_image = x[c, :, :]\n",
    "    h_ = 0\n",
    "    for h in range(0, I_h - kernel_size + 1, s):\n",
    "        w_ = 0\n",
    "        for w in range(0, I_w - kernel_size + 1, s):\n",
    "            window = c_image[h:h+kernel_size, w:w+kernel_size]\n",
    "            pooled_max_man[c, h_, w_] = np.max(window)\n",
    "            \n",
    "            w_ += 1\n",
    "        h_ += 1\n",
    "\n",
    "print(f\"pooled max(Manual): {pooled_max_man.shape} \\n {pooled_max_man}\")"
   ]
  },
  {
   "cell_type": "markdown",
   "id": "07445c2a",
   "metadata": {},
   "source": [
    "### Zero padding 2D"
   ]
  },
  {
   "cell_type": "code",
   "execution_count": 29,
   "id": "b1521d44",
   "metadata": {},
   "outputs": [
    {
     "name": "stdout",
     "output_type": "stream",
     "text": [
      "(1, 3, 28, 28)\n",
      "(1, 3, 32, 32)\n"
     ]
    }
   ],
   "source": [
    "import numpy as np\n",
    "import torch\n",
    "\n",
    "images = torch.randn(1, 3, 28, 28)\n",
    "print(images.detach().numpy().shape)\n",
    "\n",
    "zero_padding = torch.nn.ZeroPad2d(padding = 2)\n",
    "y = zero_padding(images)\n",
    "print(y.detach().numpy().shape)"
   ]
  },
  {
   "cell_type": "markdown",
   "id": "7c3b2c8a",
   "metadata": {},
   "source": [
    "### Strides in Conv2D Layers"
   ]
  },
  {
   "cell_type": "code",
   "execution_count": 36,
   "id": "ff62c175",
   "metadata": {},
   "outputs": [
    {
     "name": "stdout",
     "output_type": "stream",
     "text": [
      "(1, 3, 28, 28)\n",
      "(1, 1, 14, 14)\n"
     ]
    }
   ],
   "source": [
    "import torch\n",
    "\n",
    "images = torch.randn(1, 3, 28, 28)\n",
    "\n",
    "conv = torch.nn.Conv2d(3, 1, kernel_size = 3, padding = 1, stride = 2)\n",
    "y = conv(images)\n",
    "\n",
    "print(images.detach().numpy().shape)\n",
    "print(y.detach().numpy().shape)"
   ]
  },
  {
   "cell_type": "markdown",
   "id": "b5c30d9e",
   "metadata": {},
   "source": [
    "### Strides in Pooling Layers"
   ]
  },
  {
   "cell_type": "code",
   "execution_count": 35,
   "id": "0d42b2c5",
   "metadata": {},
   "outputs": [
    {
     "name": "stdout",
     "output_type": "stream",
     "text": [
      "(1, 3, 28, 28)\n",
      "(1, 3, 13, 13)\n"
     ]
    }
   ],
   "source": [
    "import torch\n",
    "\n",
    "images = torch.randn(1, 3, 28, 28)\n",
    "\n",
    "pool = torch.nn.MaxPool2d(kernel_size = 3, stride = 2)\n",
    "y = pool(images)\n",
    "\n",
    "print(images.detach().numpy().shape)\n",
    "print(y.detach().numpy().shape)"
   ]
  }
 ],
 "metadata": {
  "kernelspec": {
   "display_name": "Python 3 (ipykernel)",
   "language": "python",
   "name": "python3"
  },
  "language_info": {
   "codemirror_mode": {
    "name": "ipython",
    "version": 3
   },
   "file_extension": ".py",
   "mimetype": "text/x-python",
   "name": "python",
   "nbconvert_exporter": "python",
   "pygments_lexer": "ipython3",
   "version": "3.9.7"
  }
 },
 "nbformat": 4,
 "nbformat_minor": 5
}
