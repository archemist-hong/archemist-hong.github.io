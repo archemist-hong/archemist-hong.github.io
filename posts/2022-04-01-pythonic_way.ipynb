{
 "cells": [
  {
   "cell_type": "markdown",
   "id": "4247d249",
   "metadata": {},
   "source": [
    "# 파이썬 문법"
   ]
  },
  {
   "cell_type": "markdown",
   "id": "0c76bb1d",
   "metadata": {},
   "source": [
    "## 들여쓰기(indent)"
   ]
  },
  {
   "cell_type": "markdown",
   "id": "912af283",
   "metadata": {},
   "source": [
    "들여쓰기는 PEP8(Python Enhancement Proposals 8)에 따라 공백(스페이스 바) 4칸을 원칙으로 한다."
   ]
  },
  {
   "cell_type": "markdown",
   "id": "5f35e182",
   "metadata": {},
   "source": [
    "코드를 여러 줄에 걸쳐 작성하는 경우에는 공백 4칸 인덴트를 한번 더 추가하여, 다른 행과 구분되게 한다."
   ]
  },
  {
   "cell_type": "code",
   "execution_count": 8,
   "id": "a7508071",
   "metadata": {},
   "outputs": [],
   "source": [
    "a = sum(\n",
    "    (1, 2),\n",
    "    (3))"
   ]
  },
  {
   "cell_type": "markdown",
   "id": "a60f4862",
   "metadata": {},
   "source": [
    "## 네이밍 컨벤션"
   ]
  },
  {
   "cell_type": "markdown",
   "id": "b89048e1",
   "metadata": {},
   "source": [
    "파이썬의 네이밍 컨벤션은 스네이크 케이스(단어와 단어를 \\_로 구분)를 따른다.\n",
    "\n",
    "직접 작성하는 코드는 소문자 변수명과 소문자 함수명을 기본으로 한다."
   ]
  },
  {
   "cell_type": "code",
   "execution_count": 10,
   "id": "e5e8a2f5",
   "metadata": {},
   "outputs": [],
   "source": [
    "student_name = 'Juyoung Hong'"
   ]
  },
  {
   "cell_type": "markdown",
   "id": "1aebd4aa",
   "metadata": {},
   "source": [
    "## 타입 힌트"
   ]
  },
  {
   "cell_type": "markdown",
   "id": "d4c17edf",
   "metadata": {},
   "source": [
    "파이썬은 동적 타이핑 언어이므로 제네릭이 필요 없다.\n",
    "\n",
    "그렇지만 타입을 명시하지 않으면, 가독성을 낮추고 버그가 발생할 확률이 높아지므로, 타입을 명시 해주는 것이 좋다.\n",
    "\n",
    "이것은 PEP의 Type Hints를 사용하여 구현할 수 있다."
   ]
  },
  {
   "cell_type": "code",
   "execution_count": 14,
   "id": "4de3a37b",
   "metadata": {},
   "outputs": [],
   "source": [
    "a: str = \"1\"\n",
    "b: list[int] = [1, 2, 3]\n",
    "c: dict[str, int] = {\"key1\" : 1, \"key2\" : 2}\n",
    "d: tuple[int, str, float] = (1, \"Hong\", 4.5)"
   ]
  },
  {
   "cell_type": "markdown",
   "id": "96ab5c24",
   "metadata": {},
   "source": [
    "위와 같은 형태로 변수의 타입을 선언할 수 있다.\n",
    "\n",
    "첫 번째 줄의 경우, a라는 변수는 \"1\" 이라는 값을 갖는 문자열 변수라는 것을 쉽게 알 수 있다.\n",
    "\n",
    "함수에도 사용할 수 있다."
   ]
  },
  {
   "cell_type": "code",
   "execution_count": 9,
   "id": "9be82e88",
   "metadata": {},
   "outputs": [],
   "source": [
    "def iszero(a: int) -> bool:\n",
    "    return a == 0"
   ]
  },
  {
   "cell_type": "markdown",
   "id": "28b3d886",
   "metadata": {},
   "source": [
    "위의 경우, fn() 이라는 함수는 a라고 하는 argument를 하나 갖고, a라는 argument는 정수형(int)타입이며 함수의 리턴값은 bool로, True 혹은 False를 리턴 할 것이라는 것을 한눈에 쉽게 알 수 있다."
   ]
  },
  {
   "cell_type": "markdown",
   "id": "59211a01",
   "metadata": {},
   "source": [
    "그러나 이러한 type hint는 강제 규약이 아니므로 a: str = 1 과 같은 경우를 주의하여 사용해야 한다."
   ]
  },
  {
   "cell_type": "code",
   "execution_count": 11,
   "id": "d93dbc6a",
   "metadata": {},
   "outputs": [],
   "source": [
    "a: str = 1 # 정수형 타입에 문자열로 힌트를 주어도 에러가 발생하지 않는다."
   ]
  },
  {
   "cell_type": "markdown",
   "id": "416c24a3",
   "metadata": {},
   "source": [
    "온라인 코딩 테스트와 같은 경우, mypy를 사용하면 타입힌트 오류를 자동으로 확인할 수 있다."
   ]
  },
  {
   "cell_type": "markdown",
   "id": "38dba9a0",
   "metadata": {},
   "source": [
    "```bash\n",
    "pip install mypy\n",
    "```\n",
    "로 설치 후"
   ]
  },
  {
   "cell_type": "markdown",
   "id": "439f6ec8",
   "metadata": {},
   "source": [
    "```bash\n",
    "mypy mypythonfile.py\n",
    "```\n",
    "로 타입힌트 오류를 검사할 수 있다."
   ]
  },
  {
   "cell_type": "markdown",
   "id": "71201383",
   "metadata": {},
   "source": [
    "\\*.ipynb 파일의 경우, nb-mypy 등을 활용하면 사용할 수 있는 듯 하다."
   ]
  },
  {
   "cell_type": "markdown",
   "id": "445a0803",
   "metadata": {},
   "source": [
    "## list comprehension"
   ]
  },
  {
   "cell_type": "markdown",
   "id": "1594d163",
   "metadata": {},
   "source": [
    "리스트 컴프리헨션은 가독성이 높으며, 다방면에 유용하게 사용할 수 있다."
   ]
  },
  {
   "cell_type": "code",
   "execution_count": 17,
   "id": "e95d1be7",
   "metadata": {},
   "outputs": [
    {
     "name": "stdout",
     "output_type": "stream",
     "text": [
      "[2, 6, 10, 14, 18]\n"
     ]
    }
   ],
   "source": [
    "a = []\n",
    "for n in range(1, 10 + 1):\n",
    "    if n % 2 == 1:\n",
    "        a.append(n * 2)\n",
    "print(a)"
   ]
  },
  {
   "cell_type": "markdown",
   "id": "dd58a919",
   "metadata": {},
   "source": [
    "예를 들어 위의 코드는 리스트 컴프리헨션을 활용하면 다음과 같이 축약 할 수 있다."
   ]
  },
  {
   "cell_type": "code",
   "execution_count": 18,
   "id": "80ef317a",
   "metadata": {},
   "outputs": [
    {
     "name": "stdout",
     "output_type": "stream",
     "text": [
      "[2, 6, 10, 14, 18]\n"
     ]
    }
   ],
   "source": [
    "b = [n*2 for n in range(1, 10+1) if n % 2 == 1]\n",
    "print(b)"
   ]
  },
  {
   "cell_type": "markdown",
   "id": "2f57028d",
   "metadata": {},
   "source": [
    "리스트 뿐만 아니라 딕셔너리에도 사용할 수 있다."
   ]
  },
  {
   "cell_type": "code",
   "execution_count": 19,
   "id": "0ffa1b68",
   "metadata": {},
   "outputs": [
    {
     "name": "stdout",
     "output_type": "stream",
     "text": [
      "{0: 2, 1: 6, 2: 10, 3: 14, 4: 18}\n"
     ]
    }
   ],
   "source": [
    "a = {key : value for key, value in enumerate(b)}\n",
    "print(a)"
   ]
  },
  {
   "cell_type": "markdown",
   "id": "9bd365d0",
   "metadata": {},
   "source": [
    "대체로 반복문으로 작성하는 것 보다 리스트 컴프리헨션을 활용한 경우 처리 속도도 더 빠른것으로 알고 있다."
   ]
  },
  {
   "cell_type": "markdown",
   "id": "59a5cdb7",
   "metadata": {},
   "source": [
    "그러나 이 역시도 너무 길어 지면 읽기 어려워지므로, 표현식은 대체로 2개를 넘지 않도록 작성한다."
   ]
  },
  {
   "cell_type": "markdown",
   "id": "f07b3364",
   "metadata": {},
   "source": [
    "## Generator"
   ]
  },
  {
   "cell_type": "markdown",
   "id": "26a7edf0",
   "metadata": {},
   "source": [
    "제너레이터는 loop의 반복 동작을 제어할 수 있는 루틴 형태이다.\n",
    "\n",
    "제너레이터를 활용하면, 1억개의 숫자를 메모리 어딘가에 저장하고 있을 필요가 없으며, 제너레이터로 언제든 숫자를 만들 수 있다."
   ]
  },
  {
   "cell_type": "markdown",
   "id": "71a24a82",
   "metadata": {},
   "source": [
    "### yield 구문"
   ]
  },
  {
   "cell_type": "markdown",
   "id": "78b49cf6",
   "metadata": {},
   "source": [
    "제너레이터가 중간값을 리턴한다는 의미로, 함수가 종료되지 않고 끝까지 실행된다."
   ]
  },
  {
   "cell_type": "code",
   "execution_count": 21,
   "id": "00951a09",
   "metadata": {},
   "outputs": [],
   "source": [
    "def get_natural_number():\n",
    "    n = 0\n",
    "    while True:\n",
    "        n += 1\n",
    "        yield n"
   ]
  },
  {
   "cell_type": "markdown",
   "id": "30116af0",
   "metadata": {},
   "source": [
    "위의 경우 함수의 리턴값은 제너레이터가 된다."
   ]
  },
  {
   "cell_type": "code",
   "execution_count": 26,
   "id": "bc0382ec",
   "metadata": {},
   "outputs": [
    {
     "name": "stdout",
     "output_type": "stream",
     "text": [
      "<generator object get_natural_number at 0x0000020897EDCAC0>\n"
     ]
    }
   ],
   "source": [
    "g = get_natural_number()\n",
    "print(g)"
   ]
  },
  {
   "cell_type": "markdown",
   "id": "c0b72c27",
   "metadata": {},
   "source": [
    "다음 값을 생성하려면 next()로 추출하면 되며, 10개의 값을 생성하고 싶은 경우, next()를 10번 수행하면 된다."
   ]
  },
  {
   "cell_type": "code",
   "execution_count": 27,
   "id": "32ed279f",
   "metadata": {},
   "outputs": [
    {
     "name": "stdout",
     "output_type": "stream",
     "text": [
      "1\n",
      "2\n",
      "3\n",
      "4\n",
      "5\n",
      "6\n",
      "7\n",
      "8\n",
      "9\n",
      "10\n"
     ]
    }
   ],
   "source": [
    "for _ in range(0, 10):\n",
    "    print(next(g))"
   ]
  },
  {
   "cell_type": "markdown",
   "id": "b41b86a0",
   "metadata": {},
   "source": [
    "제너레이터는 여러 타입의 값을 하나의 함수에서 생성하는 것도 가능하다."
   ]
  },
  {
   "cell_type": "code",
   "execution_count": 28,
   "id": "d9044032",
   "metadata": {},
   "outputs": [],
   "source": [
    "def generator():\n",
    "    yield 1\n",
    "    yield 'string'\n",
    "    yield True"
   ]
  },
  {
   "cell_type": "code",
   "execution_count": 30,
   "id": "35d68bc3",
   "metadata": {},
   "outputs": [
    {
     "name": "stdout",
     "output_type": "stream",
     "text": [
      "1\n",
      "string\n",
      "True\n"
     ]
    },
    {
     "ename": "StopIteration",
     "evalue": "",
     "output_type": "error",
     "traceback": [
      "\u001b[1;31m---------------------------------------------------------------------------\u001b[0m",
      "\u001b[1;31mStopIteration\u001b[0m                             Traceback (most recent call last)",
      "\u001b[1;32m~\\AppData\\Local\\Temp/ipykernel_24588/4103080026.py\u001b[0m in \u001b[0;36m<module>\u001b[1;34m\u001b[0m\n\u001b[0;32m      3\u001b[0m \u001b[0mprint\u001b[0m\u001b[1;33m(\u001b[0m\u001b[0mnext\u001b[0m\u001b[1;33m(\u001b[0m\u001b[0mg\u001b[0m\u001b[1;33m)\u001b[0m\u001b[1;33m)\u001b[0m\u001b[1;33m\u001b[0m\u001b[1;33m\u001b[0m\u001b[0m\n\u001b[0;32m      4\u001b[0m \u001b[0mprint\u001b[0m\u001b[1;33m(\u001b[0m\u001b[0mnext\u001b[0m\u001b[1;33m(\u001b[0m\u001b[0mg\u001b[0m\u001b[1;33m)\u001b[0m\u001b[1;33m)\u001b[0m\u001b[1;33m\u001b[0m\u001b[1;33m\u001b[0m\u001b[0m\n\u001b[1;32m----> 5\u001b[1;33m \u001b[0mprint\u001b[0m\u001b[1;33m(\u001b[0m\u001b[0mnext\u001b[0m\u001b[1;33m(\u001b[0m\u001b[0mg\u001b[0m\u001b[1;33m)\u001b[0m\u001b[1;33m)\u001b[0m\u001b[1;33m\u001b[0m\u001b[1;33m\u001b[0m\u001b[0m\n\u001b[0m",
      "\u001b[1;31mStopIteration\u001b[0m: "
     ]
    }
   ],
   "source": [
    "g = generator()\n",
    "print(next(g))\n",
    "print(next(g))\n",
    "print(next(g))\n",
    "print(next(g))"
   ]
  },
  {
   "cell_type": "markdown",
   "id": "734e9d90",
   "metadata": {},
   "source": [
    "range는 제너레이터의 방식을 활용한 대표적인 함수로, for 문에서 사용하는 경우 제너레이터의 next()를 호출하듯 매번 다음 숫자를 생성한다.\n",
    "\n",
    "생성 조건만 정해두고 필요할때 생성해서 꺼내쓰는 방식은 메모리 점유 측면에서 훨씬 효율적이다.\n",
    "\n",
    "또한 인덱스로 접근하는 경우에도 바로 생성하게끔 되어 있어, 불편없이 사용할 수 있다."
   ]
  },
  {
   "cell_type": "code",
   "execution_count": 31,
   "id": "b1fab35e",
   "metadata": {},
   "outputs": [
    {
     "name": "stdout",
     "output_type": "stream",
     "text": [
      "127\n"
     ]
    }
   ],
   "source": [
    "r = range(0, 10000)\n",
    "print(r[127])"
   ]
  },
  {
   "cell_type": "markdown",
   "id": "5e5c2896",
   "metadata": {},
   "source": [
    "## enumerate"
   ]
  },
  {
   "cell_type": "markdown",
   "id": "39be7e81",
   "metadata": {},
   "source": [
    "여러 자료 형을 인덱스를 포함한 enumerate 객체로 리턴해준다.\n",
    "\n",
    "**인덱스를 자동으로 부여해 주므로, 인덱스와 값을 함께 출력하는 경우에 매우 편리하다.**"
   ]
  },
  {
   "cell_type": "code",
   "execution_count": 32,
   "id": "0f7722de",
   "metadata": {},
   "outputs": [
    {
     "name": "stdout",
     "output_type": "stream",
     "text": [
      "0 15\n",
      "1 1\n",
      "2 3\n",
      "3 7\n",
      "4 8\n"
     ]
    }
   ],
   "source": [
    "a = [15, 1, 3, 7, 8]\n",
    "for i, v in enumerate(a):\n",
    "    print(i, v)"
   ]
  },
  {
   "cell_type": "markdown",
   "id": "c16ce2af",
   "metadata": {},
   "source": [
    "## 나눗셈"
   ]
  },
  {
   "cell_type": "markdown",
   "id": "11cadf2e",
   "metadata": {},
   "source": [
    "- '/' -> 타입을 유지하지 않는다. ex) 5/3 = 1.66... (int 형 사이의 나눗셈이지만 float형 자료를 리턴함)\n",
    "- '/' -> 타입을 유지한다. ex) 5//3 = 1 (int 형 사이의 나눗셈으로 int형 자료를 리턴함, **정수형에서 나눗셈의 몫을 구함**)\n",
    "- '%' -> 나머지를 구하는 연산\n",
    "- 몫과 나머지를 동시에 구하는 경우에는 divmod()함수를 활용한다."
   ]
  },
  {
   "cell_type": "code",
   "execution_count": 34,
   "id": "f8b07a77",
   "metadata": {},
   "outputs": [
    {
     "name": "stdout",
     "output_type": "stream",
     "text": [
      "1\n",
      "2\n"
     ]
    }
   ],
   "source": [
    "quotient, remainder = divmod(5, 3)\n",
    "print(quotient)\n",
    "print(remainder)"
   ]
  },
  {
   "cell_type": "markdown",
   "id": "1bedda52",
   "metadata": {},
   "source": [
    "## print"
   ]
  },
  {
   "cell_type": "markdown",
   "id": "4b82e354",
   "metadata": {},
   "source": [
    "리스트를 출력하는 경우에는 ' '.join(a)로 묶어서 처리하면 좋다."
   ]
  },
  {
   "cell_type": "code",
   "execution_count": 37,
   "id": "80b0f504",
   "metadata": {},
   "outputs": [
    {
     "name": "stdout",
     "output_type": "stream",
     "text": [
      "a b c d e f g\n"
     ]
    }
   ],
   "source": [
    "a = ['a', 'b', 'c', 'd', 'e', 'f', 'g']\n",
    "print(' '.join(a))"
   ]
  },
  {
   "cell_type": "markdown",
   "id": "2bbcaef3",
   "metadata": {},
   "source": [
    "인덱스에 1을 더해서 원소와 함께 출력하는 경우 formatting을 활용하여 다음과 같이 할 수 있다."
   ]
  },
  {
   "cell_type": "code",
   "execution_count": 40,
   "id": "e12e8a26",
   "metadata": {},
   "outputs": [
    {
     "name": "stdout",
     "output_type": "stream",
     "text": [
      "1 : a\n",
      "2 : b\n",
      "3 : c\n",
      "4 : d\n",
      "5 : e\n",
      "6 : f\n",
      "7 : g\n"
     ]
    }
   ],
   "source": [
    "for idx, item in enumerate(a):\n",
    "    print('{} : {}'.format(idx + 1, item))"
   ]
  },
  {
   "cell_type": "markdown",
   "id": "ea2dbc51",
   "metadata": {},
   "source": [
    "## f_string"
   ]
  },
  {
   "cell_type": "markdown",
   "id": "e1f681be",
   "metadata": {},
   "source": [
    "f_string을 활용하면 변수를 뒤에 별도로 부여할 필요 없어 편리하고, 간결하며 직관적이다."
   ]
  },
  {
   "cell_type": "code",
   "execution_count": 42,
   "id": "5255c461",
   "metadata": {},
   "outputs": [
    {
     "name": "stdout",
     "output_type": "stream",
     "text": [
      "1 : a\n",
      "2 : b\n",
      "3 : c\n",
      "4 : d\n",
      "5 : e\n",
      "6 : f\n",
      "7 : g\n"
     ]
    }
   ],
   "source": [
    "for idx, item in enumerate(a):\n",
    "    print(f'{idx + 1} : {item}')"
   ]
  },
  {
   "cell_type": "markdown",
   "id": "f9315b92",
   "metadata": {},
   "source": [
    "## pass"
   ]
  },
  {
   "cell_type": "markdown",
   "id": "5ddd8e28",
   "metadata": {},
   "source": [
    "코드의 전체 골격을 잡아놓고, 자세한 내용은 나중에 차근차근 생각하고 싶은 경우가 있다.\n",
    "\n",
    "이러한 경우 pass를 사용한다.\n",
    "\n",
    "이것은 목업 인터페이스를 구현하고, 자세한 내용은 추후에 구현할 수 있게 한다."
   ]
  },
  {
   "cell_type": "code",
   "execution_count": 43,
   "id": "d7d328b2",
   "metadata": {},
   "outputs": [
    {
     "ename": "IndentationError",
     "evalue": "expected an indented block (Temp/ipykernel_24588/4122323943.py, line 1)",
     "output_type": "error",
     "traceback": [
      "\u001b[1;36m  File \u001b[1;32m\"C:\\Users\\Juyoung\\AppData\\Local\\Temp/ipykernel_24588/4122323943.py\"\u001b[1;36m, line \u001b[1;32m1\u001b[0m\n\u001b[1;33m    def myfunction():\u001b[0m\n\u001b[1;37m                     ^\u001b[0m\n\u001b[1;31mIndentationError\u001b[0m\u001b[1;31m:\u001b[0m expected an indented block\n"
     ]
    }
   ],
   "source": [
    "def myfunction():"
   ]
  },
  {
   "cell_type": "code",
   "execution_count": 45,
   "id": "79798d6f",
   "metadata": {},
   "outputs": [],
   "source": [
    "def myfunction():\n",
    "    pass\n",
    "\n",
    "m = myfunction()"
   ]
  },
  {
   "cell_type": "markdown",
   "id": "0c5cc5c5",
   "metadata": {},
   "source": [
    "pass를 사용하면, 오류 없이 myfunction이 정의된다."
   ]
  },
  {
   "cell_type": "markdown",
   "id": "48f3c428",
   "metadata": {},
   "source": [
    "## locals"
   ]
  },
  {
   "cell_type": "markdown",
   "id": "991cc1dc",
   "metadata": {},
   "source": [
    "로컬 심볼 테이블 딕셔너리를 가져오며, 업데이트도 가능하다.\n",
    "\n",
    "로컬에 선언된 모든 변수를 조회할 수 있으므로, 디버깅에 많은 도움이 된다.\n",
    "\n",
    "pprint를 함께 활용하면, 보기 좋게 줄바꿈 처리를 해주므로 가독성이 높다."
   ]
  },
  {
   "cell_type": "code",
   "execution_count": null,
   "id": "38774e69",
   "metadata": {},
   "outputs": [],
   "source": [
    "import pprint\n",
    "\n",
    "pprint.pprint(locals())"
   ]
  },
  {
   "cell_type": "markdown",
   "id": "a503db90",
   "metadata": {},
   "source": [
    "## 코드 작성법"
   ]
  },
  {
   "cell_type": "markdown",
   "id": "2300c1dd",
   "metadata": {},
   "source": [
    "Clean Code, 프로그래밍 수련법, PEP8, 구글의 파이썬 스타일 가이드와 같은 문서들을 참고하여, 되도록 지향점에 맞는 코드를 작성하는 것이 좋다."
   ]
  },
  {
   "cell_type": "code",
   "execution_count": 49,
   "id": "b8976f8f",
   "metadata": {},
   "outputs": [],
   "source": [
    "def numMatchingSubseq(self, S: str, words : list[str]) -> int:\n",
    "    pass"
   ]
  },
  {
   "cell_type": "markdown",
   "id": "5b4c0c90",
   "metadata": {},
   "source": [
    "변수명이 무엇을 의미하는지 이해하기 어려우며, 주석이 없다.\n",
    "\n",
    "이러한 경우 간단한 주석을 부여하거나 docstring을 작성하는 것이 훨씬 가독성이 높다. \n",
    "\n",
    "-> 영어로 주석달기 연습이 필요하다."
   ]
  },
  {
   "cell_type": "markdown",
   "id": "d008e87e",
   "metadata": {},
   "source": [
    "### 구글 파이썬 스타일 가이드 일부"
   ]
  },
  {
   "cell_type": "markdown",
   "id": "4a6928c0",
   "metadata": {},
   "source": [
    "- 함수의 기본값으로 가변객체를 사용하지 않아야 한다.\n",
    "\n",
    " 함수가 객체를 수정하면, 기본값이 변경되기 때문이다.\n",
    " \n",
    "기본값으로 [], {}을 사용하면 안된다."
   ]
  },
  {
   "cell_type": "code",
   "execution_count": 51,
   "id": "e821ed0b",
   "metadata": {},
   "outputs": [],
   "source": [
    "def myfunction(a, b = []):\n",
    "    b.append(a)\n",
    "    print(a)\n",
    "    print(b)"
   ]
  },
  {
   "cell_type": "code",
   "execution_count": 52,
   "id": "0c06ac1b",
   "metadata": {},
   "outputs": [
    {
     "name": "stdout",
     "output_type": "stream",
     "text": [
      "1\n",
      "[1]\n"
     ]
    }
   ],
   "source": [
    "myfunction(1)"
   ]
  },
  {
   "cell_type": "code",
   "execution_count": 53,
   "id": "4e6569e8",
   "metadata": {},
   "outputs": [
    {
     "name": "stdout",
     "output_type": "stream",
     "text": [
      "2\n",
      "[1, 2]\n"
     ]
    }
   ],
   "source": [
    "myfunction(2)"
   ]
  },
  {
   "cell_type": "markdown",
   "id": "25703aba",
   "metadata": {},
   "source": [
    "위와 같이 기본값이 변경되어, 혼란을 줄 수 있다.\n",
    "\n",
    "이경우 불변객체를 대신 사용하는 것이 좋고, None을 명시적으로 대입하는 것도 좋은 방법이다."
   ]
  },
  {
   "cell_type": "code",
   "execution_count": 54,
   "id": "7cfe2524",
   "metadata": {},
   "outputs": [],
   "source": [
    "def myfunction(a, b = None):\n",
    "    b = []\n",
    "    b.append(a)\n",
    "    print(a)\n",
    "    print(b)"
   ]
  },
  {
   "cell_type": "code",
   "execution_count": 55,
   "id": "8fc2b6b6",
   "metadata": {},
   "outputs": [
    {
     "name": "stdout",
     "output_type": "stream",
     "text": [
      "1\n",
      "[1]\n"
     ]
    }
   ],
   "source": [
    "myfunction(1)"
   ]
  },
  {
   "cell_type": "code",
   "execution_count": 56,
   "id": "2713a8c5",
   "metadata": {},
   "outputs": [
    {
     "name": "stdout",
     "output_type": "stream",
     "text": [
      "2\n",
      "[2]\n"
     ]
    }
   ],
   "source": [
    "myfunction(2)"
   ]
  },
  {
   "cell_type": "markdown",
   "id": "c21057f1",
   "metadata": {},
   "source": [
    "- True 혹은 False를 판별해야 하는 경우에는 \n",
    "\n",
    "if flag != [] 대신 if flag로 충분하다."
   ]
  },
  {
   "cell_type": "code",
   "execution_count": 57,
   "id": "bbcabf13",
   "metadata": {},
   "outputs": [
    {
     "name": "stdout",
     "output_type": "stream",
     "text": [
      "True\n"
     ]
    }
   ],
   "source": [
    "flag = True\n",
    "if flag != False:\n",
    "    print(flag)"
   ]
  },
  {
   "cell_type": "code",
   "execution_count": 58,
   "id": "8911c8c5",
   "metadata": {},
   "outputs": [
    {
     "name": "stdout",
     "output_type": "stream",
     "text": [
      "True\n"
     ]
    }
   ],
   "source": [
    "if flag:\n",
    "    print(flag)"
   ]
  },
  {
   "cell_type": "markdown",
   "id": "67f9b05b",
   "metadata": {},
   "source": [
    "최대 줄길이는 80자로 한다."
   ]
  }
 ],
 "metadata": {
  "kernelspec": {
   "display_name": "Python 3 (ipykernel)",
   "language": "python",
   "name": "python3"
  },
  "language_info": {
   "codemirror_mode": {
    "name": "ipython",
    "version": 3
   },
   "file_extension": ".py",
   "mimetype": "text/x-python",
   "name": "python",
   "nbconvert_exporter": "python",
   "pygments_lexer": "ipython3",
   "version": "3.9.7"
  }
 },
 "nbformat": 4,
 "nbformat_minor": 5
}
