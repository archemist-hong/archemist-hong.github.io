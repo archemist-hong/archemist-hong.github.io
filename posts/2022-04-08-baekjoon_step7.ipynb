{
 "cells": [
  {
   "cell_type": "markdown",
   "id": "b878ef7b",
   "metadata": {},
   "source": [
    "# 기본수학 1"
   ]
  },
  {
   "cell_type": "markdown",
   "id": "02e93335",
   "metadata": {},
   "source": [
    "## [1712](https://www.acmicpc.net/problem/1712)"
   ]
  },
  {
   "cell_type": "code",
   "execution_count": 28,
   "id": "44bcf9c0",
   "metadata": {},
   "outputs": [
    {
     "name": "stdout",
     "output_type": "stream",
     "text": [
      "2100000000 9 10\n",
      "2100000001\n"
     ]
    }
   ],
   "source": [
    "A, B, C = map(int, input().split()) # A: 고정비용, B: 가변비용, C: 노트북 가격\n",
    "count = 0\n",
    "\n",
    "if B >= C:\n",
    "    print(-1)\n",
    "else:\n",
    "    break_point = A/ (C-B)\n",
    "    if break_point % 1 == .0:\n",
    "        print(int(break_point) + 1)\n",
    "    elif break_point % 1 < 0.5:\n",
    "        print(int(round(break_point + 0.5, 0)))\n",
    "    else:\n",
    "        print(int(round(break_point, 0)))"
   ]
  },
  {
   "cell_type": "markdown",
   "id": "543ddba6",
   "metadata": {},
   "source": [
    "$수익 > 전체비용$ 이려면,\n",
    "$수익 - 전체비용 > 0$ 이어야한다.\n",
    "즉, $count(C - B) - A$이며\n",
    "$count > A/(C-B)$이다.\n",
    "즉, $손익분기점 (break point) = A/(C-B)$이다.\n",
    "\n",
    "여기서, \n",
    "$C > B$ 라면, $A > 0$으로 가능하지만, \n",
    "$C = B$ 이면 분모가 0이되므로 불가능하고,\n",
    "$C < B$ 라면, $A < 0$ 이되므로 또한 불가능하다.\n",
    "\n",
    "다만  $A/(C-B)$는 소수가 될 수 있으므로, 정수형으로 고치고 올림을 해서 답해야 한다."
   ]
  },
  {
   "cell_type": "markdown",
   "id": "2fbc68e5",
   "metadata": {},
   "source": [
    "## [2292](https://www.acmicpc.net/problem/2292)"
   ]
  },
  {
   "cell_type": "code",
   "execution_count": 35,
   "id": "099635cb",
   "metadata": {},
   "outputs": [
    {
     "name": "stdout",
     "output_type": "stream",
     "text": [
      "1\n",
      "1\n"
     ]
    }
   ],
   "source": [
    "N = int(input())\n",
    "\n",
    "def a_n(n: int):\n",
    "    return 3 * n ** 2 - 9 * n + 8\n",
    "\n",
    "if N == 1:\n",
    "    print(1)\n",
    "else:\n",
    "    n = 2\n",
    "    while a_n(n) <= N:\n",
    "        n += 1\n",
    "    print(n - 1)"
   ]
  },
  {
   "cell_type": "markdown",
   "id": "43724eec",
   "metadata": {},
   "source": [
    "벌집에서 숫자들을 감싸고 있는 층으로 그룹을 묶을 수 있다.\n",
    "1(중앙, 1층) => 2 ~ 7(2층) => 8 ~ 19(3층) => 20 ~ 37(4층) ... 순이다.\n",
    "이때, 같은 그룹에 속하는 숫자라면 지나는 방의 수도 같다.\n",
    "예를 들어, 1에서 출발하여 13까지 3개의 방을 지나면 된다.\n",
    "1에서 출발하여 19까지 가는경우에도 역시 3개의 방을 지나면 된다.\n",
    "**그렇다면 문제는 N이 어떤 숫자 그룹에 속하는지 찾으면 된다.**\n",
    "\n",
    "수열의 규칙을 찾기 위해, 각 숫자의 초항만을 살펴보면,\n",
    "1 => 2 => 8 => 20 => 38으로 \n",
    "n >= 2 에서 $a_{n+1} - a_{n} = 6(n-1)$임을 알 수 있다.\n",
    "점화식을 풀면, $a_{n} = \\sum_{i=1}^{n-1}6(i-1) + 2$이며,\n",
    "덧셈기호(시그마)를 풀고 n >= 2에서만 가능하다는 것을 고려하면, $a_{n} = 3n^2 - 9n + 8$이다.\n",
    "**따라서 a_{n}을 여러개 만들어가며, 주어진 숫자가 n이 몇일때에 속하는지 판단하면 된다.**"
   ]
  },
  {
   "cell_type": "markdown",
   "id": "d8a422f0",
   "metadata": {},
   "source": [
    "## [1193](https://www.acmicpc.net/problem/1193)"
   ]
  },
  {
   "cell_type": "code",
   "execution_count": 114,
   "id": "24e4fec5",
   "metadata": {},
   "outputs": [
    {
     "name": "stdout",
     "output_type": "stream",
     "text": [
      "14\n",
      "2 / 4\n"
     ]
    }
   ],
   "source": [
    "X = int(input())\n",
    "\n",
    "def a_n(n: int):\n",
    "    return 1/2*n**2 - 1/2*n + 1\n",
    "\n",
    "n = 1 # n = 분모 + 분자\n",
    "while a_n(n) <= X:\n",
    "    n += 1\n",
    "if n % 2 == 1:\n",
    "    denom = (1) + (X - a_n(n-1))\n",
    "    numer = (n-1) - (X - a_n(n-1))\n",
    "else:\n",
    "    denom = (n-1) - (X - a_n(n-1))\n",
    "    numer = (1) + (X - a_n(n-1))\n",
    "    \n",
    "print(f'{int(denom)}/{int(numer)}')"
   ]
  },
  {
   "cell_type": "markdown",
   "id": "57d70430",
   "metadata": {},
   "source": [
    "분자와 분모를 합했을때, 합이 일정한 것으로 숫자의 그룹을 묶을 수 있다.\n",
    "예를 들면, 1/2 와 2/1은 분모와 분자를 합했을때, 3이므로 하나의 그룹이다.\n",
    "이처럼 그룹을 먼저 찾고, 그 안에서 하나씩 찾으면 시간을 훨씬 절약할 수 있을 것이다.\n",
    "그룹의 초항을 살펴 보면, 1 => 2 => 4 => 7 => 11으로 $a_{n+1} - a_{n} = n$임을 알 수 있다.\n",
    "\n",
    "점화식을 풀면, $a_{n} = \\sum_{i=1}^{n-1}i + 1$이며, $a_{n} = 1/2n^2 - 1/2n + 1$이다.\n",
    "문제는 X가 어떤 그룹에 속하는지 찾은 후, 남은 반복(X - a_n(n-1))을 동안 분자에 1을 더하고, 분모에 1을 빼는 식으로 분수를 구하면 된다.\n",
    "분모 + 분자가 홀수인경우는, 1/N으로 시작한다.\n",
    "짝수인 경우는, N/1로 시작한다."
   ]
  },
  {
   "cell_type": "markdown",
   "id": "71dac151",
   "metadata": {},
   "source": [
    "## [2869](https://www.acmicpc.net/problem/2869)"
   ]
  },
  {
   "cell_type": "code",
   "execution_count": 137,
   "id": "efad2a35",
   "metadata": {},
   "outputs": [
    {
     "name": "stdout",
     "output_type": "stream",
     "text": [
      "100 99 1000000000\n",
      "999999901\n"
     ]
    }
   ],
   "source": [
    "A, B, V = map(int, input().split())\n",
    "D = (V-B)/(A-B)\n",
    "if D % 1 == .0:\n",
    "    D = int(D)\n",
    "elif D % 1 < 0.5:\n",
    "    D = int(round(D + 0.5, 0))\n",
    "else:\n",
    "    D = int(round(D, 0))\n",
    "print(D)"
   ]
  },
  {
   "cell_type": "markdown",
   "id": "aa602e35",
   "metadata": {},
   "source": [
    "달팽이는 하루에 A - B 만큼 올라간다. \n",
    "그러나 정상에서는 미끄러 지지 않으므로, 마지막 날에는 낮에 올라가고 밤에 미끄러지지 않고 종료될 것이다.\n",
    "따라서 $V-B <= (A-B)D$가 되는 D를 찾아서 1을 더하면 된다.\n",
    "식을 정리하면, ${V-B \\over A-B} <= D$이며\n",
    "${V-B \\over A-B}$는 소수가 될 수 있으므로, 올림처리한다."
   ]
  },
  {
   "cell_type": "markdown",
   "id": "d375ccb1",
   "metadata": {},
   "source": [
    "## [10250](https://www.acmicpc.net/problem/10250)"
   ]
  },
  {
   "cell_type": "code",
   "execution_count": 9,
   "id": "0252fb63",
   "metadata": {},
   "outputs": [
    {
     "name": "stdout",
     "output_type": "stream",
     "text": [
      "2\n",
      "6 12 10\n",
      "402\n",
      "30 50 72\n",
      "1203\n"
     ]
    }
   ],
   "source": [
    "T = int(input())\n",
    "\n",
    "def find_room(H : int, W : int, N: int) -> int:\n",
    "    Y = N % H \n",
    "    XX = N // H\n",
    "    XX = str(XX + 1)\n",
    "    \n",
    "    if Y == 0: # 나머지가 0인경우는 H로 대입, 나눈 몫은 1을 뺴야함\n",
    "        Y = H\n",
    "        XX = str(int(XX) - 1)\n",
    "    \n",
    "    if len(XX) < 2: # 1인경우 01로 고침\n",
    "        XX = '0' + XX\n",
    "    \n",
    "    ho = str(Y) + XX\n",
    "    return int(ho)\n",
    "\n",
    "for t in range(0, T):\n",
    "    H, W, N = map(int, input().split())\n",
    "    print(find_room(H, W, N))"
   ]
  },
  {
   "cell_type": "markdown",
   "id": "8fa5f64d",
   "metadata": {},
   "source": [
    "101, 201, 301 부터 차례로 손님을 배정하면 된다.\n",
    "층수는 최대 H 층 까지 이므로, H가 넘어가는 N에 대해서는 X01호에 배정할 수 없고, 그 옆칸인 X02호에 배정해야 한다.\n",
    "이런식이라면 층수는 N을 H로 나눈 나머지가 되고, 호수는 N을 H로 나눈 몫에 1을 더한 값이 된다.\n",
    "나머지가 0인경우는 층수를 나눈 숫자로 고쳐주고, 호수도 고쳐야한다."
   ]
  },
  {
   "cell_type": "markdown",
   "id": "1ff5749f",
   "metadata": {},
   "source": [
    "## [2775](https://www.acmicpc.net/problem/2775)"
   ]
  },
  {
   "cell_type": "code",
   "execution_count": 23,
   "id": "f1ed19e6",
   "metadata": {},
   "outputs": [
    {
     "name": "stdout",
     "output_type": "stream",
     "text": [
      "2\n",
      "1\n",
      "3\n",
      "6\n",
      "2\n",
      "3\n",
      "10\n"
     ]
    }
   ],
   "source": [
    "def search_number_people(a : int, b : int, number_people_list: list[int]) -> int:\n",
    "    item = number_people_list[a][b - 1]\n",
    "    if item != 0:\n",
    "        return item\n",
    "    else:\n",
    "        number_people = 0\n",
    "        if a == 0:\n",
    "            number_people_list[a][b-1] = b\n",
    "            return b\n",
    "        else:\n",
    "            for ho in range(1, b + 1):\n",
    "                number_people += search_number_people(a-1, ho, number_people_list)\n",
    "            number_people_list[a][b-1] = number_people\n",
    "            return number_people\n",
    "        \n",
    "\n",
    "T = int(input())\n",
    "for t in range(0, T):\n",
    "    k = int(input())\n",
    "    n = int(input())\n",
    "    number_people_list = [[0] * n for _ in range(0, k + 1)]\n",
    "    print(search_number_people(k, n, number_people_list))"
   ]
  },
  {
   "cell_type": "markdown",
   "id": "fa243773",
   "metadata": {},
   "source": [
    "이중리스트 초기화 방법"
   ]
  },
  {
   "cell_type": "code",
   "execution_count": 17,
   "id": "80c0dd32",
   "metadata": {},
   "outputs": [
    {
     "name": "stdout",
     "output_type": "stream",
     "text": [
      "[[0, 0, 0], [0, 1, 0], [0, 0, 0]]\n"
     ]
    }
   ],
   "source": [
    "c = [[0] * 3 for _ in range(0, 3)]\n",
    "c[1][1] = 1\n",
    "print(c)"
   ]
  },
  {
   "cell_type": "markdown",
   "id": "2a64a96b",
   "metadata": {},
   "source": [
    "재귀 함수를 사용하는경우, 했던 계산을 다시해야하는 경우가 생긴다. 이런경우에는 동적 프로그래밍을 통해 해결한다.\n",
    "여러 방법이 있겠지만, 한가지 방법은 계산을 하고, 그 내용을 저장해 두는 것이다.\n",
    "그리고 저장해둔 리스트를 조회하고 있다면 가져오고, 없다면 계산하는 식으로 프로그램을 짠다.\n",
    "이러한 간단한 방식으로도 상당한 계산양을 줄일 수 있다."
   ]
  },
  {
   "cell_type": "markdown",
   "id": "ab583c7a",
   "metadata": {},
   "source": [
    "## [2839](https://www.acmicpc.net/problem/2839)"
   ]
  },
  {
   "cell_type": "code",
   "execution_count": 43,
   "id": "db1099ee",
   "metadata": {},
   "outputs": [
    {
     "name": "stdout",
     "output_type": "stream",
     "text": [
      "11\n",
      "3\n"
     ]
    }
   ],
   "source": [
    "N = int(input())\n",
    "div3 = 0\n",
    "div5 = 0\n",
    "n = N\n",
    "while n > 0:\n",
    "    if n % 5 == 0:\n",
    "        div5 += n // 5\n",
    "        break\n",
    "    else:\n",
    "        n -= 3\n",
    "        div3 += 1\n",
    "if n < 0:\n",
    "    print(-1)\n",
    "else:\n",
    "    print(div5 + div3)"
   ]
  },
  {
   "cell_type": "markdown",
   "id": "73fccb7b",
   "metadata": {},
   "source": [
    "5의 배수가 될때까지 3을 빼는 방식"
   ]
  },
  {
   "cell_type": "markdown",
   "id": "26549a1f",
   "metadata": {},
   "source": [
    "## [10757](https://www.acmicpc.net/problem/10757)"
   ]
  },
  {
   "cell_type": "code",
   "execution_count": 44,
   "id": "fb7bbe27",
   "metadata": {},
   "outputs": [
    {
     "name": "stdout",
     "output_type": "stream",
     "text": [
      "9223372036854775807 9223372036854775808\n",
      "18446744073709551615\n"
     ]
    }
   ],
   "source": [
    "A, B = map(int, input().split())\n",
    "\n",
    "print(A + B)"
   ]
  },
  {
   "cell_type": "markdown",
   "id": "adb82831",
   "metadata": {},
   "source": [
    "파이썬은 오버플로가 일어나지 않는 것 같다..?\n",
    "일반적인 경우 덧셈하는 역할을 직접 수행하는 것 같다.\n",
    "\n"
   ]
  },
  {
   "cell_type": "code",
   "execution_count": 52,
   "id": "35304dfe",
   "metadata": {},
   "outputs": [
    {
     "name": "stdout",
     "output_type": "stream",
     "text": [
      "1 13\n",
      "14\n"
     ]
    }
   ],
   "source": [
    "A, B = input().split()\n",
    "\n",
    "def add(A: str, B: str, carry: str) -> str:\n",
    "    _sum = int(A) + int(B) + int(carry)\n",
    "    return (str(_sum // 10), str(_sum % 10))\n",
    "\n",
    "if len(A) >= len(B):\n",
    "    target = A\n",
    "    target2 = '0'*(len(A) - len(B))+ B\n",
    "else:\n",
    "    target = B\n",
    "    target2 = '0'*(len(B) - len(A))+ A\n",
    "    \n",
    "carry = '0'\n",
    "result = ''\n",
    "for d in range(len(target) - 1, -1, -1):\n",
    "    carry, _sum= add(target[d], target2[d], carry)\n",
    "    result += _sum\n",
    "    if d == 0 and carry != '0':\n",
    "        result += carry\n",
    "    \n",
    "print(result[::-1])"
   ]
  }
 ],
 "metadata": {
  "kernelspec": {
   "display_name": "Python 3 (ipykernel)",
   "language": "python",
   "name": "python3"
  },
  "language_info": {
   "codemirror_mode": {
    "name": "ipython",
    "version": 3
   },
   "file_extension": ".py",
   "mimetype": "text/x-python",
   "name": "python",
   "nbconvert_exporter": "python",
   "pygments_lexer": "ipython3",
   "version": "3.9.7"
  }
 },
 "nbformat": 4,
 "nbformat_minor": 5
}
