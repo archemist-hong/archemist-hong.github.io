{
 "cells": [
  {
   "cell_type": "markdown",
   "id": "45103f4e",
   "metadata": {},
   "source": [
    "# 객체"
   ]
  },
  {
   "cell_type": "markdown",
   "id": "48a49d11",
   "metadata": {},
   "source": [
    "## __init__(self) 메서드"
   ]
  },
  {
   "cell_type": "markdown",
   "id": "966b5936",
   "metadata": {},
   "source": [
    "init 메서드는 생성자의 역할을 하며, 객체를 생성할때 호출된다."
   ]
  },
  {
   "cell_type": "code",
   "execution_count": 1,
   "id": "60b3cabc",
   "metadata": {},
   "outputs": [],
   "source": [
    "class Shape:\n",
    "    def __init__(self):\n",
    "        print(self, 'is generated!')"
   ]
  },
  {
   "cell_type": "code",
   "execution_count": 2,
   "id": "f8d6c86e",
   "metadata": {},
   "outputs": [
    {
     "name": "stdout",
     "output_type": "stream",
     "text": [
      "<__main__.Shape object at 0x0000027913BB92E0> is generated!\n"
     ]
    }
   ],
   "source": [
    "s = Shape()"
   ]
  },
  {
   "cell_type": "markdown",
   "id": "954db82c",
   "metadata": {},
   "source": [
    "위에서는 s 라는 변수에 Shape class의 객체를 생성하여 대입하였다. \n",
    "\n",
    "이때, init함수가 호출되며, 객체가 생성되었다는 print문이 실행되었다."
   ]
  },
  {
   "cell_type": "markdown",
   "id": "a472826c",
   "metadata": {},
   "source": [
    "init 메서드에 다른 argument를 넘겨주어 attribute 값을 지정할 수 있다.\n",
    "\n",
    "그러나 반드시 맨처음 parameter로는 self가 와야한다.\n",
    "\n",
    "self는 java의 this 키워드의 역할을 한다."
   ]
  },
  {
   "cell_type": "code",
   "execution_count": 3,
   "id": "e41037eb",
   "metadata": {},
   "outputs": [],
   "source": [
    "class Shape:\n",
    "    def __init__(self, name, length):\n",
    "        self.name = name\n",
    "        self.length = length"
   ]
  },
  {
   "cell_type": "code",
   "execution_count": 4,
   "id": "410252d0",
   "metadata": {},
   "outputs": [
    {
     "name": "stdout",
     "output_type": "stream",
     "text": [
      "shape1\n",
      "10cm\n"
     ]
    }
   ],
   "source": [
    "s = Shape('shape1', \"10cm\")\n",
    "print(s.name)\n",
    "print(s.length)"
   ]
  },
  {
   "cell_type": "markdown",
   "id": "daf6bb97",
   "metadata": {},
   "source": [
    "## static method"
   ]
  },
  {
   "cell_type": "markdown",
   "id": "ff7fa850",
   "metadata": {},
   "source": [
    "클래스가 attribute를 갖지 않고 결과만 리턴해주는 경우에는 @staticmethod라는 데코레이터를 사용하여 객체 없이 클래스 이름으로 메소드에 접근 할 수 있다."
   ]
  },
  {
   "cell_type": "code",
   "execution_count": 8,
   "id": "d50361a2",
   "metadata": {},
   "outputs": [],
   "source": [
    "class Shape:\n",
    "    @staticmethod\n",
    "    def calc_area(r):\n",
    "        return 3.14 * r ** 2"
   ]
  },
  {
   "cell_type": "code",
   "execution_count": 9,
   "id": "1c213c29",
   "metadata": {},
   "outputs": [
    {
     "data": {
      "text/plain": [
       "28.26"
      ]
     },
     "execution_count": 9,
     "metadata": {},
     "output_type": "execute_result"
    }
   ],
   "source": [
    "Shape.calc_area(3)"
   ]
  },
  {
   "cell_type": "markdown",
   "id": "4837d4e5",
   "metadata": {},
   "source": [
    "s = Shape()\n",
    "\n",
    "s.calc_area(3)\n",
    "\n",
    "와 같이 객체생성 없이 클래스 이름으로 바로 메서드를 호출할 수 있다."
   ]
  },
  {
   "cell_type": "markdown",
   "id": "5dd70717",
   "metadata": {},
   "source": [
    "나머지는 instance method라고 불리는 듯 하다."
   ]
  },
  {
   "cell_type": "markdown",
   "id": "dc52beff",
   "metadata": {},
   "source": [
    "## 상속"
   ]
  },
  {
   "cell_type": "markdown",
   "id": "6f49ae8e",
   "metadata": {},
   "source": [
    "클래스를 사용함의 큰 이점은 두 클래스의 공통적인 관계, 즉 기본적인 기능을 하나의 클래스로 작성할 수 있다는 점이다."
   ]
  },
  {
   "cell_type": "code",
   "execution_count": 20,
   "id": "b26481c9",
   "metadata": {},
   "outputs": [],
   "source": [
    "class Shape:\n",
    "    def __init__(self, base, height):\n",
    "        self.base = base\n",
    "        self.height = height\n",
    "        \n",
    "    def print_shape_info(self):\n",
    "        print(f'밑변 : {self.base}, 높이 : {self.height}')    \n",
    "        \n",
    "    def calc_area(self):\n",
    "        return self.base * self.height"
   ]
  },
  {
   "cell_type": "markdown",
   "id": "2cc6faeb",
   "metadata": {},
   "source": [
    "먼저 부모 클래스가 될 Shape 클래스를 정의하였고, print_shape_info()메서드는 밑변과 높이를 출력하는 역할을 한다."
   ]
  },
  {
   "cell_type": "code",
   "execution_count": 14,
   "id": "5f8fc39e",
   "metadata": {},
   "outputs": [
    {
     "name": "stdout",
     "output_type": "stream",
     "text": [
      "밑변 : 3, 높이 : 5\n"
     ]
    }
   ],
   "source": [
    "s = Shape(3, 5)\n",
    "s.print_shape_info()"
   ]
  },
  {
   "cell_type": "markdown",
   "id": "344627ae",
   "metadata": {},
   "source": [
    "Shape를 상속하는 Rectangle 클래스와 Triangle 클래스를 작성하였다."
   ]
  },
  {
   "cell_type": "code",
   "execution_count": 21,
   "id": "ee44885c",
   "metadata": {},
   "outputs": [],
   "source": [
    "class Rectangle(Shape):\n",
    "    def __init__(self, base, height):\n",
    "        self.base = base\n",
    "        self.height = height\n",
    "        \n",
    "class Triangle(Shape):\n",
    "    def __init__(self, base, height):\n",
    "        self.base = base\n",
    "        self.height = height"
   ]
  },
  {
   "cell_type": "markdown",
   "id": "f6b44618",
   "metadata": {},
   "source": [
    "이제 Rectangle 클래스와 Triangle 클래스는 print_shape_info()메서드를 추가로 작성하지 않아도, 부모클래스의 print_shape_info()메서드와 calc_area()메서드를 재사용 할 수 있다. "
   ]
  },
  {
   "cell_type": "code",
   "execution_count": 22,
   "id": "809921f2",
   "metadata": {},
   "outputs": [
    {
     "name": "stdout",
     "output_type": "stream",
     "text": [
      "밑변 : 4, 높이 : 5\n",
      "밑변 : 5, 높이 : 6\n"
     ]
    }
   ],
   "source": [
    "r = Rectangle(4, 5)\n",
    "r.print_shape_info()\n",
    "t = Triangle(5, 6)\n",
    "t.print_shape_info()"
   ]
  },
  {
   "cell_type": "markdown",
   "id": "a6edfe30",
   "metadata": {},
   "source": [
    "### method override"
   ]
  },
  {
   "cell_type": "markdown",
   "id": "3cafb607",
   "metadata": {},
   "source": [
    "부모 클래스의 method를 재정의하는 경우를 method override라고 한다.\n",
    "\n",
    "사각형의 넓이는 밑변 * 높이로 구할 수 있겠지만, 삼각형의 넓이는 / 2를 해야한다. \n",
    "\n",
    "삼각형의 경우에는 calc_area()메서드를 재정의 해야한다."
   ]
  },
  {
   "cell_type": "code",
   "execution_count": 24,
   "id": "bd07fced",
   "metadata": {},
   "outputs": [],
   "source": [
    "class Triangle(Shape):\n",
    "    def __init__(self, base, height):\n",
    "        self.base = base\n",
    "        self.height = height\n",
    "        \n",
    "    def calc_area(self):\n",
    "        return self.base * self.height / 2"
   ]
  },
  {
   "cell_type": "code",
   "execution_count": 27,
   "id": "8bd0f4e3",
   "metadata": {},
   "outputs": [
    {
     "name": "stdout",
     "output_type": "stream",
     "text": [
      "20\n",
      "15.0\n"
     ]
    }
   ],
   "source": [
    "r = Rectangle(4, 5)\n",
    "print(r.calc_area())\n",
    "t = Triangle(5, 6)\n",
    "print(t.calc_area())"
   ]
  },
  {
   "cell_type": "markdown",
   "id": "918300b0",
   "metadata": {},
   "source": [
    "calc_area() 메서드로 삼각형과 사각형의 넓이가 모두 올바르게 잘 구해졌다."
   ]
  },
  {
   "cell_type": "markdown",
   "id": "b17482f2",
   "metadata": {},
   "source": [
    "### super()"
   ]
  },
  {
   "cell_type": "markdown",
   "id": "b6ba1d64",
   "metadata": {},
   "source": [
    "super()로 부모클래스에 접근할 수 있다.\n",
    "\n",
    "예를 들어 calc_area 메서드에 밑변과 높이를 출력해주는 print_shape_info 메서드의 기능을 추가하고 싶을때, 다시 메서드를 작성할 필요 없이 다음과 같이 활용할 수 있다."
   ]
  },
  {
   "cell_type": "code",
   "execution_count": 29,
   "id": "9989658e",
   "metadata": {},
   "outputs": [],
   "source": [
    "class Triangle(Shape):\n",
    "    def __init__(self, base, height):\n",
    "        self.base = base\n",
    "        self.height = height\n",
    "        \n",
    "    def calc_area(self):\n",
    "        super().print_shape_info() # 부모클래스인 Shape 클래스의 print_shape_info()를 호출함\n",
    "        return self.base * self.height / 2"
   ]
  },
  {
   "cell_type": "code",
   "execution_count": 30,
   "id": "15b76ac0",
   "metadata": {},
   "outputs": [
    {
     "name": "stdout",
     "output_type": "stream",
     "text": [
      "밑변 : 5, 높이 : 6\n"
     ]
    },
    {
     "data": {
      "text/plain": [
       "15.0"
      ]
     },
     "execution_count": 30,
     "metadata": {},
     "output_type": "execute_result"
    }
   ],
   "source": [
    "t = Triangle(5, 6)\n",
    "t.calc_area()"
   ]
  },
  {
   "cell_type": "markdown",
   "id": "c05bc94e",
   "metadata": {},
   "source": [
    "## special method"
   ]
  },
  {
   "cell_type": "markdown",
   "id": "c101cd06",
   "metadata": {},
   "source": [
    "만들어진 객체를 프린트 하면 다음과 같이 알아보기 힘든 형태가 된다."
   ]
  },
  {
   "cell_type": "code",
   "execution_count": 31,
   "id": "ae3cc164",
   "metadata": {},
   "outputs": [
    {
     "name": "stdout",
     "output_type": "stream",
     "text": [
      "<__main__.Triangle object at 0x0000027913CAC370>\n"
     ]
    }
   ],
   "source": [
    "print(t)"
   ]
  },
  {
   "cell_type": "markdown",
   "id": "d8283002",
   "metadata": {},
   "source": [
    "print함수를 custom하여 알아보기 쉬운형태로 출력하도록 할 수 있다.\n",
    "\n",
    "이것은 \\_\\_str\\_\\_() 함수를 오버라이딩하여 해결할 수 있다."
   ]
  },
  {
   "cell_type": "code",
   "execution_count": 36,
   "id": "42f04b40",
   "metadata": {},
   "outputs": [],
   "source": [
    "class Triangle(Shape):\n",
    "    def __init__(self, base, height):\n",
    "        self.base = base\n",
    "        self.height = height\n",
    "        \n",
    "    def calc_area(self):\n",
    "        super().print_shape_info() # 부모클래스인 Shape 클래스의 print_shape_info()를 호출함\n",
    "        return self.base * self.height / 2\n",
    "    \n",
    "    def __str__(self):\n",
    "        super().print_shape_info()\n",
    "        return '삼각형'"
   ]
  },
  {
   "cell_type": "code",
   "execution_count": 37,
   "id": "d92d3955",
   "metadata": {},
   "outputs": [
    {
     "name": "stdout",
     "output_type": "stream",
     "text": [
      "밑변 : 3, 높이 : 4\n",
      "삼각형\n"
     ]
    }
   ],
   "source": [
    "t = Triangle(3, 4)\n",
    "print(t)"
   ]
  },
  {
   "cell_type": "markdown",
   "id": "579993da",
   "metadata": {},
   "source": [
    "이와 비슷하게 몇가지 함수를 오버라이딩 하면 파이썬의 기본 연산자도 custom 할 수 있다.\n",
    "\n",
    "삼각형 객체를 두개 만들어, 두개를 더했을때 높이는 높이에, 밑변은 밑변에 더해진 삼각형 객체가 만들어 졌으면 좋겠다."
   ]
  },
  {
   "cell_type": "code",
   "execution_count": 39,
   "id": "c1bc09b7",
   "metadata": {},
   "outputs": [],
   "source": [
    "class Triangle(Shape):\n",
    "    def __init__(self, base, height):\n",
    "        self.base = base\n",
    "        self.height = height\n",
    "        \n",
    "    def calc_area(self):\n",
    "        super().print_shape_info() # 부모클래스인 Shape 클래스의 print_shape_info()를 호출함\n",
    "        return self.base * self.height / 2\n",
    "    \n",
    "    def __str__(self):\n",
    "        super().print_shape_info()\n",
    "        return '삼각형'\n",
    "    \n",
    "    def __add__(self, other_triangle):\n",
    "        base = self.base + other_triangle.base\n",
    "        height = self.height + other_triangle.height\n",
    "        return Triangle(base, height)"
   ]
  },
  {
   "cell_type": "code",
   "execution_count": 40,
   "id": "922f74e3",
   "metadata": {},
   "outputs": [
    {
     "name": "stdout",
     "output_type": "stream",
     "text": [
      "밑변 : 8, 높이 : 10\n",
      "삼각형\n"
     ]
    }
   ],
   "source": [
    "t1 = Triangle(3, 4)\n",
    "t2 = Triangle(5, 6)\n",
    "t3 = t1 + t2\n",
    "print(t3)"
   ]
  },
  {
   "cell_type": "markdown",
   "id": "6b0b6b35",
   "metadata": {},
   "source": [
    "t1과 t2를 더해서 만든 t3는 Triangle 객체로 밑변은 밑변끼리 높이는 높이끼리 잘 더해진 것을 확인할 수 있다."
   ]
  },
  {
   "cell_type": "markdown",
   "id": "1c97c1aa",
   "metadata": {},
   "source": [
    "이와 비슷하게 몇가지 함수를 오버라이딩 하면 파이썬의 기본 연산자도 custom 할 수 있다.\n",
    "\n",
    "- '+' 연산자를 지원하고 싶은 경우 -> \\_\\_add\\_\\_() 메서드를 오버라이딩 한다.\n",
    "- '-' 연산자를 지원하고 싶은 경우 -> \\_\\_sub\\_\\_() 메서드를 오버라이딩 한다.\n",
    "- '\\*' 연산자를 지원하고 싶은 경우 -> \\_\\_mul\\_\\_() 메서드를 오버라이딩 한다.\n",
    "\n",
    "- len() 내장 함수를 지원하고 싶은 경우 -> \\_\\_len\\_\\_() 메서드를 오버라이딩 한다.\n",
    "- slicing을 지원하고 싶은 경우 -> \\_\\_getitem\\_\\_(self, index)를 구현한다.\n",
    "\n",
    "- 객체의 내용물 비교를 위한 \"==\"연산을 지원하고 싶은 경우 -> \\_\\_eq\\_\\_()를 오버라이딩한다.\n",
    "- 객체의 내용물 비교를 위한 \"!=\"연산을 지원하고 싶은 경우 -> \\_\\_ne\\_\\_()를 오버라이딩한다.\n",
    "- abs()함수를 지원하고 싶은 경우 -> \\_\\_abs\\_\\_()를 오버라이딩한다."
   ]
  },
  {
   "cell_type": "code",
   "execution_count": 43,
   "id": "848666a5",
   "metadata": {},
   "outputs": [],
   "source": [
    "class Mylist():\n",
    "    def __init__(self):\n",
    "        self.items = range(1, 100)\n",
    "        \n",
    "    def __len__(self):\n",
    "        return len(self.items)\n",
    "    \n",
    "    def __getitem__(self, index):\n",
    "        return list(self.items[index])"
   ]
  },
  {
   "cell_type": "code",
   "execution_count": 44,
   "id": "6061b9e3",
   "metadata": {},
   "outputs": [
    {
     "name": "stdout",
     "output_type": "stream",
     "text": [
      "99\n",
      "[35, 36, 37]\n"
     ]
    }
   ],
   "source": [
    "ml = Mylist()\n",
    "print(len(ml))\n",
    "print(ml[34:37])"
   ]
  },
  {
   "cell_type": "markdown",
   "id": "de75985f",
   "metadata": {},
   "source": [
    "위와 같은 함수들을 special method라고 하며 해당 메소드들을 오버라이딩 하면, 커스텀 객체에 파이썬 내장함수나 연산자를 적용할 수 있다.\n",
    "\n",
    "[오버라이딩 가능 함수 목록](https://docs.python.org/3/reference/datamodel.html#special-method-names)"
   ]
  }
 ],
 "metadata": {
  "kernelspec": {
   "display_name": "Python 3 (ipykernel)",
   "language": "python",
   "name": "python3"
  },
  "language_info": {
   "codemirror_mode": {
    "name": "ipython",
    "version": 3
   },
   "file_extension": ".py",
   "mimetype": "text/x-python",
   "name": "python",
   "nbconvert_exporter": "python",
   "pygments_lexer": "ipython3",
   "version": "3.9.7"
  }
 },
 "nbformat": 4,
 "nbformat_minor": 5
}
