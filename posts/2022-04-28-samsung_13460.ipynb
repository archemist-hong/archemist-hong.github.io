{
 "cells": [
  {
   "cell_type": "markdown",
   "id": "d176c859",
   "metadata": {},
   "source": [
    "## [13460](https://www.acmicpc.net/problem/13460)"
   ]
  },
  {
   "cell_type": "markdown",
   "id": "8c4ffe3e",
   "metadata": {},
   "source": [
    "[유튜브강의](https://www.youtube.com/watch?v=HIJ6ke8RYxg)"
   ]
  },
  {
   "cell_type": "markdown",
   "id": "92f02265",
   "metadata": {},
   "source": [
    "메모리 : 32628KB\n",
    "시간 : 92ms"
   ]
  },
  {
   "cell_type": "code",
   "execution_count": 50,
   "id": "32a6216e",
   "metadata": {},
   "outputs": [
    {
     "name": "stdout",
     "output_type": "stream",
     "text": [
      "7 7\n",
      "#######\n",
      "#...RB#\n",
      "#.#####\n",
      "#.....#\n",
      "#####.#\n",
      "#O....#\n",
      "#######\n",
      "5\n"
     ]
    }
   ],
   "source": [
    "from collections import deque\n",
    "\n",
    "class Ball:\n",
    "    def __init__(self, row: int, col: int, is_red: bool):\n",
    "        self.r = row\n",
    "        self.c = col\n",
    "        self.is_red = is_red\n",
    "    # d 방향으로 이동한 상태의 Ball 객체\n",
    "    # 해당하는 방향으로 쭉 이동 -> O를 만나면 거기서 종료, #을 만나면 #이전 상태에서 반환\n",
    "    def move(self, d: int):\n",
    "        i = 1\n",
    "        while True:\n",
    "            nr = self.r + deltas[d][0]*i\n",
    "            nc = self.c + deltas[d][1]*i\n",
    "            # 구멍을 만났다면?\n",
    "            if map_[nr][nc] == 'O':\n",
    "                return Ball(nr, nc, self.is_red)\n",
    "            # 벽을 만나면 벽 이전에서 멈춰야 한다. 그리고 Ball의 위치에 가벽을 세워주자!\n",
    "            elif map_[nr][nc] == '#':\n",
    "                new_ball = Ball(nr - deltas[d][0], nc - deltas[d][1], self.is_red)\n",
    "                map_[new_ball.r][new_ball.c] = '#' # 가벽 세우기 -> 이번 동작이 끝나면 치워주자!\n",
    "                return new_ball\n",
    "            i+=1\n",
    "        \n",
    "class BallPair:\n",
    "    def __init__(self, red: Ball, blue: Ball):\n",
    "        self.red = red\n",
    "        self.blue = blue\n",
    "        self.ordered = [red, blue]\n",
    "    # 북, 남, 서, 동 : 0 ,1 ,2 ,3\n",
    "    def re_order(self, d: int):\n",
    "        if d == 0: # 위쪽으로 기울일때, row가 작은녀석이 먼저\n",
    "            self.ordered[0] = (self.red if self.red.r < self.blue.r else self.blue)\n",
    "        elif d == 1: # 아래쪽으로 기울일때, row가 큰녀석이 먼저\n",
    "            self.ordered[0] = (self.red if self.red.r > self.blue.r else self.blue)\n",
    "        elif d == 2: # 왼쪽으로 기울일때, col이 작은녀석 먼저\n",
    "            self.ordered[0] = (self.red if self.red.c < self.blue.c else self.blue)\n",
    "        else: # 오른쪽으로 기울일때, col이 큰녀석 먼저\n",
    "            self.ordered[0] = (self.red if self.red.c > self.blue.c else self.blue)\n",
    "        self.ordered[1] = (self.blue if self.ordered[0].is_red else self.red)\n",
    "\n",
    "def bfs(red: Ball, blue: Ball) -> int:\n",
    "    queue = deque()\n",
    "    \n",
    "    visited = [[[[False] * C for _ in range(R)] for _ in range(C)] for _ in range(R)] # red r, red c, blue r, blue c\n",
    "    \n",
    "    # 초기설정\n",
    "    queue.append(BallPair(red, blue))\n",
    "    visited[red.r][red.c][blue.r][blue.c] = True\n",
    "    \n",
    "    turn = 1\n",
    "    size = 0\n",
    "    while queue:\n",
    "        size = len(queue)\n",
    "        while size > 0:\n",
    "            # 가장 앞에 녀석 가져오기\n",
    "            head = queue.popleft()\n",
    "            \n",
    "            # 각 방향으로 이동시켜보기\n",
    "            for d in range(len(deltas)):\n",
    "                # 각각의 볼을 이동시킨다 - 누가 먼저?\n",
    "                head.re_order(d)\n",
    "                # 선 후공에 따라서 ball들을 이동시키기 - Ball class에 정의\n",
    "                move_first = head.ordered[0].move(d)\n",
    "                move_second = head.ordered[1].move(d)\n",
    "                # 두 공의 이동 과정에서 만들었던 가벽 제거\n",
    "                if map_[move_first.r][move_first.c] == '#':\n",
    "                    map_[move_first.r][move_first.c] = '.'\n",
    "                if map_[move_second.r][move_second.c] == '#':\n",
    "                    map_[move_second.r][move_second.c] = '.'\n",
    "                # 누가 빨간색?\n",
    "                red_one = (move_first if move_first.is_red else move_second)\n",
    "                blue_one = (move_second if move_first.is_red else move_first)\n",
    "                # 공들의 이동 결과에 대한 판단\n",
    "                # 파란색 공이 들어가면 -> fail, 다음시도로 진행 -> continue\n",
    "                if map_[blue_one.r][blue_one.c] == 'O':\n",
    "                    continue\n",
    "                # 파란색은 안들어가고 빨간색이 들어가면 -> success -> return\n",
    "                elif map_[red_one.r][red_one.c] == 'O':\n",
    "                    return turn\n",
    "                # 둘다 안들어가면 일반적인 BFS 탐색 진행\n",
    "                else:\n",
    "                    if not visited[red_one.r][red_one.c][blue_one.r][blue_one.c]:\n",
    "                        visited[red_one.r][red_one.c][blue_one.r][blue_one.c] = True\n",
    "                        queue.append(BallPair(red_one, blue_one))\n",
    "            size -= 1\n",
    "        # turn 종료\n",
    "        # 최대한 탐색은 10번까지만\n",
    "        if turn == 10:\n",
    "            break\n",
    "        else:\n",
    "            turn += 1\n",
    "    return -1\n",
    "\n",
    "R, C = map(int, input().split())\n",
    "\n",
    "map_ = []\n",
    "for r in range(R):\n",
    "    map_.append(list(input()))\n",
    "    for c in range(C):\n",
    "        if map_[r][c] == 'R':\n",
    "            red = Ball(r, c, True)\n",
    "        elif map_[r][c] == 'B':\n",
    "            blue = Ball(r, c, False)\n",
    "# 입력 완료\n",
    "\n",
    "deltas = [(-1, 0), (1, 0), (0, -1), (0, 1)] # 북, 남, 서, 동\n",
    "        \n",
    "print(bfs(red, blue))"
   ]
  },
  {
   "cell_type": "markdown",
   "id": "5ea190c8",
   "metadata": {},
   "source": [
    "파이썬의 문자열은 수정이 안되니까 주의하자\n",
    "\n",
    "**수정이 되게끔 하기위해서 list(string)으로 사용하자**\n",
    "\n",
    "visited = [False for _ in range(C)] \n",
    "visited = [visited for _ in range(R)]\n",
    "visited = [visited for _ in range(C)]\n",
    "visited = [visited for _ in range(R)]\n",
    "\n",
    "위와 같은 방법으로 4차원 리스트를 만들면, [0,0,0,0]에만 값이 대입되는것이 아니라, 다른곳에도 함께 대입되어 문제가 생긴다.\n",
    "이 방법은 리스트를 초기화 시킬때 모든 행이 같은 객체로 인식되기 때문이다.\n",
    "\n",
    "visited = [[[[False] * C for _ in range(R)] for _ in range(C)] for _ in range(R)] # red r, red c, blue r, blue c\n",
    "\n",
    "**위와 같이 리스트를 초기화 할 수 있도록 반드시 숙달하자.**"
   ]
  },
  {
   "cell_type": "code",
   "execution_count": 25,
   "id": "6c4d6671",
   "metadata": {},
   "outputs": [],
   "source": [
    "all = [var for var in globals() if var[0] != \"_\"]\n",
    "for var in all:\n",
    "    del globals()[var]"
   ]
  },
  {
   "cell_type": "markdown",
   "id": "ecc44b14",
   "metadata": {},
   "source": [
    "모든 변수를 초기화하는 문장도, 코딩테스트에서 필요하므로 암기하자"
   ]
  }
 ],
 "metadata": {
  "kernelspec": {
   "display_name": "Python 3 (ipykernel)",
   "language": "python",
   "name": "python3"
  },
  "language_info": {
   "codemirror_mode": {
    "name": "ipython",
    "version": 3
   },
   "file_extension": ".py",
   "mimetype": "text/x-python",
   "name": "python",
   "nbconvert_exporter": "python",
   "pygments_lexer": "ipython3",
   "version": "3.9.7"
  }
 },
 "nbformat": 4,
 "nbformat_minor": 5
}
