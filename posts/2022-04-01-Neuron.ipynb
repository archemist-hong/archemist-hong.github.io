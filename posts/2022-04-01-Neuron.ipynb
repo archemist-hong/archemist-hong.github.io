{
 "cells": [
  {
   "cell_type": "markdown",
   "id": "e996b9f7",
   "metadata": {},
   "source": [
    "# 뉴런"
   ]
  },
  {
   "cell_type": "markdown",
   "id": "ecd44b94",
   "metadata": {},
   "source": [
    "인공 신경망의 기본단위인 뉴런은 [Affine Transformation](https://luv-n-interest.tistory.com/810)과 Activation function으로 구성된다.\n",
    "\n",
    "하나의 뉴런은 weight 와 bias 라는 parameter를 갖는다."
   ]
  },
  {
   "cell_type": "markdown",
   "id": "873b3710",
   "metadata": {},
   "source": [
    "이미지"
   ]
  },
  {
   "cell_type": "markdown",
   "id": "2b3ebc6f",
   "metadata": {},
   "source": [
    "Activation function\n",
    "- Sigmoid (정보 이론에서 logit을 probability로 변환시켜주는 역할)\n",
    "- Tanh\n",
    "- ReLU 등\n",
    "\n",
    "Sigmoid를 사용하는 경우\n",
    "\\\\(a = {1 \\over (1 + exp^{-z})}\\\\)"
   ]
  },
  {
   "cell_type": "markdown",
   "id": "c9e50048",
   "metadata": {},
   "source": [
    "## x가 1개 이고, 뉴런도 1개인 경우"
   ]
  },
  {
   "cell_type": "markdown",
   "id": "54cd1e99",
   "metadata": {},
   "source": [
    "Affine transformation\n",
    "- \\\\(z = xw +b\\\\)"
   ]
  },
  {
   "cell_type": "markdown",
   "id": "e98c6459",
   "metadata": {},
   "source": [
    "## x가 p개의 변수로 구성되고(다변량), 뉴런이 1개인 경우"
   ]
  },
  {
   "cell_type": "code",
   "execution_count": null,
   "id": "a3bcc8ba",
   "metadata": {},
   "outputs": [],
   "source": [
    "이미지"
   ]
  },
  {
   "cell_type": "markdown",
   "id": "72b994eb",
   "metadata": {},
   "source": [
    "## 다변량 x가 여러개이고(sample size가 n개), 뉴런이 1개인 경우"
   ]
  },
  {
   "cell_type": "code",
   "execution_count": null,
   "id": "7aaa980e",
   "metadata": {},
   "outputs": [],
   "source": [
    "이미지"
   ]
  },
  {
   "cell_type": "markdown",
   "id": "9f06939f",
   "metadata": {},
   "source": [
    "# 실습"
   ]
  },
  {
   "cell_type": "markdown",
   "id": "b5cdad07",
   "metadata": {},
   "source": [
    "## x가 1개 이고, 뉴런도 1개인 경우"
   ]
  },
  {
   "cell_type": "markdown",
   "id": "3f5b0741",
   "metadata": {},
   "source": [
    "### pytorch"
   ]
  },
  {
   "cell_type": "markdown",
   "id": "77f97c22",
   "metadata": {},
   "source": [
    "```python\n",
    "import torch\n",
    "\n",
    "x = torch.tensor([[10.]])\n",
    "\n",
    "Linear = torch.nn.Linear(in_features = 1, out_features = 1)\n",
    "Sigmoid = torch.nn.Sigmoid()\n",
    "\n",
    "y = Sigmoid(Linear(x))\n",
    "\n",
    "W = Linear.weight\n",
    "B = Linear.bias\n",
    "\n",
    "print(f'y(Pytorch) : {y.detach().numpy()}')\n",
    "print(f'Weight(Pytorch) : {W.detach().numpy()}')\n",
    "print(f'Bias(Pytorch) : {B.detach().numpy()}')\n",
    "```"
   ]
  },
  {
   "cell_type": "markdown",
   "id": "1559dfb6",
   "metadata": {},
   "source": [
    "y(Pytorch) : [[0.9213998]]\n",
    "\n",
    "Weight(Pytorch) : [[0.28007793]]\n",
    "\n",
    "Bias(Pytorch) : [-0.3392594]"
   ]
  },
  {
   "cell_type": "markdown",
   "id": "1c89da4e",
   "metadata": {},
   "source": [
    "### numpy"
   ]
  },
  {
   "cell_type": "markdown",
   "id": "106951b7",
   "metadata": {},
   "source": [
    "```python\n",
    "import numpy as np\n",
    "\n",
    "z = 10.0 * 0.28007793 - 0.3392594\n",
    "y = 1 / (1 + np.exp(-z))\n",
    "print(y)\n",
    "```"
   ]
  },
  {
   "cell_type": "markdown",
   "id": "0d596e33",
   "metadata": {},
   "source": [
    "0.9213998078592858"
   ]
  },
  {
   "cell_type": "markdown",
   "id": "97985063",
   "metadata": {},
   "source": [
    "## x가 p개의 변수로 구성되고(다변량), 뉴런이 1개인 경우"
   ]
  },
  {
   "cell_type": "markdown",
   "id": "d209d1ed",
   "metadata": {},
   "source": [
    "### pytorch"
   ]
  },
  {
   "cell_type": "markdown",
   "id": "e240cf4c",
   "metadata": {},
   "source": [
    "```python\n",
    "import torch\n",
    "\n",
    "x = torch.tensor([[10., 5., 3., 1.]])\n",
    "\n",
    "Linear = torch.nn.Linear(in_features = 4, out_features = 1)\n",
    "Sigmoid = torch.nn.Sigmoid()\n",
    "\n",
    "y = Sigmoid(Linear(x))\n",
    "\n",
    "W = Linear.weight\n",
    "B = Linear.bias\n",
    "\n",
    "print(f'y(Pytorch) : {y.detach().numpy()}')\n",
    "print(f'Weight(Pytorch) : {W.detach().numpy()}')\n",
    "print(f'Bias(Pytorch) : {B.detach().numpy()}')\n",
    "```"
   ]
  },
  {
   "cell_type": "markdown",
   "id": "bd277b10",
   "metadata": {},
   "source": [
    "y(Pytorch) : [[0.0026371]]\n",
    "\n",
    "Weight(Pytorch) : [[-0.49273372 -0.2617575   0.01708454  0.44085765]]\n",
    "\n",
    "Bias(Pytorch) : [-0.19142264]"
   ]
  },
  {
   "cell_type": "markdown",
   "id": "e7849746",
   "metadata": {},
   "source": [
    "### numpy"
   ]
  },
  {
   "cell_type": "markdown",
   "id": "56157a60",
   "metadata": {},
   "source": [
    "```python\n",
    "import numpy as np\n",
    "\n",
    "x_T = x.detach().numpy()\n",
    "W_T = W.detach().numpy()\n",
    "\n",
    "z = np.matmul(x_T, W_T.transpose()) - 0.19142264\n",
    "y = 1 / (1 + np.exp(-z))\n",
    "print(y)\n",
    "```"
   ]
  },
  {
   "cell_type": "markdown",
   "id": "822e5fa0",
   "metadata": {},
   "source": [
    "[[0.0026371]]"
   ]
  },
  {
   "cell_type": "markdown",
   "id": "fc09eafd",
   "metadata": {},
   "source": [
    "## 다변량 x가 여러개이고(sample size가 n개), 뉴런이 1개인 경우"
   ]
  },
  {
   "cell_type": "markdown",
   "id": "bb472ec3",
   "metadata": {},
   "source": [
    "### pytorch"
   ]
  },
  {
   "cell_type": "markdown",
   "id": "12aeed4a",
   "metadata": {},
   "source": [
    "```python\n",
    "import torch\n",
    "\n",
    "x = torch.rand((4, 2))\n",
    "\n",
    "Linear = torch.nn.Linear(in_features = 2, out_features = 1)\n",
    "Sigmoid = torch.nn.Sigmoid()\n",
    "\n",
    "y = Sigmoid(Linear(x))\n",
    "\n",
    "W = Linear.weight\n",
    "B = Linear.bias\n",
    "\n",
    "print(f'y(Pytorch) : \\n {y.detach().numpy()}')\n",
    "print(f'Weight(Pytorch) : {W.detach().numpy()}')\n",
    "print(f'Bias(Pytorch) : {B.detach().numpy()}')\n",
    "```"
   ]
  },
  {
   "cell_type": "markdown",
   "id": "89c8d1bf",
   "metadata": {},
   "source": [
    "y(Pytorch) : \n",
    "\n",
    " [[0.68523717]\n",
    " \n",
    " [0.72653574]\n",
    " \n",
    " [0.66456914]\n",
    " \n",
    " [0.5666909 ]]\n",
    " \n",
    "Weight(Pytorch) : [[0.6898143  0.37645656]]\n",
    "\n",
    "Bias(Pytorch) : [0.03636498]"
   ]
  },
  {
   "cell_type": "markdown",
   "id": "3f95e5fb",
   "metadata": {},
   "source": [
    "### numpy"
   ]
  },
  {
   "cell_type": "markdown",
   "id": "ee0899b4",
   "metadata": {},
   "source": [
    "```python\n",
    "import numpy as np\n",
    "\n",
    "x_T = x.detach().numpy()\n",
    "W_T = W.detach().numpy()\n",
    "\n",
    "z = np.matmul(x_T, W_T.transpose()) + B.detach().numpy()\n",
    "y = 1 / (1 + np.exp(-z))\n",
    "print(y)\n",
    "```"
   ]
  },
  {
   "cell_type": "markdown",
   "id": "3db1d0bc",
   "metadata": {},
   "source": [
    "[[0.68523717]\n",
    "\n",
    " [0.72653574]\n",
    " \n",
    " [0.66456914]\n",
    " \n",
    " [0.5666909 ]]"
   ]
  },
  {
   "cell_type": "markdown",
   "id": "f1df4e6c",
   "metadata": {},
   "source": [
    "## shape"
   ]
  },
  {
   "cell_type": "markdown",
   "id": "644471c5",
   "metadata": {},
   "source": [
    "torch.nn.Linear()에는 in_features로 입력값의 차원(또는 이전 층의 노드 갯수)을, out_feature로 출력값의 차원(Layer에서 노드의 갯수)를 입력하면 되므로 차원계산이 쉽다.\n",
    "\n",
    "pytorch 기준으로\n",
    "노드 갯수가 고정된 상태에서 입력값의 차원 증가(1, p)는 weight의 차원증가(1, p)를 이끌지만 다른것들(y, bias)의 차원에는 영향을 미치지 않는다.\n",
    "\n",
    "노드 갯수가 고정된 상태에서 입력값의 개수증가(n, p)는 y값의 개수 증가(n, 1)를 이끌지만 다른것들(weight, bias)의 차원 및 개수에는 영향을 미치지 않는다."
   ]
  }
 ],
 "metadata": {
  "kernelspec": {
   "display_name": "Python 3 (ipykernel)",
   "language": "python",
   "name": "python3"
  },
  "language_info": {
   "codemirror_mode": {
    "name": "ipython",
    "version": 3
   },
   "file_extension": ".py",
   "mimetype": "text/x-python",
   "name": "python",
   "nbconvert_exporter": "python",
   "pygments_lexer": "ipython3",
   "version": "3.9.7"
  }
 },
 "nbformat": 4,
 "nbformat_minor": 5
}
