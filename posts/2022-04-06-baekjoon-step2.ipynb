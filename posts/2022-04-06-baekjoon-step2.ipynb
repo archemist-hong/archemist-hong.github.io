{
 "cells": [
  {
   "cell_type": "markdown",
   "id": "1623fc3e",
   "metadata": {},
   "source": [
    "# 2.조건문"
   ]
  },
  {
   "cell_type": "markdown",
   "id": "09267d41",
   "metadata": {},
   "source": [
    "## [1330](https://www.acmicpc.net/problem/1330)"
   ]
  },
  {
   "cell_type": "code",
   "execution_count": 5,
   "id": "5edba7e1",
   "metadata": {},
   "outputs": [
    {
     "name": "stdout",
     "output_type": "stream",
     "text": [
      "1 2\n",
      "<\n"
     ]
    }
   ],
   "source": [
    "a, b = [int(x) for x in input().split()] # casting(str -> int)\n",
    "if a > b :\n",
    "    print(\">\")\n",
    "elif a < b :\n",
    "    print(\"<\")\n",
    "else :\n",
    "    print(\"==\")"
   ]
  },
  {
   "cell_type": "markdown",
   "id": "618547cc",
   "metadata": {},
   "source": [
    "## [9498](https://www.acmicpc.net/problem/9498)"
   ]
  },
  {
   "cell_type": "code",
   "execution_count": 7,
   "id": "4c6478e1",
   "metadata": {},
   "outputs": [
    {
     "name": "stdout",
     "output_type": "stream",
     "text": [
      "100\n",
      "A\n"
     ]
    }
   ],
   "source": [
    "score = int(input())\n",
    "if score >= 90:\n",
    "    print(\"A\")\n",
    "elif score >= 80:\n",
    "    print(\"B\")\n",
    "elif score >= 70:\n",
    "    print(\"C\")\n",
    "elif score >= 60:\n",
    "    print(\"D\")\n",
    "else:\n",
    "    print(\"F\")"
   ]
  },
  {
   "cell_type": "markdown",
   "id": "76c79b0c",
   "metadata": {},
   "source": [
    "## [2753](https://www.acmicpc.net/problem/2753)"
   ]
  },
  {
   "cell_type": "code",
   "execution_count": 9,
   "id": "742cb735",
   "metadata": {},
   "outputs": [
    {
     "name": "stdout",
     "output_type": "stream",
     "text": [
      "1999\n",
      "0\n"
     ]
    }
   ],
   "source": [
    "year = int(input())\n",
    "is_multiple = lambda x, y: x % y == 0\n",
    "if is_multiple(year, 400):\n",
    "    print(1)\n",
    "elif is_multiple(year, 4) and (not is_multiple(year, 100)) :\n",
    "    print(1)\n",
    "else:\n",
    "    print(0)"
   ]
  },
  {
   "cell_type": "markdown",
   "id": "142d5ca8",
   "metadata": {},
   "source": [
    "## [14681](https://www.acmicpc.net/problem/14681)"
   ]
  },
  {
   "cell_type": "code",
   "execution_count": 10,
   "id": "75450785",
   "metadata": {},
   "outputs": [
    {
     "name": "stdout",
     "output_type": "stream",
     "text": [
      "12\n",
      "5\n",
      "1\n"
     ]
    }
   ],
   "source": [
    "x = int(input())\n",
    "y = int(input())\n",
    "\n",
    "if x > 0:\n",
    "    if y > 0:\n",
    "        print(1)\n",
    "    else:\n",
    "        print(4)\n",
    "else:\n",
    "    if y > 0:\n",
    "        print(2)\n",
    "    else:\n",
    "        print(3)"
   ]
  },
  {
   "cell_type": "markdown",
   "id": "88876f94",
   "metadata": {},
   "source": [
    "## [2884](https://www.acmicpc.net/problem/2884)"
   ]
  },
  {
   "cell_type": "code",
   "execution_count": 17,
   "id": "af07e2c8",
   "metadata": {},
   "outputs": [
    {
     "name": "stdout",
     "output_type": "stream",
     "text": [
      "0 30\n",
      "23 45\n"
     ]
    }
   ],
   "source": [
    "H, M = [int(t) for t in input().split()] # casting(str -> int)\n",
    "minutes_sanggeun = H * 60 + M\n",
    "\n",
    "if (minutes_sanggeun - 45) < 0:\n",
    "    minutes_changyeong = 24* 60 + (minutes_sanggeun - 45)\n",
    "else:\n",
    "    minutes_changyeong = minutes_sanggeun - 45\n",
    "\n",
    "H_changyeong, M_changyeong = divmod(minutes_changyeong, 60)\n",
    "print(H_changyeong, M_changyeong)"
   ]
  },
  {
   "cell_type": "markdown",
   "id": "8569080c",
   "metadata": {},
   "source": [
    "## [2525](https://www.acmicpc.net/problem/2525)"
   ]
  },
  {
   "cell_type": "code",
   "execution_count": 21,
   "id": "38beb71d",
   "metadata": {},
   "outputs": [
    {
     "name": "stdout",
     "output_type": "stream",
     "text": [
      "23 48\n",
      "25\n",
      "0 13\n"
     ]
    }
   ],
   "source": [
    "A, B = [int(t) for t in input().split()]\n",
    "C = int(input())\n",
    "\n",
    "minutes_now = A * 60 + B\n",
    "minutes_finished = minutes_now + C\n",
    "\n",
    "if minutes_finished >= 24 * 60:\n",
    "    minutes_finished -= 24*60\n",
    "    \n",
    "H_finished, M_finished = divmod(minutes_finished, 60)\n",
    "print(H_finished, M_finished)"
   ]
  },
  {
   "cell_type": "markdown",
   "id": "2fede74b",
   "metadata": {},
   "source": [
    "## [2480](https://www.acmicpc.net/problem/2480)"
   ]
  },
  {
   "cell_type": "code",
   "execution_count": 54,
   "id": "be31ab42",
   "metadata": {},
   "outputs": [
    {
     "name": "stdout",
     "output_type": "stream",
     "text": [
      "3 3 6\n",
      "1300\n"
     ]
    }
   ],
   "source": [
    "dices = [int(d) for d in input().split()]\n",
    "dices.sort()\n",
    "\n",
    "dice1, dice2, dice3 = dices\n",
    "if (dice1 == dice2) and (dice2 == dice3):\n",
    "    print(10000 + dice1 * 1000)\n",
    "elif dice1 == dice2:\n",
    "    print(1000 + dice1 * 100)\n",
    "elif dice2 == dice3:\n",
    "    print(1000 + dice2 * 100)\n",
    "elif dice1 == dice3:\n",
    "    print(1000 + dice1 * 100)\n",
    "else:\n",
    "    print(max(dices) * 100)"
   ]
  }
 ],
 "metadata": {
  "kernelspec": {
   "display_name": "Python 3 (ipykernel)",
   "language": "python",
   "name": "python3"
  },
  "language_info": {
   "codemirror_mode": {
    "name": "ipython",
    "version": 3
   },
   "file_extension": ".py",
   "mimetype": "text/x-python",
   "name": "python",
   "nbconvert_exporter": "python",
   "pygments_lexer": "ipython3",
   "version": "3.9.7"
  }
 },
 "nbformat": 4,
 "nbformat_minor": 5
}
