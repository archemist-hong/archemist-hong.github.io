{
 "cells": [
  {
   "cell_type": "markdown",
   "id": "a7dae0c5",
   "metadata": {},
   "source": [
    "# 1차원 배열"
   ]
  },
  {
   "cell_type": "markdown",
   "id": "d9f865ed",
   "metadata": {},
   "source": [
    "## [10818](https://www.acmicpc.net/problem/10818)"
   ]
  },
  {
   "cell_type": "code",
   "execution_count": 3,
   "id": "a723e31f",
   "metadata": {},
   "outputs": [
    {
     "name": "stdout",
     "output_type": "stream",
     "text": [
      "5\n",
      "20 10 35 30 7\n",
      "7 35\n"
     ]
    }
   ],
   "source": [
    "N = int(input())\n",
    "integers = [int(x) for x in input().split()]\n",
    "_max = max(integers)\n",
    "_min = min(integers)\n",
    "print(_min, _max)"
   ]
  },
  {
   "cell_type": "markdown",
   "id": "178c43f2",
   "metadata": {},
   "source": [
    "## [2562](https://www.acmicpc.net/problem/2562)"
   ]
  },
  {
   "cell_type": "code",
   "execution_count": 8,
   "id": "db8445c4",
   "metadata": {},
   "outputs": [
    {
     "name": "stdout",
     "output_type": "stream",
     "text": [
      "3\n",
      "29\n",
      "38\n",
      "12\n",
      "57\n",
      "74\n",
      "40\n",
      "85\n",
      "61\n",
      "85\n",
      "8\n"
     ]
    }
   ],
   "source": [
    "n1 = int(input())\n",
    "n2 = int(input())\n",
    "n3 = int(input())\n",
    "n4 = int(input())\n",
    "n5 = int(input())\n",
    "n6 = int(input())\n",
    "n7 = int(input())\n",
    "n8 = int(input())\n",
    "n9 = int(input())\n",
    "\n",
    "integers = [n1, n2, n3, n4, n5, n6, n7, n8, n9]\n",
    "_max = n1\n",
    "index = 1\n",
    "max_index = 1\n",
    "for n in range(1, len(integers)):\n",
    "    index += 1\n",
    "    if _max <= integers[n]:\n",
    "        _max = integers[n]\n",
    "        max_index = index\n",
    "        \n",
    "print(_max)\n",
    "print(max_index)"
   ]
  },
  {
   "cell_type": "markdown",
   "id": "e8ce752f",
   "metadata": {},
   "source": [
    "## [2577](https://www.acmicpc.net/problem/2577)"
   ]
  },
  {
   "cell_type": "code",
   "execution_count": 10,
   "id": "3e4dcaa5",
   "metadata": {},
   "outputs": [
    {
     "name": "stdout",
     "output_type": "stream",
     "text": [
      "150\n",
      "266\n",
      "427\n",
      "3\n",
      "1\n",
      "0\n",
      "2\n",
      "0\n",
      "0\n",
      "0\n",
      "2\n",
      "0\n",
      "0\n"
     ]
    }
   ],
   "source": [
    "A = int(input())\n",
    "B = int(input())\n",
    "C = int(input())\n",
    "\n",
    "target = str(A * B * C)\n",
    "for n in range(0, 10):\n",
    "    n = str(n)\n",
    "    counts = [1 for d in target if d == n]\n",
    "    print(sum(counts))"
   ]
  },
  {
   "cell_type": "markdown",
   "id": "4ca74bf1",
   "metadata": {},
   "source": [
    "## [3052](https://www.acmicpc.net/problem/3052)"
   ]
  },
  {
   "cell_type": "code",
   "execution_count": 12,
   "id": "ae2cd092",
   "metadata": {},
   "outputs": [
    {
     "name": "stdout",
     "output_type": "stream",
     "text": [
      "1\n",
      "2\n",
      "3\n",
      "4\n",
      "5\n",
      "6\n",
      "7\n",
      "8\n",
      "9\n",
      "10\n",
      "10\n"
     ]
    }
   ],
   "source": [
    "input1 = int(input())\n",
    "input2 = int(input())\n",
    "input3 = int(input())\n",
    "input4 = int(input())\n",
    "input5 = int(input())\n",
    "input6 = int(input())\n",
    "input7 = int(input())\n",
    "input8 = int(input())\n",
    "input9 = int(input())\n",
    "input10 = int(input())\n",
    "\n",
    "inputs = [input1, input2, input3, input4, input5, input6, input7, input8, input9, input10]\n",
    "unique_remains = set([int(i) % 42 for i in inputs])\n",
    "print(len(unique_remains))"
   ]
  },
  {
   "cell_type": "markdown",
   "id": "30e0f015",
   "metadata": {},
   "source": [
    "## [1546](https://www.acmicpc.net/problem/1546)"
   ]
  },
  {
   "cell_type": "code",
   "execution_count": 15,
   "id": "da71dca7",
   "metadata": {},
   "outputs": [
    {
     "name": "stdout",
     "output_type": "stream",
     "text": [
      "3\n",
      "40 80 60\n",
      "75.0\n"
     ]
    }
   ],
   "source": [
    "N = int(input())\n",
    "scores = [int(x) for x in input().split()]\n",
    "M = max(scores)\n",
    "new_scores = [s/M * 100 for s in scores]\n",
    "print(sum(new_scores)/len(new_scores))"
   ]
  },
  {
   "cell_type": "markdown",
   "id": "b6df3a72",
   "metadata": {},
   "source": [
    "## [8958](https://www.acmicpc.net/problem/8958)"
   ]
  },
  {
   "cell_type": "code",
   "execution_count": 40,
   "id": "f4214e29",
   "metadata": {},
   "outputs": [
    {
     "name": "stdout",
     "output_type": "stream",
     "text": [
      "5\n",
      "OOXXOXXOOO\n",
      "10\n",
      "OOXXOOXXOO\n",
      "9\n",
      "OXOXOXOXOXOXOX\n",
      "7\n",
      "OOOOOOOOOO\n",
      "55\n",
      "OOOOXOOOOXOOOOX\n",
      "30\n"
     ]
    }
   ],
   "source": [
    "def score_of_problem(OX_strings, target_ind):\n",
    "    if OX_strings[target_ind] == 'O':\n",
    "        score = 1\n",
    "        while True:\n",
    "            try :\n",
    "                if (target_ind - score >= 0) and OX_strings[target_ind - score] == 'O':\n",
    "                    score += 1\n",
    "                else:\n",
    "                    break\n",
    "            except:\n",
    "                break\n",
    "    else:\n",
    "        score = 0\n",
    "    return score\n",
    "\n",
    "T = int(input())\n",
    "for t in range(0, T):\n",
    "    OX_string = input()\n",
    "    scores = [score_of_problem(OX_string, i) for i in range(0, len(OX_string))]\n",
    "    print(sum(scores))"
   ]
  },
  {
   "cell_type": "markdown",
   "id": "8d9fafc7",
   "metadata": {},
   "source": [
    "## [4344](https://www.acmicpc.net/problem/4344)"
   ]
  },
  {
   "cell_type": "code",
   "execution_count": 56,
   "id": "5bf57761",
   "metadata": {},
   "outputs": [
    {
     "name": "stdout",
     "output_type": "stream",
     "text": [
      "5\n",
      "5 50 50 70 80 100\n",
      "40.000%\n",
      "7 100 95 90 80 70 60 50\n",
      "57.143%\n",
      "3 70 90 80\n",
      "33.333%\n",
      "3 70 90 81\n",
      "66.667%\n",
      "9 100 99 98 97 96 95 94 93 91\n",
      "55.556%\n"
     ]
    }
   ],
   "source": [
    "C = int(input())\n",
    "for c in range(0, C):\n",
    "    N, *scores = [int(x) for x in input().split()]\n",
    "    mean = sum(scores) / N\n",
    "    count = 0\n",
    "    for s in scores:\n",
    "        if s > mean:\n",
    "            count += 1\n",
    "    ratio = count / N * 100\n",
    "    print(f'{ratio:.3f}%')"
   ]
  }
 ],
 "metadata": {
  "kernelspec": {
   "display_name": "Python 3 (ipykernel)",
   "language": "python",
   "name": "python3"
  },
  "language_info": {
   "codemirror_mode": {
    "name": "ipython",
    "version": 3
   },
   "file_extension": ".py",
   "mimetype": "text/x-python",
   "name": "python",
   "nbconvert_exporter": "python",
   "pygments_lexer": "ipython3",
   "version": "3.9.7"
  }
 },
 "nbformat": 4,
 "nbformat_minor": 5
}
